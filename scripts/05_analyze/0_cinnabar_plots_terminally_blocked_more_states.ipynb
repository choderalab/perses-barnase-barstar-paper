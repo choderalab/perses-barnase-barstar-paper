{
 "cells": [
  {
   "cell_type": "markdown",
   "metadata": {},
   "source": [
    "## Gather the data"
   ]
  },
  {
   "cell_type": "code",
   "execution_count": 1,
   "metadata": {},
   "outputs": [
    {
     "name": "stderr",
     "output_type": "stream",
     "text": [
      "Warning: importing 'simtk.openmm' is deprecated.  Import 'openmm' instead.\n"
     ]
    }
   ],
   "source": [
    "import numpy as np\n",
    "import pickle\n",
    "from simtk.openmm import unit\n",
    "from openmmtools.constants import kB\n",
    "import pandas as pd\n",
    "\n",
    "import matplotlib.pyplot as plt\n",
    "KT_KCALMOL = kB * 300 * unit.kelvin / unit.kilocalories_per_mole"
   ]
  },
  {
   "cell_type": "code",
   "execution_count": 2,
   "metadata": {},
   "outputs": [],
   "source": [
    "def compute_ddg(dg_A, dg_B):\n",
    "    return dg_A * KT_KCALMOL - dg_B * KT_KCALMOL\n",
    "\n",
    "def compute_error(ddg_A, ddg_B):\n",
    "    return (ddg_A**2 + ddg_B**2)**0.5 * KT_KCALMOL"
   ]
  },
  {
   "cell_type": "code",
   "execution_count": 9,
   "metadata": {},
   "outputs": [],
   "source": [
    "# Retrieve free energies\n",
    "\n",
    "main_dir = 46\n",
    "sub_dirs = list(range(4, 9)) + list(range(14, 19)) + list(range(24, 29)) + list(range(34, 39))\n",
    "d_results = {}\n",
    "for sub_dir in sub_dirs:\n",
    "    d_results[sub_dir] = {}\n",
    "    for phase in ['apo']:\n",
    "        with open(f\"/data/chodera/zhangi/perses_benchmark/repex/perses-bnbs-paper-fourth-attempt/{main_dir}/{sub_dir}/replicate_3/{phase}_free_energy_bootstrapped_5ns.pickle\", \"rb\") as f:\n",
    "            results = pickle.load(f)\n",
    "            d_results[sub_dir][phase] = results\n"
   ]
  },
  {
   "cell_type": "code",
   "execution_count": 10,
   "metadata": {},
   "outputs": [],
   "source": [
    "# Format the data appropriately for cinnabar\n",
    "\n",
    "titles = [\"Y2F\", \"Y2A\", \"W2F\", \"T2A\", \"E2A\", \"D2A\", \"K2A\", \"R2A\", \"R2Q\", \"H2A\", \"F2Y\", \"A2Y\", \"F2W\", \"A2T\", \"A2E\", \"A2D\", \"A2K\", \"A2R\", \"Q2R\", \"A2H\"]\n",
    "\n",
    "to_plot = []\n",
    "\n",
    "for sub_dir in list(range(4, 9)) + list(range(14, 19)):\n",
    "    ddg = compute_ddg(d_results[sub_dir]['apo'][\"Deltaf\"][0, -1], d_results[sub_dir + 20]['apo'][\"Deltaf\"][0, -1])\n",
    "    dddg = compute_error(d_results[sub_dir]['apo'][\"dDeltaf\"][0, -1], d_results[sub_dir + 20]['apo'][\"dDeltaf\"][0, -1])\n",
    "    if sub_dir in range(10):\n",
    "        to_plot.append([titles[sub_dir][:-1], titles[sub_dir][-1] + titles[sub_dir][1:-1], ddg, dddg*2, 0])\n",
    "    else:\n",
    "        to_plot.append([\"-\" + titles[sub_dir][:-1], \"-\" + titles[sub_dir][-1] + titles[sub_dir][1:-1], ddg * -1, dddg*2, 0])\n",
    "\n",
    "        "
   ]
  },
  {
   "cell_type": "code",
   "execution_count": 22,
   "metadata": {},
   "outputs": [
    {
     "data": {
      "text/plain": [
       "1.123704022862272"
      ]
     },
     "execution_count": 22,
     "metadata": {},
     "output_type": "execute_result"
    }
   ],
   "source": [
    "d_results[4][\"apo\"][\"dDeltaf\"][0, -1]"
   ]
  },
  {
   "cell_type": "code",
   "execution_count": 23,
   "metadata": {},
   "outputs": [
    {
     "data": {
      "text/plain": [
       "1.0829824730533213"
      ]
     },
     "execution_count": 23,
     "metadata": {},
     "output_type": "execute_result"
    }
   ],
   "source": [
    "d_results[14][\"apo\"][\"dDeltaf\"][0, -1]"
   ]
  },
  {
   "cell_type": "code",
   "execution_count": 11,
   "metadata": {},
   "outputs": [
    {
     "data": {
      "text/plain": [
       "[['E2', 'A2', 4.998650583618984, 1.9132431885739911, 0],\n",
       " ['D2', 'A2', 4.8164207886941375, 1.9495315589789488, 0],\n",
       " ['K2', 'A2', -1.6630510100760603, 1.8845204312528705, 0],\n",
       " ['R2', 'A2', -1.4335522206510802, 2.2654936434529356, 0],\n",
       " ['R2', 'Q2', -1.7745434342498712, 2.5401756037578838, 0],\n",
       " ['-A2', '-E2', 4.85867329282874, 1.9355410172209344, 0],\n",
       " ['-A2', '-D2', 5.298928964800382, 2.011285735643403, 0],\n",
       " ['-A2', '-K2', -1.7817272045740111, 1.8489828892992057, 0],\n",
       " ['-A2', '-R2', -1.5460666304697952, 1.8224305537668484, 0],\n",
       " ['-Q2', '-R2', -1.970239802640691, 2.0267835870076283, 0]]"
      ]
     },
     "execution_count": 11,
     "metadata": {},
     "output_type": "execute_result"
    }
   ],
   "source": [
    "to_plot"
   ]
  },
  {
   "cell_type": "code",
   "execution_count": 12,
   "metadata": {
    "scrolled": true
   },
   "outputs": [
    {
     "name": "stdout",
     "output_type": "stream",
     "text": [
      "['E2', 'A2'] 0.14 5.0 [3.09, 7] 4.86 [2.92, 7] True\n",
      "['D2', 'A2'] -0.48 4.82 [2.87, 7] 5.3 [3.29, 7] True\n",
      "['K2', 'A2'] 0.12 -1.66 [-3.55, 0] -1.78 [-3.63, 0] True\n",
      "['R2', 'A2'] 0.11 -1.43 [-3.7, 1] -1.55 [-3.37, 0] True\n",
      "['R2', 'Q2'] 0.2 -1.77 [-4.31, 1] -1.97 [-4.0, 0] True\n"
     ]
    }
   ],
   "source": [
    "# Get the discrepancy between forward and negative reverse DDGs (including 95% CI error bars)\n",
    "\n",
    "labels_internal_consistency = []\n",
    "for i in range(5):\n",
    "    discrepancy = round(to_plot[i][2] - to_plot[i+5][2], 2)\n",
    "    forward_ddg = round(to_plot[i][2], 2)\n",
    "    reverse_ddg = round(to_plot[i+5][2], 2)\n",
    "    forward_ci = [round(to_plot[i][2] - to_plot[i][3], 2), round(to_plot[i][2] + to_plot[i][3])]\n",
    "    reverse_ci = [round(to_plot[i+5][2] - to_plot[i+5][3], 2), round(to_plot[i+5][2] + to_plot[i+5][3])]\n",
    "    forward_ci_extended = [forward_ci[0] - 1, forward_ci[1] + 1]\n",
    "    reverse_ci_extended = [reverse_ci[0] - 1, reverse_ci[1] + 1]\n",
    "    is_within_error = (forward_ci_extended[0] <= reverse_ddg and reverse_ddg <= forward_ci_extended[1]) or (reverse_ci_extended[0] <= forward_ddg and forward_ddg <= reverse_ci_extended[1])\n",
    "    print(to_plot[i][0:2], discrepancy, forward_ddg, forward_ci, reverse_ddg, reverse_ci, is_within_error)\n",
    "    if not is_within_error:\n",
    "        labels_internal_consistency.append(titles[i])\n",
    "    else:\n",
    "        labels_internal_consistency.append(\"\")\n",
    "    "
   ]
  },
  {
   "cell_type": "code",
   "execution_count": 13,
   "metadata": {},
   "outputs": [
    {
     "name": "stdout",
     "output_type": "stream",
     "text": [
      "[4.999, 4.816, -1.663, -1.434, -1.775]\n",
      "[4.859, 5.299, -1.782, -1.546, -1.97]\n",
      "[1.913, 1.95, 1.885, 2.265, 2.54]\n",
      "[1.936, 2.011, 1.849, 1.822, 2.027]\n"
     ]
    }
   ],
   "source": [
    "# Format data for cinnabar test\n",
    "x = [round(entry[2], 3) for i, entry in enumerate(to_plot) if i < 5] # forward\n",
    "y = [round(entry[2], 3) for i, entry in enumerate(to_plot) if i >= 5] # reverse\n",
    "xerr =  [round(entry[3], 3) for i, entry in enumerate(to_plot) if i < 5] # forward\n",
    "yerr = [round(entry[3], 3) for i, entry in enumerate(to_plot) if i >= 5] # reverse\n",
    "x_data = np.asarray(x)\n",
    "y_data = np.asarray(y)\n",
    "print(x)\n",
    "print(y)\n",
    "print(xerr)\n",
    "print(yerr)"
   ]
  },
  {
   "cell_type": "code",
   "execution_count": 17,
   "metadata": {},
   "outputs": [],
   "source": [
    "# Get labels for charge mutations only\n",
    "labels_charges = []\n",
    "for i in range(10):\n",
    "    if i in [4, 5, 6, 7, 8]:\n",
    "        labels_charges.append(titles[i])"
   ]
  },
  {
   "cell_type": "code",
   "execution_count": 18,
   "metadata": {},
   "outputs": [
    {
     "data": {
      "text/plain": [
       "['E2A', 'D2A', 'K2A', 'R2A', 'R2Q']"
      ]
     },
     "execution_count": 18,
     "metadata": {},
     "output_type": "execute_result"
    }
   ],
   "source": [
    "labels_charges"
   ]
  },
  {
   "cell_type": "markdown",
   "metadata": {},
   "source": [
    "## -Reverse vs Forward plot"
   ]
  },
  {
   "cell_type": "code",
   "execution_count": 15,
   "metadata": {
    "scrolled": true
   },
   "outputs": [],
   "source": [
    "import numpy as np\n",
    "\n",
    "%matplotlib inline\n",
    "import matplotlib.pylab as plt\n",
    "\n",
    "from cinnabar import plotting, stats, wrangle"
   ]
  },
  {
   "cell_type": "code",
   "execution_count": 19,
   "metadata": {
    "scrolled": false
   },
   "outputs": [
    {
     "data": {
      "image/png": "[encoded data removed]",
      "text/plain": [
       "<Figure size 720x720 with 1 Axes>"
      ]
     },
     "metadata": {
      "needs_background": "light"
     },
     "output_type": "display_data"
    }
   ],
   "source": [
    "# Format the data appropriately\n",
    "x = [entry[2] for i, entry in enumerate(to_plot) if i < 5] # forward\n",
    "y = [entry[2] for i, entry in enumerate(to_plot) if i >= 5] # reverse\n",
    "xerr =  [entry[3] for i, entry in enumerate(to_plot) if i < 5] # forward\n",
    "yerr = [entry[3] for i, entry in enumerate(to_plot) if i >= 5] # reverse\n",
    "x_data = np.asarray(x)\n",
    "y_data = np.asarray(y)\n",
    "\n",
    "# Generate the plot\n",
    "filename = '/data/chodera/zhangi/perses_benchmark/repex/perses-bnbs-paper-fourth-attempt/cinnabar_plot_5ns_dipeptide_more_states.pdf'\n",
    "plot = plotting._master_plot(\n",
    "    x_data,\n",
    "    y_data,\n",
    "    xerr=xerr,\n",
    "    yerr=yerr,\n",
    "    filename=filename,\n",
    "    title=\"\",\n",
    "    target_name=\"terminally-blocked \\namino acid mutations\",\n",
    "    xlabel=\"Forward\",\n",
    "    ylabel=\"- Reverse\",\n",
    "    units=r'$\\mathrm{kcal\\,/mol}$', \n",
    "    figsize=10, \n",
    "    dpi=500,\n",
    "    axis_padding=3.0,\n",
    "    data_labels=labels_charges,\n",
    "    font_sizes={\"title\":20, \"labels\": 20, \"other\": 20},\n",
    "    scatter_kwargs={'s': 60}\n",
    ")\n"
   ]
  },
  {
   "cell_type": "markdown",
   "metadata": {},
   "source": [
    "## Table"
   ]
  },
  {
   "cell_type": "code",
   "execution_count": 31,
   "metadata": {},
   "outputs": [],
   "source": [
    "# Format the data appropriately for table\n",
    "\n",
    "titles = [\"Y2F\", \"Y2A\", \"W2F\", \"T2A\", \"E2A\", \"D2A\", \"K2A\", \"R2A\", \"R2Q\", \"H2A\", \"F2Y\", \"A2Y\", \"F2W\", \"A2T\", \"A2E\", \"A2D\", \"A2K\", \"A2R\", \"Q2R\", \"A2H\"]\n",
    "\n",
    "to_plot = []\n",
    "\n",
    "for sub_dir in range(20):\n",
    "    ddg = compute_ddg(d_results[sub_dir]['apo'][\"Deltaf\"][0, -1], d_results[sub_dir + 20]['apo'][\"Deltaf\"][0, -1])\n",
    "    dddg = compute_error(d_results[sub_dir]['apo'][\"dDeltaf\"][0, -1], d_results[sub_dir + 20]['apo'][\"dDeltaf\"][0, -1])\n",
    "    if sub_dir in range(10):\n",
    "        to_plot.append([titles[sub_dir], round(ddg, 2), round(dddg, 2), 5, 5, \"forward\"])\n",
    "    else:\n",
    "        to_plot.append([titles[sub_dir], round(ddg, 2), round(dddg, 2), 5, 5, \"reverse\"])\n"
   ]
  },
  {
   "cell_type": "code",
   "execution_count": 35,
   "metadata": {},
   "outputs": [],
   "source": [
    "df = pd.DataFrame(to_plot, columns=[\"Mutation\", r\"Predicted $\\Delta\\Delta$G (kcal/mol)\", \"Error (kcal/mol)\", \"ACE-X-NME phase simulation time (ns/replica)\", \"ALA-X-ALA phase simulation time (ns/replica)\", \"Mutation direction\"])"
   ]
  },
  {
   "cell_type": "code",
   "execution_count": 36,
   "metadata": {},
   "outputs": [
    {
     "data": {
      "text/html": [
       "<div>\n",
       "<style scoped>\n",
       "    .dataframe tbody tr th:only-of-type {\n",
       "        vertical-align: middle;\n",
       "    }\n",
       "\n",
       "    .dataframe tbody tr th {\n",
       "        vertical-align: top;\n",
       "    }\n",
       "\n",
       "    .dataframe thead th {\n",
       "        text-align: right;\n",
       "    }\n",
       "</style>\n",
       "<table border=\"1\" class=\"dataframe\">\n",
       "  <thead>\n",
       "    <tr style=\"text-align: right;\">\n",
       "      <th></th>\n",
       "      <th>Mutation</th>\n",
       "      <th>Predicted $\\Delta\\Delta$G (kcal/mol)</th>\n",
       "      <th>Error (kcal/mol)</th>\n",
       "      <th>ACE-X-NME phase simulation time (ns/replica)</th>\n",
       "      <th>ALA-X-ALA phase simulation time (ns/replica)</th>\n",
       "      <th>Mutation direction</th>\n",
       "    </tr>\n",
       "  </thead>\n",
       "  <tbody>\n",
       "    <tr>\n",
       "      <th>0</th>\n",
       "      <td>Y2F</td>\n",
       "      <td>-0.10</td>\n",
       "      <td>0.41</td>\n",
       "      <td>5</td>\n",
       "      <td>5</td>\n",
       "      <td>forward</td>\n",
       "    </tr>\n",
       "    <tr>\n",
       "      <th>1</th>\n",
       "      <td>Y2A</td>\n",
       "      <td>0.35</td>\n",
       "      <td>0.66</td>\n",
       "      <td>5</td>\n",
       "      <td>5</td>\n",
       "      <td>forward</td>\n",
       "    </tr>\n",
       "    <tr>\n",
       "      <th>2</th>\n",
       "      <td>W2F</td>\n",
       "      <td>0.12</td>\n",
       "      <td>0.60</td>\n",
       "      <td>5</td>\n",
       "      <td>5</td>\n",
       "      <td>forward</td>\n",
       "    </tr>\n",
       "    <tr>\n",
       "      <th>3</th>\n",
       "      <td>T2A</td>\n",
       "      <td>0.62</td>\n",
       "      <td>0.25</td>\n",
       "      <td>5</td>\n",
       "      <td>5</td>\n",
       "      <td>forward</td>\n",
       "    </tr>\n",
       "    <tr>\n",
       "      <th>4</th>\n",
       "      <td>E2A</td>\n",
       "      <td>5.17</td>\n",
       "      <td>1.12</td>\n",
       "      <td>5</td>\n",
       "      <td>5</td>\n",
       "      <td>forward</td>\n",
       "    </tr>\n",
       "    <tr>\n",
       "      <th>5</th>\n",
       "      <td>D2A</td>\n",
       "      <td>5.21</td>\n",
       "      <td>1.05</td>\n",
       "      <td>5</td>\n",
       "      <td>5</td>\n",
       "      <td>forward</td>\n",
       "    </tr>\n",
       "    <tr>\n",
       "      <th>6</th>\n",
       "      <td>K2A</td>\n",
       "      <td>-1.73</td>\n",
       "      <td>1.27</td>\n",
       "      <td>5</td>\n",
       "      <td>5</td>\n",
       "      <td>forward</td>\n",
       "    </tr>\n",
       "    <tr>\n",
       "      <th>7</th>\n",
       "      <td>R2A</td>\n",
       "      <td>-1.39</td>\n",
       "      <td>1.48</td>\n",
       "      <td>5</td>\n",
       "      <td>5</td>\n",
       "      <td>forward</td>\n",
       "    </tr>\n",
       "    <tr>\n",
       "      <th>8</th>\n",
       "      <td>R2Q</td>\n",
       "      <td>-1.53</td>\n",
       "      <td>1.54</td>\n",
       "      <td>5</td>\n",
       "      <td>5</td>\n",
       "      <td>forward</td>\n",
       "    </tr>\n",
       "    <tr>\n",
       "      <th>9</th>\n",
       "      <td>H2A</td>\n",
       "      <td>1.08</td>\n",
       "      <td>0.55</td>\n",
       "      <td>5</td>\n",
       "      <td>5</td>\n",
       "      <td>forward</td>\n",
       "    </tr>\n",
       "    <tr>\n",
       "      <th>10</th>\n",
       "      <td>F2Y</td>\n",
       "      <td>0.17</td>\n",
       "      <td>0.42</td>\n",
       "      <td>5</td>\n",
       "      <td>5</td>\n",
       "      <td>reverse</td>\n",
       "    </tr>\n",
       "    <tr>\n",
       "      <th>11</th>\n",
       "      <td>A2Y</td>\n",
       "      <td>-0.42</td>\n",
       "      <td>0.70</td>\n",
       "      <td>5</td>\n",
       "      <td>5</td>\n",
       "      <td>reverse</td>\n",
       "    </tr>\n",
       "    <tr>\n",
       "      <th>12</th>\n",
       "      <td>F2W</td>\n",
       "      <td>-0.26</td>\n",
       "      <td>0.63</td>\n",
       "      <td>5</td>\n",
       "      <td>5</td>\n",
       "      <td>reverse</td>\n",
       "    </tr>\n",
       "    <tr>\n",
       "      <th>13</th>\n",
       "      <td>A2T</td>\n",
       "      <td>-0.63</td>\n",
       "      <td>0.22</td>\n",
       "      <td>5</td>\n",
       "      <td>5</td>\n",
       "      <td>reverse</td>\n",
       "    </tr>\n",
       "    <tr>\n",
       "      <th>14</th>\n",
       "      <td>A2E</td>\n",
       "      <td>-5.06</td>\n",
       "      <td>1.30</td>\n",
       "      <td>5</td>\n",
       "      <td>5</td>\n",
       "      <td>reverse</td>\n",
       "    </tr>\n",
       "    <tr>\n",
       "      <th>15</th>\n",
       "      <td>A2D</td>\n",
       "      <td>-4.78</td>\n",
       "      <td>1.26</td>\n",
       "      <td>5</td>\n",
       "      <td>5</td>\n",
       "      <td>reverse</td>\n",
       "    </tr>\n",
       "    <tr>\n",
       "      <th>16</th>\n",
       "      <td>A2K</td>\n",
       "      <td>1.58</td>\n",
       "      <td>1.06</td>\n",
       "      <td>5</td>\n",
       "      <td>5</td>\n",
       "      <td>reverse</td>\n",
       "    </tr>\n",
       "    <tr>\n",
       "      <th>17</th>\n",
       "      <td>A2R</td>\n",
       "      <td>1.71</td>\n",
       "      <td>1.23</td>\n",
       "      <td>5</td>\n",
       "      <td>5</td>\n",
       "      <td>reverse</td>\n",
       "    </tr>\n",
       "    <tr>\n",
       "      <th>18</th>\n",
       "      <td>Q2R</td>\n",
       "      <td>1.70</td>\n",
       "      <td>1.21</td>\n",
       "      <td>5</td>\n",
       "      <td>5</td>\n",
       "      <td>reverse</td>\n",
       "    </tr>\n",
       "    <tr>\n",
       "      <th>19</th>\n",
       "      <td>A2H</td>\n",
       "      <td>-0.82</td>\n",
       "      <td>0.46</td>\n",
       "      <td>5</td>\n",
       "      <td>5</td>\n",
       "      <td>reverse</td>\n",
       "    </tr>\n",
       "  </tbody>\n",
       "</table>\n",
       "</div>"
      ],
      "text/plain": [
       "   Mutation  Predicted $\\Delta\\Delta$G (kcal/mol)  Error (kcal/mol)  \\\n",
       "0       Y2F                                 -0.10              0.41   \n",
       "1       Y2A                                  0.35              0.66   \n",
       "2       W2F                                  0.12              0.60   \n",
       "3       T2A                                  0.62              0.25   \n",
       "4       E2A                                  5.17              1.12   \n",
       "5       D2A                                  5.21              1.05   \n",
       "6       K2A                                 -1.73              1.27   \n",
       "7       R2A                                 -1.39              1.48   \n",
       "8       R2Q                                 -1.53              1.54   \n",
       "9       H2A                                  1.08              0.55   \n",
       "10      F2Y                                  0.17              0.42   \n",
       "11      A2Y                                 -0.42              0.70   \n",
       "12      F2W                                 -0.26              0.63   \n",
       "13      A2T                                 -0.63              0.22   \n",
       "14      A2E                                 -5.06              1.30   \n",
       "15      A2D                                 -4.78              1.26   \n",
       "16      A2K                                  1.58              1.06   \n",
       "17      A2R                                  1.71              1.23   \n",
       "18      Q2R                                  1.70              1.21   \n",
       "19      A2H                                 -0.82              0.46   \n",
       "\n",
       "    ACE-X-NME phase simulation time (ns/replica)  \\\n",
       "0                                              5   \n",
       "1                                              5   \n",
       "2                                              5   \n",
       "3                                              5   \n",
       "4                                              5   \n",
       "5                                              5   \n",
       "6                                              5   \n",
       "7                                              5   \n",
       "8                                              5   \n",
       "9                                              5   \n",
       "10                                             5   \n",
       "11                                             5   \n",
       "12                                             5   \n",
       "13                                             5   \n",
       "14                                             5   \n",
       "15                                             5   \n",
       "16                                             5   \n",
       "17                                             5   \n",
       "18                                             5   \n",
       "19                                             5   \n",
       "\n",
       "    ALA-X-ALA phase simulation time (ns/replica) Mutation direction  \n",
       "0                                              5            forward  \n",
       "1                                              5            forward  \n",
       "2                                              5            forward  \n",
       "3                                              5            forward  \n",
       "4                                              5            forward  \n",
       "5                                              5            forward  \n",
       "6                                              5            forward  \n",
       "7                                              5            forward  \n",
       "8                                              5            forward  \n",
       "9                                              5            forward  \n",
       "10                                             5            reverse  \n",
       "11                                             5            reverse  \n",
       "12                                             5            reverse  \n",
       "13                                             5            reverse  \n",
       "14                                             5            reverse  \n",
       "15                                             5            reverse  \n",
       "16                                             5            reverse  \n",
       "17                                             5            reverse  \n",
       "18                                             5            reverse  \n",
       "19                                             5            reverse  "
      ]
     },
     "execution_count": 36,
     "metadata": {},
     "output_type": "execute_result"
    }
   ],
   "source": [
    "df"
   ]
  },
  {
   "cell_type": "code",
   "execution_count": 37,
   "metadata": {},
   "outputs": [],
   "source": [
    "df.to_csv(\"/data/chodera/zhangi/perses_benchmark/repex/perses-bnbs-paper-fourth-attempt/table_terminally_blocked.csv\", index=False)"
   ]
  },
  {
   "cell_type": "code",
   "execution_count": null,
   "metadata": {},
   "outputs": [],
   "source": []
  }
 ],
 "metadata": {
  "kernelspec": {
   "display_name": "Python 3 (ipykernel)",
   "language": "python",
   "name": "python3"
  },
  "language_info": {
   "codemirror_mode": {
    "name": "ipython",
    "version": 3
   },
   "file_extension": ".py",
   "mimetype": "text/x-python",
   "name": "python",
   "nbconvert_exporter": "python",
   "pygments_lexer": "ipython3",
   "version": "3.9.13"
  }
 },
 "nbformat": 4,
 "nbformat_minor": 4
}
