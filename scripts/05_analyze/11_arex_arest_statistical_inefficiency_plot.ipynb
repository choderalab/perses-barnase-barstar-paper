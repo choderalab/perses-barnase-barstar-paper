{
 "cells": [
  {
   "cell_type": "code",
   "execution_count": 44,
   "id": "9c21241f",
   "metadata": {},
   "outputs": [],
   "source": [
    "from openmmtools.multistate import MultiStateReporter, MultiStateSamplerAnalyzer\n",
    "\n",
    "from tqdm import tqdm_notebook\n",
    "\n",
    "import matplotlib.pyplot as plt\n",
    "\n",
    "import pickle\n",
    "\n",
    "import numpy as np"
   ]
  },
  {
   "cell_type": "markdown",
   "id": "c9b69ed4",
   "metadata": {},
   "source": [
    "# AREX 50 ns/replica complex phase"
   ]
  },
  {
   "cell_type": "code",
   "execution_count": 3,
   "id": "42928783",
   "metadata": {},
   "outputs": [
    {
     "name": "stderr",
     "output_type": "stream",
     "text": [
      "/scratch/lsftmp/18251327.tmpdir/ipykernel_338210/1585312885.py:5: TqdmDeprecationWarning: This function will be removed in tqdm==5.0.0\n",
      "Please use `tqdm.notebook.tqdm` instead of `tqdm.tqdm_notebook`\n",
      "  for sub_dir in tqdm_notebook(range(28)):\n"
     ]
    },
    {
     "data": {
      "application/vnd.jupyter.widget-view+json": {
       "model_id": "b8560c9e2c1543b7b1ce305902a4554a",
       "version_major": 2,
       "version_minor": 0
      },
      "text/plain": [
       "  0%|          | 0/28 [00:00<?, ?it/s]"
      ]
     },
     "metadata": {},
     "output_type": "display_data"
    },
    {
     "name": "stderr",
     "output_type": "stream",
     "text": [
      "Warning: The openmmtools.multistate API is experimental and may change in future releases\n",
      "Could not locate checkpoint subfile. This is okay for analysis if the solvent trajectory is not needed, but not for production simulation!\n",
      "Warning: The openmmtools.multistate API is experimental and may change in future releases\n",
      "Warning: The openmmtools.multistate API is experimental and may change in future releases\n",
      "Could not locate checkpoint subfile. This is okay for analysis if the solvent trajectory is not needed, but not for production simulation!\n",
      "Warning: The openmmtools.multistate API is experimental and may change in future releases\n",
      "Warning: The openmmtools.multistate API is experimental and may change in future releases\n",
      "Could not locate checkpoint subfile. This is okay for analysis if the solvent trajectory is not needed, but not for production simulation!\n",
      "Warning: The openmmtools.multistate API is experimental and may change in future releases\n",
      "Warning: The openmmtools.multistate API is experimental and may change in future releases\n",
      "Could not locate checkpoint subfile. This is okay for analysis if the solvent trajectory is not needed, but not for production simulation!\n",
      "Warning: The openmmtools.multistate API is experimental and may change in future releases\n",
      "Warning: The openmmtools.multistate API is experimental and may change in future releases\n",
      "Could not locate checkpoint subfile. This is okay for analysis if the solvent trajectory is not needed, but not for production simulation!\n",
      "Warning: The openmmtools.multistate API is experimental and may change in future releases\n",
      "Warning: The openmmtools.multistate API is experimental and may change in future releases\n",
      "Could not locate checkpoint subfile. This is okay for analysis if the solvent trajectory is not needed, but not for production simulation!\n",
      "Warning: The openmmtools.multistate API is experimental and may change in future releases\n",
      "Warning: The openmmtools.multistate API is experimental and may change in future releases\n",
      "Could not locate checkpoint subfile. This is okay for analysis if the solvent trajectory is not needed, but not for production simulation!\n",
      "Warning: The openmmtools.multistate API is experimental and may change in future releases\n",
      "Warning: The openmmtools.multistate API is experimental and may change in future releases\n",
      "Warning: The openmmtools.multistate API is experimental and may change in future releases\n",
      "Warning: The openmmtools.multistate API is experimental and may change in future releases\n",
      "Could not locate checkpoint subfile. This is okay for analysis if the solvent trajectory is not needed, but not for production simulation!\n",
      "Warning: The openmmtools.multistate API is experimental and may change in future releases\n",
      "Warning: The openmmtools.multistate API is experimental and may change in future releases\n",
      "Could not locate checkpoint subfile. This is okay for analysis if the solvent trajectory is not needed, but not for production simulation!\n",
      "Warning: The openmmtools.multistate API is experimental and may change in future releases\n",
      "Warning: The openmmtools.multistate API is experimental and may change in future releases\n",
      "Could not locate checkpoint subfile. This is okay for analysis if the solvent trajectory is not needed, but not for production simulation!\n",
      "Warning: The openmmtools.multistate API is experimental and may change in future releases\n",
      "Warning: The openmmtools.multistate API is experimental and may change in future releases\n",
      "Could not locate checkpoint subfile. This is okay for analysis if the solvent trajectory is not needed, but not for production simulation!\n",
      "Warning: The openmmtools.multistate API is experimental and may change in future releases\n",
      "Warning: The openmmtools.multistate API is experimental and may change in future releases\n",
      "Warning: The openmmtools.multistate API is experimental and may change in future releases\n",
      "Warning: The openmmtools.multistate API is experimental and may change in future releases\n",
      "Could not locate checkpoint subfile. This is okay for analysis if the solvent trajectory is not needed, but not for production simulation!\n",
      "Warning: The openmmtools.multistate API is experimental and may change in future releases\n",
      "Warning: The openmmtools.multistate API is experimental and may change in future releases\n",
      "Could not locate checkpoint subfile. This is okay for analysis if the solvent trajectory is not needed, but not for production simulation!\n",
      "Warning: The openmmtools.multistate API is experimental and may change in future releases\n",
      "Warning: The openmmtools.multistate API is experimental and may change in future releases\n",
      "Could not locate checkpoint subfile. This is okay for analysis if the solvent trajectory is not needed, but not for production simulation!\n",
      "Warning: The openmmtools.multistate API is experimental and may change in future releases\n",
      "Warning: The openmmtools.multistate API is experimental and may change in future releases\n",
      "Could not locate checkpoint subfile. This is okay for analysis if the solvent trajectory is not needed, but not for production simulation!\n",
      "Warning: The openmmtools.multistate API is experimental and may change in future releases\n",
      "Warning: The openmmtools.multistate API is experimental and may change in future releases\n",
      "Warning: The openmmtools.multistate API is experimental and may change in future releases\n",
      "Warning: The openmmtools.multistate API is experimental and may change in future releases\n",
      "Could not locate checkpoint subfile. This is okay for analysis if the solvent trajectory is not needed, but not for production simulation!\n",
      "Warning: The openmmtools.multistate API is experimental and may change in future releases\n",
      "Warning: The openmmtools.multistate API is experimental and may change in future releases\n",
      "Could not locate checkpoint subfile. This is okay for analysis if the solvent trajectory is not needed, but not for production simulation!\n",
      "Warning: The openmmtools.multistate API is experimental and may change in future releases\n",
      "Warning: The openmmtools.multistate API is experimental and may change in future releases\n",
      "Could not locate checkpoint subfile. This is okay for analysis if the solvent trajectory is not needed, but not for production simulation!\n",
      "Warning: The openmmtools.multistate API is experimental and may change in future releases\n",
      "Warning: The openmmtools.multistate API is experimental and may change in future releases\n",
      "Could not locate checkpoint subfile. This is okay for analysis if the solvent trajectory is not needed, but not for production simulation!\n",
      "Warning: The openmmtools.multistate API is experimental and may change in future releases\n",
      "Warning: The openmmtools.multistate API is experimental and may change in future releases\n",
      "Could not locate checkpoint subfile. This is okay for analysis if the solvent trajectory is not needed, but not for production simulation!\n",
      "Warning: The openmmtools.multistate API is experimental and may change in future releases\n",
      "Warning: The openmmtools.multistate API is experimental and may change in future releases\n",
      "Could not locate checkpoint subfile. This is okay for analysis if the solvent trajectory is not needed, but not for production simulation!\n",
      "Warning: The openmmtools.multistate API is experimental and may change in future releases\n",
      "Warning: The openmmtools.multistate API is experimental and may change in future releases\n",
      "Could not locate checkpoint subfile. This is okay for analysis if the solvent trajectory is not needed, but not for production simulation!\n",
      "Warning: The openmmtools.multistate API is experimental and may change in future releases\n",
      "Warning: The openmmtools.multistate API is experimental and may change in future releases\n",
      "Could not locate checkpoint subfile. This is okay for analysis if the solvent trajectory is not needed, but not for production simulation!\n",
      "Warning: The openmmtools.multistate API is experimental and may change in future releases\n",
      "Warning: The openmmtools.multistate API is experimental and may change in future releases\n",
      "Could not locate checkpoint subfile. This is okay for analysis if the solvent trajectory is not needed, but not for production simulation!\n",
      "Warning: The openmmtools.multistate API is experimental and may change in future releases\n"
     ]
    },
    {
     "name": "stderr",
     "output_type": "stream",
     "text": [
      "Warning: The openmmtools.multistate API is experimental and may change in future releases\n",
      "Could not locate checkpoint subfile. This is okay for analysis if the solvent trajectory is not needed, but not for production simulation!\n",
      "Warning: The openmmtools.multistate API is experimental and may change in future releases\n"
     ]
    }
   ],
   "source": [
    "g_ts_arex = []\n",
    "main_dir = 47\n",
    "other_dir = 45\n",
    "d_mapping = {4: 11, 12: 10, 17: 9}\n",
    "for sub_dir in tqdm_notebook(range(28)):\n",
    "    \n",
    "    if sub_dir == 4:\n",
    "        replicate = 0\n",
    "    else:\n",
    "        replicate = 1\n",
    "    \n",
    "    if sub_dir in [4, 12, 17]:\n",
    "        main_dir = 45\n",
    "        sub_dir = d_mapping[sub_dir]\n",
    "    else:\n",
    "        main_dir = 47\n",
    "        \n",
    "    filename = f\"/data/chodera/zhangi/perses_benchmark/repex/perses-bnbs-paper-fourth-attempt/{main_dir}/{sub_dir}/replicate_{replicate}/{sub_dir}_complex.nc\"\n",
    "    reporter = MultiStateReporter(filename, open_mode='r')\n",
    "    analyzer = MultiStateSamplerAnalyzer(reporter, max_n_iterations=50000)\n",
    "    transition_matrix, eigenvalues, g_t = analyzer.generate_mixing_statistics()\n",
    "    g_ts_arex.append(g_t)"
   ]
  },
  {
   "cell_type": "code",
   "execution_count": 4,
   "id": "a4e0d6b0",
   "metadata": {},
   "outputs": [],
   "source": [
    "with open(f\"/data/chodera/zhangi/perses_benchmark/repex/perses-bnbs-paper-fourth-attempt/47/g_ts.pickle\", \"wb\") as f:\n",
    "    pickle.dump(g_ts_arex, f)"
   ]
  },
  {
   "cell_type": "code",
   "execution_count": 5,
   "id": "32b64075",
   "metadata": {},
   "outputs": [
    {
     "data": {
      "text/plain": [
       "[1030.6128851964143,\n",
       " 10871.459646492685,\n",
       " 6216.325507357654,\n",
       " 12122.524244629312,\n",
       " 1895.8579806331504,\n",
       " 2678.9599042794894,\n",
       " 1920.2250671418751,\n",
       " 9951.605507442986,\n",
       " 18969.706673881257,\n",
       " 14360.448133753582,\n",
       " 7970.325307641586,\n",
       " 30906.215958685603,\n",
       " 27892.881141591355,\n",
       " 15809.64137475853,\n",
       " 1721.7273158184344,\n",
       " 2359.721092706552,\n",
       " 5228.822358607226,\n",
       " 8195.537322967457,\n",
       " 1551.0750526185466,\n",
       " 2368.601006185404,\n",
       " 1594.9201973575389,\n",
       " 16781.863500293097,\n",
       " 20096.73265976951,\n",
       " 12507.377549886301,\n",
       " 4790.26511723632,\n",
       " 26121.05472465025,\n",
       " 25822.019996998213,\n",
       " 18806.741553678094]"
      ]
     },
     "execution_count": 5,
     "metadata": {},
     "output_type": "execute_result"
    }
   ],
   "source": [
    "g_ts_arex"
   ]
  },
  {
   "cell_type": "markdown",
   "id": "976958e9",
   "metadata": {},
   "source": [
    "# AREST 50 ns/replica complex phase"
   ]
  },
  {
   "cell_type": "code",
   "execution_count": 8,
   "id": "e9dcfac9",
   "metadata": {
    "scrolled": true
   },
   "outputs": [
    {
     "name": "stderr",
     "output_type": "stream",
     "text": [
      "/scratch/lsftmp/18251327.tmpdir/ipykernel_338210/3383893125.py:3: TqdmDeprecationWarning: This function will be removed in tqdm==5.0.0\n",
      "Please use `tqdm.notebook.tqdm` instead of `tqdm.tqdm_notebook`\n",
      "  for sub_dir in tqdm_notebook(range(28)):\n"
     ]
    },
    {
     "data": {
      "application/vnd.jupyter.widget-view+json": {
       "model_id": "520255fcae46423c83a60389cf6ac532",
       "version_major": 2,
       "version_minor": 0
      },
      "text/plain": [
       "  0%|          | 0/28 [00:00<?, ?it/s]"
      ]
     },
     "metadata": {},
     "output_type": "display_data"
    },
    {
     "name": "stderr",
     "output_type": "stream",
     "text": [
      "Warning: The openmmtools.multistate API is experimental and may change in future releases\n",
      "Warning: The openmmtools.multistate API is experimental and may change in future releases\n",
      "Warning: The openmmtools.multistate API is experimental and may change in future releases\n",
      "Could not locate checkpoint subfile. This is okay for analysis if the solvent trajectory is not needed, but not for production simulation!\n",
      "Warning: The openmmtools.multistate API is experimental and may change in future releases\n",
      "Warning: The openmmtools.multistate API is experimental and may change in future releases\n",
      "Could not locate checkpoint subfile. This is okay for analysis if the solvent trajectory is not needed, but not for production simulation!\n",
      "Warning: The openmmtools.multistate API is experimental and may change in future releases\n",
      "Warning: The openmmtools.multistate API is experimental and may change in future releases\n",
      "Could not locate checkpoint subfile. This is okay for analysis if the solvent trajectory is not needed, but not for production simulation!\n",
      "Warning: The openmmtools.multistate API is experimental and may change in future releases\n",
      "Warning: The openmmtools.multistate API is experimental and may change in future releases\n",
      "Could not locate checkpoint subfile. This is okay for analysis if the solvent trajectory is not needed, but not for production simulation!\n",
      "Warning: The openmmtools.multistate API is experimental and may change in future releases\n",
      "Warning: The openmmtools.multistate API is experimental and may change in future releases\n",
      "Could not locate checkpoint subfile. This is okay for analysis if the solvent trajectory is not needed, but not for production simulation!\n",
      "Warning: The openmmtools.multistate API is experimental and may change in future releases\n",
      "Warning: The openmmtools.multistate API is experimental and may change in future releases\n",
      "Could not locate checkpoint subfile. This is okay for analysis if the solvent trajectory is not needed, but not for production simulation!\n",
      "Warning: The openmmtools.multistate API is experimental and may change in future releases\n",
      "Warning: The openmmtools.multistate API is experimental and may change in future releases\n",
      "Could not locate checkpoint subfile. This is okay for analysis if the solvent trajectory is not needed, but not for production simulation!\n",
      "Warning: The openmmtools.multistate API is experimental and may change in future releases\n",
      "Warning: The openmmtools.multistate API is experimental and may change in future releases\n",
      "Could not locate checkpoint subfile. This is okay for analysis if the solvent trajectory is not needed, but not for production simulation!\n",
      "Warning: The openmmtools.multistate API is experimental and may change in future releases\n",
      "Warning: The openmmtools.multistate API is experimental and may change in future releases\n",
      "Could not locate checkpoint subfile. This is okay for analysis if the solvent trajectory is not needed, but not for production simulation!\n",
      "Warning: The openmmtools.multistate API is experimental and may change in future releases\n",
      "Warning: The openmmtools.multistate API is experimental and may change in future releases\n",
      "Could not locate checkpoint subfile. This is okay for analysis if the solvent trajectory is not needed, but not for production simulation!\n",
      "Warning: The openmmtools.multistate API is experimental and may change in future releases\n",
      "Warning: The openmmtools.multistate API is experimental and may change in future releases\n",
      "Could not locate checkpoint subfile. This is okay for analysis if the solvent trajectory is not needed, but not for production simulation!\n",
      "Warning: The openmmtools.multistate API is experimental and may change in future releases\n",
      "Warning: The openmmtools.multistate API is experimental and may change in future releases\n",
      "Could not locate checkpoint subfile. This is okay for analysis if the solvent trajectory is not needed, but not for production simulation!\n",
      "Warning: The openmmtools.multistate API is experimental and may change in future releases\n",
      "Warning: The openmmtools.multistate API is experimental and may change in future releases\n",
      "Could not locate checkpoint subfile. This is okay for analysis if the solvent trajectory is not needed, but not for production simulation!\n",
      "Warning: The openmmtools.multistate API is experimental and may change in future releases\n",
      "Warning: The openmmtools.multistate API is experimental and may change in future releases\n",
      "Could not locate checkpoint subfile. This is okay for analysis if the solvent trajectory is not needed, but not for production simulation!\n",
      "Warning: The openmmtools.multistate API is experimental and may change in future releases\n",
      "Warning: The openmmtools.multistate API is experimental and may change in future releases\n",
      "Could not locate checkpoint subfile. This is okay for analysis if the solvent trajectory is not needed, but not for production simulation!\n",
      "Warning: The openmmtools.multistate API is experimental and may change in future releases\n",
      "Warning: The openmmtools.multistate API is experimental and may change in future releases\n",
      "Could not locate checkpoint subfile. This is okay for analysis if the solvent trajectory is not needed, but not for production simulation!\n",
      "Warning: The openmmtools.multistate API is experimental and may change in future releases\n",
      "Warning: The openmmtools.multistate API is experimental and may change in future releases\n",
      "Could not locate checkpoint subfile. This is okay for analysis if the solvent trajectory is not needed, but not for production simulation!\n",
      "Warning: The openmmtools.multistate API is experimental and may change in future releases\n",
      "Warning: The openmmtools.multistate API is experimental and may change in future releases\n",
      "Could not locate checkpoint subfile. This is okay for analysis if the solvent trajectory is not needed, but not for production simulation!\n",
      "Warning: The openmmtools.multistate API is experimental and may change in future releases\n",
      "Warning: The openmmtools.multistate API is experimental and may change in future releases\n",
      "Could not locate checkpoint subfile. This is okay for analysis if the solvent trajectory is not needed, but not for production simulation!\n",
      "Warning: The openmmtools.multistate API is experimental and may change in future releases\n",
      "Warning: The openmmtools.multistate API is experimental and may change in future releases\n",
      "Could not locate checkpoint subfile. This is okay for analysis if the solvent trajectory is not needed, but not for production simulation!\n",
      "Warning: The openmmtools.multistate API is experimental and may change in future releases\n",
      "Warning: The openmmtools.multistate API is experimental and may change in future releases\n",
      "Could not locate checkpoint subfile. This is okay for analysis if the solvent trajectory is not needed, but not for production simulation!\n",
      "Warning: The openmmtools.multistate API is experimental and may change in future releases\n",
      "Warning: The openmmtools.multistate API is experimental and may change in future releases\n",
      "Could not locate checkpoint subfile. This is okay for analysis if the solvent trajectory is not needed, but not for production simulation!\n",
      "Warning: The openmmtools.multistate API is experimental and may change in future releases\n",
      "Warning: The openmmtools.multistate API is experimental and may change in future releases\n",
      "Could not locate checkpoint subfile. This is okay for analysis if the solvent trajectory is not needed, but not for production simulation!\n",
      "Warning: The openmmtools.multistate API is experimental and may change in future releases\n",
      "Warning: The openmmtools.multistate API is experimental and may change in future releases\n",
      "Could not locate checkpoint subfile. This is okay for analysis if the solvent trajectory is not needed, but not for production simulation!\n",
      "Warning: The openmmtools.multistate API is experimental and may change in future releases\n",
      "Warning: The openmmtools.multistate API is experimental and may change in future releases\n",
      "Could not locate checkpoint subfile. This is okay for analysis if the solvent trajectory is not needed, but not for production simulation!\n",
      "Warning: The openmmtools.multistate API is experimental and may change in future releases\n",
      "Warning: The openmmtools.multistate API is experimental and may change in future releases\n"
     ]
    },
    {
     "name": "stderr",
     "output_type": "stream",
     "text": [
      "Could not locate checkpoint subfile. This is okay for analysis if the solvent trajectory is not needed, but not for production simulation!\n",
      "Warning: The openmmtools.multistate API is experimental and may change in future releases\n",
      "Warning: The openmmtools.multistate API is experimental and may change in future releases\n",
      "Could not locate checkpoint subfile. This is okay for analysis if the solvent trajectory is not needed, but not for production simulation!\n",
      "Warning: The openmmtools.multistate API is experimental and may change in future releases\n"
     ]
    }
   ],
   "source": [
    "g_ts_arest = []\n",
    "main_dir = 52\n",
    "for sub_dir in tqdm_notebook(range(28)):\n",
    "    \n",
    "    if sub_dir in [19, 21]:\n",
    "        replicate = 1\n",
    "    else:\n",
    "        replicate = 0\n",
    "    \n",
    "    filename = f\"/data/chodera/zhangi/perses_benchmark/repex/perses-bnbs-paper-fourth-attempt/{main_dir}/{sub_dir}/replicate_{replicate}/{sub_dir}_complex.nc\"\n",
    "    reporter = MultiStateReporter(filename, open_mode='r')\n",
    "    analyzer = MultiStateSamplerAnalyzer(reporter, max_n_iterations=50000)\n",
    "    transition_matrix, eigenvalues, g_t = analyzer.generate_mixing_statistics()\n",
    "    g_ts_arest.append(g_t)"
   ]
  },
  {
   "cell_type": "code",
   "execution_count": 10,
   "id": "599b3223",
   "metadata": {},
   "outputs": [],
   "source": [
    "with open(f\"/data/chodera/zhangi/perses_benchmark/repex/perses-bnbs-paper-fourth-attempt/52/g_ts.pickle\", \"wb\") as f:\n",
    "    pickle.dump(g_ts_arest, f)"
   ]
  },
  {
   "cell_type": "markdown",
   "id": "3f367fdf",
   "metadata": {},
   "source": [
    "# AREST vs AREX g_t plot"
   ]
  },
  {
   "cell_type": "code",
   "execution_count": 53,
   "id": "67ec299e",
   "metadata": {},
   "outputs": [],
   "source": [
    "# Load g_ts\n",
    "with open(f\"/data/chodera/zhangi/perses_benchmark/repex/perses-bnbs-paper-fourth-attempt/47/g_ts.pickle\", \"rb\") as f:\n",
    "    g_ts_arex = pickle.load(f)\n",
    "    \n",
    "with open(f\"/data/chodera/zhangi/perses_benchmark/repex/perses-bnbs-paper-fourth-attempt/52/g_ts.pickle\", \"rb\") as f:\n",
    "    g_ts_arest = pickle.load(f)\n",
    "    \n",
    "# Convert units to ns\n",
    "g_ts_arex = np.array(g_ts_arex)/1000\n",
    "g_ts_arest = np.array(g_ts_arest)/1000\n",
    "\n",
    "# Note that we divide the statistical inefficiencies by 1000 to get units of ns \n",
    "# because the samples are saved every 1 iterations and each iteration is 1 ps, \n",
    "# so the units of each sample are 1 ps. Since 1000 ps is 1 ns, if we divide\n",
    "# each statistical inefficiency by 1000, we get units of ns."
   ]
  },
  {
   "cell_type": "code",
   "execution_count": 58,
   "id": "5092462d",
   "metadata": {},
   "outputs": [
    {
     "data": {
      "image/png": "[encoded data removed]",
      "text/plain": [
       "<Figure size 576x432 with 1 Axes>"
      ]
     },
     "metadata": {
      "needs_background": "light"
     },
     "output_type": "display_data"
    }
   ],
   "source": [
    "# Set figure size\n",
    "fig, axes = plt.subplots(nrows=1, ncols=1, sharex='col', figsize=(8, 6), squeeze=True)\n",
    "    \n",
    "# Set font size\n",
    "plt.rc('font', size=15) \n",
    "\n",
    "plt.scatter(g_ts_arex, g_ts_arest, s=50)\n",
    "plt.plot([0, max(g_ts_arest)], [0, max(g_ts_arest)], color='gray')\n",
    "\n",
    "# Set title\n",
    "plt.title(f\"AREST vs AREX traversal of lambda space\\n for barnase:barstar mutations\")\n",
    "\n",
    "# Set axis labels\n",
    "g_regex = r\"$g$\"\n",
    "plt.xlabel(f\"AREX replica state index {g_regex} (ns)\")\n",
    "plt.ylabel(f\"AREST replica state index {g_regex} (ns)\")\n",
    "\n",
    "# Ensure x-axis labels are not cut off\n",
    "plt.tight_layout()\n",
    "\n",
    "# Save figure\n",
    "save_path = \"/data/chodera/zhangi/perses_benchmark/repex/perses-bnbs-paper-fourth-attempt/52/arest_vs_arex_g_t.pdf\"\n",
    "plt.savefig(save_path, dpi=500)\n",
    "\n",
    "plt.show()"
   ]
  },
  {
   "cell_type": "code",
   "execution_count": 59,
   "id": "6847fc2f",
   "metadata": {},
   "outputs": [
    {
     "data": {
      "text/plain": [
       "38.51226295571173"
      ]
     },
     "execution_count": 59,
     "metadata": {},
     "output_type": "execute_result"
    }
   ],
   "source": [
    "g_ts_arest[12]"
   ]
  },
  {
   "cell_type": "code",
   "execution_count": 60,
   "id": "86f4a7ac",
   "metadata": {},
   "outputs": [
    {
     "data": {
      "text/plain": [
       "27.892881141591356"
      ]
     },
     "execution_count": 60,
     "metadata": {},
     "output_type": "execute_result"
    }
   ],
   "source": [
    "g_ts_arex[12]"
   ]
  },
  {
   "cell_type": "code",
   "execution_count": 61,
   "id": "5048ef53",
   "metadata": {},
   "outputs": [
    {
     "data": {
      "text/plain": [
       "6.657324128778962"
      ]
     },
     "execution_count": 61,
     "metadata": {},
     "output_type": "execute_result"
    }
   ],
   "source": [
    "g_ts_arest[17]"
   ]
  }
 ],
 "metadata": {
  "kernelspec": {
   "display_name": "Python 3 (ipykernel)",
   "language": "python",
   "name": "python3"
  },
  "language_info": {
   "codemirror_mode": {
    "name": "ipython",
    "version": 3
   },
   "file_extension": ".py",
   "mimetype": "text/x-python",
   "name": "python",
   "nbconvert_exporter": "python",
   "pygments_lexer": "ipython3",
   "version": "3.9.13"
  }
 },
 "nbformat": 4,
 "nbformat_minor": 5
}
