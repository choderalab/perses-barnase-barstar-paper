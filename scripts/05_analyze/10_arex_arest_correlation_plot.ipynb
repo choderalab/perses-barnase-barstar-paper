{
 "cells": [
  {
   "cell_type": "markdown",
   "metadata": {},
   "source": [
    "## Gather the data"
   ]
  },
  {
   "cell_type": "code",
   "execution_count": 1,
   "metadata": {},
   "outputs": [
    {
     "name": "stderr",
     "output_type": "stream",
     "text": [
      "Warning: importing 'simtk.openmm' is deprecated.  Import 'openmm' instead.\n"
     ]
    }
   ],
   "source": [
    "import numpy as np\n",
    "import pickle\n",
    "from simtk.openmm import unit\n",
    "from openmmtools.constants import kB\n",
    "import pandas as pd\n",
    "\n",
    "import matplotlib.pyplot as plt\n",
    "KT_KCALMOL = kB * 300 * unit.kelvin / unit.kilocalories_per_mole"
   ]
  },
  {
   "cell_type": "code",
   "execution_count": 2,
   "metadata": {},
   "outputs": [],
   "source": [
    "def compute_ddg(apo_dg, complex_dg):\n",
    "    return complex_dg * KT_KCALMOL - apo_dg * KT_KCALMOL\n",
    "\n",
    "def compute_error(apo_ddg, complex_ddg):\n",
    "    return (apo_ddg**2 + complex_ddg**2)**0.5 * KT_KCALMOL"
   ]
  },
  {
   "cell_type": "markdown",
   "metadata": {},
   "source": [
    "### AREX 50 ns"
   ]
  },
  {
   "cell_type": "code",
   "execution_count": 3,
   "metadata": {},
   "outputs": [],
   "source": [
    "# Retrieve free energies\n",
    "\n",
    "replicate = 1\n",
    "main_dir = 47\n",
    "sub_dirs = list(range(0, 4)) + list(range(5, 12)) + list(range(13, 17)) + list(range(18, 28))\n",
    "\n",
    "d_results = {}\n",
    "for sub_dir in sub_dirs:\n",
    "    d_results[sub_dir] = {}\n",
    "    for phase in ['apo', 'complex']:\n",
    "        if phase == \"complex\":\n",
    "            length = 50\n",
    "        else:\n",
    "            length = 10\n",
    "        with open(f\"/data/chodera/zhangi/perses_benchmark/repex/perses-bnbs-paper-fourth-attempt/{main_dir}/{sub_dir}/replicate_{replicate}/{phase}_free_energy_bootstrapped_{length}ns.pickle\", \"rb\") as f:\n",
    "            results = pickle.load(f)\n",
    "            d_results[sub_dir][phase] = results\n",
    "\n",
    "main_dir = 45\n",
    "d_mapping = {4: 11, 12: 10, 17: 9}\n",
    "for sub_dir in d_mapping.keys():\n",
    "    d_results[sub_dir] = {}\n",
    "    if sub_dir == 4:\n",
    "        replicate = 0\n",
    "    else:\n",
    "        replicate = 1\n",
    "    for phase in ['apo', 'complex']:\n",
    "        if phase == \"complex\":\n",
    "            length = 50\n",
    "        else:\n",
    "            length = 10\n",
    "        with open(f\"/data/chodera/zhangi/perses_benchmark/repex/perses-bnbs-paper-fourth-attempt/{main_dir}/{d_mapping[sub_dir]}/replicate_{replicate}/{phase}_free_energy_bootstrapped_{length}ns.pickle\", \"rb\") as f:\n",
    "            results = pickle.load(f)\n",
    "            d_results[sub_dir][phase] = results\n",
    "        "
   ]
  },
  {
   "cell_type": "code",
   "execution_count": 4,
   "metadata": {},
   "outputs": [],
   "source": [
    "# Format the data appropriately for cinnabar\n",
    "\n",
    "titles = [\"Y29F\", \"Y29A\",  \"W38F\", \"T42A\", \"W44F\", \"E76A\", \"E80A\", \"D35A\", \"D39A\", \"K27A\", \"R59A\", \"R83Q\", \"R87A\", \"H102A\", \"F29Y\", \"A29Y\",  \"F38W\", \"A42T\", \"F44W\", \"A76E\", \"A80E\", \"A35D\", \"A39D\", \"A27K\", \"A59R\", \"Q83R\", \"A87R\", \"A102H\"]\n",
    "\n",
    "to_plot_arex = []\n",
    "\n",
    "for sub_dir in range(28):\n",
    "    ddg = compute_ddg(d_results[sub_dir]['apo'][\"Deltaf\"][0, -1], d_results[sub_dir]['complex'][\"Deltaf\"][0, -1])\n",
    "    dddg = compute_error(d_results[sub_dir]['apo'][\"dDeltaf\"][0, -1], d_results[sub_dir]['complex'][\"dDeltaf\"][0, -1])\n",
    "    if sub_dir in range(14):\n",
    "        to_plot_arex.append([titles[sub_dir][:-1], titles[sub_dir][-1] + titles[sub_dir][1:-1], ddg, dddg*2, 0])\n",
    "    else:\n",
    "        to_plot_arex.append([\"-\" + titles[sub_dir][:-1], \"-\" + titles[sub_dir][-1] + titles[sub_dir][1:-1], ddg * -1, dddg*2, 0])\n"
   ]
  },
  {
   "cell_type": "markdown",
   "metadata": {},
   "source": [
    "### AREST 50 ns"
   ]
  },
  {
   "cell_type": "code",
   "execution_count": 5,
   "metadata": {},
   "outputs": [],
   "source": [
    "# Retrieve free energies\n",
    "\n",
    "main_dir_og = 47\n",
    "main_dir_og2 = 45\n",
    "main_dir_rest = 52\n",
    "sub_dirs = list(range(0, 4)) + list(range(5, 12)) + list(range(13, 17)) + list(range(18, 28))\n",
    "\n",
    "d_results = {}\n",
    "for sub_dir in sub_dirs:\n",
    "    d_results[sub_dir] = {}\n",
    "    for phase in ['apo', 'complex']:\n",
    "        if phase == \"complex\":\n",
    "            length = 50\n",
    "            main_dir = main_dir_rest\n",
    "            if sub_dir in [19, 21]:\n",
    "                replicate = 1\n",
    "            else:\n",
    "                replicate = 0\n",
    "        else:\n",
    "            length = 10\n",
    "            main_dir = main_dir_og\n",
    "            replicate = 1\n",
    "            \n",
    "        with open(f\"/data/chodera/zhangi/perses_benchmark/repex/perses-bnbs-paper-fourth-attempt/{main_dir}/{sub_dir}/replicate_{replicate}/{phase}_free_energy_bootstrapped_{length}ns.pickle\", \"rb\") as f:\n",
    "            results = pickle.load(f)\n",
    "            d_results[sub_dir][phase] = results\n",
    "\n",
    "d_mapping = {4: 11, 12: 10, 17: 9}\n",
    "for sub_dir in d_mapping.keys():\n",
    "    d_results[sub_dir] = {}\n",
    "    for phase in ['apo', 'complex']:\n",
    "        if phase == \"complex\":\n",
    "            length = 50\n",
    "            main_dir = main_dir_rest\n",
    "            sub_dir_final = sub_dir\n",
    "            replicate = 0\n",
    "        else:\n",
    "            length = 10\n",
    "            main_dir = main_dir_og2\n",
    "            sub_dir_final = d_mapping[sub_dir]\n",
    "            if sub_dir_final == 11:\n",
    "                replicate = 0\n",
    "            else:\n",
    "                replicate = 1\n",
    "        \n",
    "        with open(f\"/data/chodera/zhangi/perses_benchmark/repex/perses-bnbs-paper-fourth-attempt/{main_dir}/{sub_dir_final}/replicate_{replicate}/{phase}_free_energy_bootstrapped_{length}ns.pickle\", \"rb\") as f:\n",
    "            results = pickle.load(f)\n",
    "            d_results[sub_dir][phase] = results\n",
    "        "
   ]
  },
  {
   "cell_type": "code",
   "execution_count": 6,
   "metadata": {},
   "outputs": [],
   "source": [
    "# Format the data appropriately for cinnabar\n",
    "\n",
    "titles = [\"Y29F\", \"Y29A\",  \"W38F\", \"T42A\", \"W44F\", \"E76A\", \"E80A\", \"D35A\", \"D39A\", \"K27A\", \"R59A\", \"R83Q\", \"R87A\", \"H102A\", \"F29Y\", \"A29Y\",  \"F38W\", \"A42T\", \"F44W\", \"A76E\", \"A80E\", \"A35D\", \"A39D\", \"A27K\", \"A59R\", \"Q83R\", \"A87R\", \"A102H\"]\n",
    "\n",
    "to_plot_arest = []\n",
    "\n",
    "for sub_dir in range(28):\n",
    "    ddg = compute_ddg(d_results[sub_dir]['apo'][\"Deltaf\"][0, -1], d_results[sub_dir]['complex'][\"Deltaf\"][0, -1])\n",
    "    dddg = compute_error(d_results[sub_dir]['apo'][\"dDeltaf\"][0, -1], d_results[sub_dir]['complex'][\"dDeltaf\"][0, -1])\n",
    "    if sub_dir in range(14):\n",
    "        to_plot_arest.append([titles[sub_dir][:-1], titles[sub_dir][-1] + titles[sub_dir][1:-1], ddg, dddg*2, 0])\n",
    "    else:\n",
    "        to_plot_arest.append([\"-\" + titles[sub_dir][:-1], \"-\" + titles[sub_dir][-1] + titles[sub_dir][1:-1], ddg * -1, dddg*2, 0])\n"
   ]
  },
  {
   "cell_type": "code",
   "execution_count": 7,
   "metadata": {},
   "outputs": [
    {
     "data": {
      "text/plain": [
       "[['Y29', 'F29', 0.837734436394328, 0.7013987349366633, 0],\n",
       " ['Y29', 'A29', 1.8498112959831658, 0.8488566977135539, 0],\n",
       " ['W38', 'F38', 0.053753372945006817, 0.9635271417908515, 0],\n",
       " ['T42', 'A42', 0.8924352772691933, 0.5153257852601384, 0],\n",
       " ['W44', 'F44', 0.42709806720309884, 0.9019485744191662, 0],\n",
       " ['E76', 'A76', 0.8007754184594734, 1.4480394737620523, 0],\n",
       " ['E80', 'A80', 0.10110859365214786, 1.4577355980951345, 0],\n",
       " ['D35', 'A35', 1.176679047197878, 1.1404444826131526, 0],\n",
       " ['D39', 'A39', 6.462788148992341, 1.1377245018157507, 0],\n",
       " ['K27', 'A27', 2.795742289639051, 1.3687599445871335, 0],\n",
       " ['R59', 'A59', 3.75017338663973, 1.5205352417583822, 0],\n",
       " ['R83', 'Q83', 1.995752829087074, 1.1595673679114653, 0],\n",
       " ['R87', 'A87', 6.997693978380269, 1.1952217637595801, 0],\n",
       " ['H102', 'A102', 6.842373553462718, 0.5799253695382593, 0],\n",
       " ['-F29', '-Y29', 0.8846591017023435, 0.9471178849218759, 0],\n",
       " ['-A29', '-Y29', 1.3333941144661665, 0.8779518390710238, 0],\n",
       " ['-F38', '-W38', 0.8126016859941994, 0.9457649079250393, 0],\n",
       " ['-A42', '-T42', 0.6312937075481955, 0.5159833311762065, 0],\n",
       " ['-F44', '-W44', 0.6979934265434882, 1.0314956208602786, 0],\n",
       " ['-A76', '-E76', 1.1694271185919547, 1.549281330631982, 0],\n",
       " ['-A80', '-E80', 0.5028457519866265, 1.5466454769137141, 0],\n",
       " ['-A35', '-D35', 2.367084935779758, 1.3777619323866226, 0],\n",
       " ['-A39', '-D39', 7.145834456105177, 1.3821916051628131, 0],\n",
       " ['-A27', '-K27', 2.7663705393068625, 1.2870263707987073, 0],\n",
       " ['-A59', '-R59', 4.096742151083049, 1.3891963775002278, 0],\n",
       " ['-Q83', '-R83', 1.9501305734003438, 1.4243968323647327, 0],\n",
       " ['-A87', '-R87', 6.1875835702551285, 1.2180789233983655, 0],\n",
       " ['-A102', '-H102', 6.608595827461716, 0.4609545336794454, 0]]"
      ]
     },
     "execution_count": 7,
     "metadata": {},
     "output_type": "execute_result"
    }
   ],
   "source": [
    "to_plot_arest"
   ]
  },
  {
   "cell_type": "markdown",
   "metadata": {},
   "source": [
    "## AREST vs AREX correlation plot"
   ]
  },
  {
   "cell_type": "code",
   "execution_count": 8,
   "metadata": {},
   "outputs": [],
   "source": [
    "import numpy as np\n",
    "\n",
    "%matplotlib inline\n",
    "import matplotlib.pylab as plt\n",
    "\n",
    "from cinnabar import plotting, stats, wrangle"
   ]
  },
  {
   "cell_type": "code",
   "execution_count": 9,
   "metadata": {},
   "outputs": [
    {
     "data": {
      "image/png": "[encoded data removed]",
      "text/plain": [
       "<Figure size 720x720 with 1 Axes>"
      ]
     },
     "metadata": {
      "needs_background": "light"
     },
     "output_type": "display_data"
    }
   ],
   "source": [
    "# Format the data appropriately\n",
    "x = [entry[2] for i, entry in enumerate(to_plot_arex)] # arex\n",
    "y = [entry[2] for i, entry in enumerate(to_plot_arest)] # arest\n",
    "xerr =  [entry[3] for i, entry in enumerate(to_plot_arex)] # arex\n",
    "yerr = [entry[3] for i, entry in enumerate(to_plot_arest)] # arest\n",
    "x_data = np.asarray(x)\n",
    "y_data = np.asarray(y)\n",
    "\n",
    "# Generate the plot\n",
    "filename = '/data/chodera/zhangi/perses_benchmark/repex/perses-bnbs-paper-fourth-attempt/cinnabar_plot_arest_vs_arex_50ns.pdf'\n",
    "plot = plotting._master_plot(\n",
    "    x_data,\n",
    "    y_data,\n",
    "    xerr=xerr,\n",
    "    yerr=yerr,\n",
    "    filename=filename,\n",
    "    title=\"\",\n",
    "    target_name=\"barnase:barstar mutations\",\n",
    "    xlabel=\"AREX\",\n",
    "    ylabel=\"AREST\",\n",
    "    units=r'$\\mathrm{kcal\\,/mol}$', \n",
    "    figsize=10, \n",
    "    dpi=500,\n",
    "    xy_lim=[-5.5, 13.5],\n",
    "#     data_labels=labels_internal_consistency,\n",
    "    font_sizes={\"title\":20, \"labels\": 20, \"other\": 20},\n",
    "    scatter_kwargs={'s': 60})\n"
   ]
  },
  {
   "cell_type": "code",
   "execution_count": null,
   "metadata": {},
   "outputs": [],
   "source": []
  }
 ],
 "metadata": {
  "kernelspec": {
   "display_name": "Python 3 (ipykernel)",
   "language": "python",
   "name": "python3"
  },
  "language_info": {
   "codemirror_mode": {
    "name": "ipython",
    "version": 3
   },
   "file_extension": ".py",
   "mimetype": "text/x-python",
   "name": "python",
   "nbconvert_exporter": "python",
   "pygments_lexer": "ipython3",
   "version": "3.9.13"
  }
 },
 "nbformat": 4,
 "nbformat_minor": 4
}
