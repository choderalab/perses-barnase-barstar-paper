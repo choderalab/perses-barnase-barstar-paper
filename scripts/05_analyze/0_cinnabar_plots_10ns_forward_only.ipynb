{
 "cells": [
  {
   "cell_type": "markdown",
   "metadata": {},
   "source": [
    "## Gather the data"
   ]
  },
  {
   "cell_type": "code",
   "execution_count": 1,
   "metadata": {},
   "outputs": [
    {
     "name": "stderr",
     "output_type": "stream",
     "text": [
      "Warning: importing 'simtk.openmm' is deprecated.  Import 'openmm' instead.\n"
     ]
    }
   ],
   "source": [
    "import numpy as np\n",
    "import pickle\n",
    "from simtk.openmm import unit\n",
    "from openmmtools.constants import kB\n",
    "import pandas as pd\n",
    "\n",
    "import matplotlib.pyplot as plt\n",
    "KT_KCALMOL = kB * 300 * unit.kelvin / unit.kilocalories_per_mole"
   ]
  },
  {
   "cell_type": "code",
   "execution_count": 2,
   "metadata": {},
   "outputs": [],
   "source": [
    "def compute_ddg(apo_dg, complex_dg):\n",
    "    return complex_dg * KT_KCALMOL - apo_dg * KT_KCALMOL\n",
    "\n",
    "def compute_error(apo_ddg, complex_ddg):\n",
    "    return (apo_ddg**2 + complex_ddg**2)**0.5 * KT_KCALMOL"
   ]
  },
  {
   "cell_type": "code",
   "execution_count": 3,
   "metadata": {},
   "outputs": [],
   "source": [
    "# Retrieve free energies\n",
    "\n",
    "main_dir = 47\n",
    "sub_dirs = list(range(0, 4)) + list(range(5, 12)) + list(range(13, 17)) + list(range(18, 28))\n",
    "\n",
    "d_results = {}\n",
    "for sub_dir in sub_dirs:\n",
    "    d_results[sub_dir] = {}\n",
    "    for phase in ['apo', 'complex']:\n",
    "        with open(f\"/data/chodera/zhangi/perses_benchmark/repex/perses-bnbs-paper-fourth-attempt/{main_dir}/{sub_dir}/replicate_0/{phase}_free_energy_bootstrapped_10ns.pickle\", \"rb\") as f:\n",
    "            results = pickle.load(f)\n",
    "            d_results[sub_dir][phase] = results\n",
    "\n",
    "main_dir = 45\n",
    "d_mapping = {4: 11, 12: 10, 17: 9}\n",
    "for sub_dir in d_mapping.keys():\n",
    "    d_results[sub_dir] = {}\n",
    "    for phase in ['apo', 'complex']:\n",
    "        if sub_dir in [12, 17] and phase == \"complex\":\n",
    "            with open(f\"/data/chodera/zhangi/perses_benchmark/repex/perses-bnbs-paper-fourth-attempt/{main_dir}/{d_mapping[sub_dir]}/replicate_1/{phase}_free_energy_bootstrapped_10ns.pickle\", \"rb\") as f:\n",
    "                results = pickle.load(f)\n",
    "                d_results[sub_dir][phase] = results\n",
    "        else:\n",
    "            with open(f\"/data/chodera/zhangi/perses_benchmark/repex/perses-bnbs-paper-fourth-attempt/{main_dir}/{d_mapping[sub_dir]}/replicate_0/{phase}_free_energy_bootstrapped_10ns.pickle\", \"rb\") as f:\n",
    "                results = pickle.load(f)\n",
    "                d_results[sub_dir][phase] = results\n",
    "        "
   ]
  },
  {
   "cell_type": "code",
   "execution_count": 4,
   "metadata": {},
   "outputs": [],
   "source": [
    "# Format the data appropriately for cinnabar\n",
    "\n",
    "titles = [\"Y29F\", \"Y29A\",  \"W38F\", \"T42A\", \"W44F\", \"E76A\", \"E80A\", \"D35A\", \"D39A\", \"K27A\", \"R59A\", \"R83Q\", \"R87A\", \"H102A\"]\n",
    "\n",
    "to_plot = []\n",
    "\n",
    "for sub_dir in range(14):\n",
    "    ddg = compute_ddg(d_results[sub_dir]['apo'][\"Deltaf\"][0, -1], d_results[sub_dir]['complex'][\"Deltaf\"][0, -1])\n",
    "    dddg = compute_error(d_results[sub_dir]['apo'][\"dDeltaf\"][0, -1], d_results[sub_dir]['complex'][\"dDeltaf\"][0, -1])\n",
    "    to_plot.append([titles[sub_dir][:-1], titles[sub_dir][-1] + titles[sub_dir][1:-1], ddg, dddg, 0])\n"
   ]
  },
  {
   "cell_type": "code",
   "execution_count": 5,
   "metadata": {},
   "outputs": [
    {
     "data": {
      "text/plain": [
       "[['Y29', 'F29', 1.2878762895789428, 0.34175065740156324, 0],\n",
       " ['Y29', 'A29', 3.0930782909916843, 0.4202690805701328, 0],\n",
       " ['W38', 'F38', 1.0516712258569911, 0.3851241514456453, 0],\n",
       " ['T42', 'A42', 0.9685602409691327, 0.14491506117450562, 0],\n",
       " ['W44', 'F44', 0.10422351806408708, 0.4320534817185354, 0],\n",
       " ['E76', 'A76', 0.3594828069286091, 0.8223117053762311, 0],\n",
       " ['E80', 'A80', 0.11603711734416366, 0.7971527695712477, 0],\n",
       " ['D35', 'A35', 2.2064281903062435, 0.5511279965464388, 0],\n",
       " ['D39', 'A39', 6.913537220848905, 0.6197088861884918, 0],\n",
       " ['K27', 'A27', 4.060581469923541, 0.7395823625734228, 0],\n",
       " ['R59', 'A59', 3.8663082071279007, 0.85039200594391, 0],\n",
       " ['R83', 'Q83', 5.395459037150669, 0.7431305902817128, 0],\n",
       " ['R87', 'A87', 11.499058714398927, 0.7183410016113566, 0],\n",
       " ['H102', 'A102', 8.89738292711295, 0.19588024580144167, 0]]"
      ]
     },
     "execution_count": 5,
     "metadata": {},
     "output_type": "execute_result"
    }
   ],
   "source": [
    "to_plot"
   ]
  },
  {
   "cell_type": "code",
   "execution_count": 6,
   "metadata": {},
   "outputs": [
    {
     "ename": "IndexError",
     "evalue": "list index out of range",
     "output_type": "error",
     "traceback": [
      "\u001b[0;31m---------------------------------------------------------------------------\u001b[0m",
      "\u001b[0;31mIndexError\u001b[0m                                Traceback (most recent call last)",
      "Input \u001b[0;32mIn [6]\u001b[0m, in \u001b[0;36m<cell line: 3>\u001b[0;34m()\u001b[0m\n\u001b[1;32m      1\u001b[0m \u001b[38;5;66;03m# Get the discrepancy between forward and negative reverse DDGs\u001b[39;00m\n\u001b[1;32m      3\u001b[0m \u001b[38;5;28;01mfor\u001b[39;00m i \u001b[38;5;129;01min\u001b[39;00m \u001b[38;5;28mrange\u001b[39m(\u001b[38;5;241m14\u001b[39m):\n\u001b[0;32m----> 4\u001b[0m     \u001b[38;5;28mprint\u001b[39m(to_plot[i][\u001b[38;5;241m0\u001b[39m:\u001b[38;5;241m2\u001b[39m], to_plot[i][\u001b[38;5;241m2\u001b[39m] \u001b[38;5;241m-\u001b[39m \u001b[43mto_plot\u001b[49m\u001b[43m[\u001b[49m\u001b[43mi\u001b[49m\u001b[38;5;241;43m+\u001b[39;49m\u001b[38;5;241;43m14\u001b[39;49m\u001b[43m]\u001b[49m[\u001b[38;5;241m2\u001b[39m])\n",
      "\u001b[0;31mIndexError\u001b[0m: list index out of range"
     ]
    }
   ],
   "source": [
    "# Get the discrepancy between forward and negative reverse DDGs\n",
    "\n",
    "for i in range(14):\n",
    "    print(to_plot[i][0:2], to_plot[i][2] - to_plot[i+14][2])"
   ]
  },
  {
   "cell_type": "code",
   "execution_count": 7,
   "metadata": {},
   "outputs": [
    {
     "name": "stdout",
     "output_type": "stream",
     "text": [
      "['Y29', 'F29'] 1.387876289578943\n",
      "['Y29', 'A29'] -0.3069217090083156\n",
      "['W38', 'F38'] -0.548328774143009\n",
      "['T42', 'A42'] -0.8314397590308673\n",
      "['W44', 'F44'] 0.10422351806408708\n",
      "['E76', 'A76'] -1.0405171930713908\n",
      "['E80', 'A80'] -0.38396288265583634\n",
      "['D35', 'A35'] -2.2935718096937565\n",
      "['D39', 'A39'] -0.786462779151095\n",
      "['K27', 'A27'] -1.3394185300764594\n",
      "['R59', 'A59'] -1.3336917928720995\n",
      "['R83', 'Q83'] -0.004540962849331365\n",
      "['R87', 'A87'] 5.999058714398927\n",
      "['H102', 'A102'] 2.7973829271129507\n"
     ]
    },
    {
     "ename": "IndexError",
     "evalue": "list index out of range",
     "output_type": "error",
     "traceback": [
      "\u001b[0;31m---------------------------------------------------------------------------\u001b[0m",
      "\u001b[0;31mIndexError\u001b[0m                                Traceback (most recent call last)",
      "Input \u001b[0;32mIn [7]\u001b[0m, in \u001b[0;36m<cell line: 4>\u001b[0;34m()\u001b[0m\n\u001b[1;32m      3\u001b[0m experiment \u001b[38;5;241m=\u001b[39m [\u001b[38;5;241m-\u001b[39m\u001b[38;5;241m0.1\u001b[39m, \u001b[38;5;241m3.4\u001b[39m, \u001b[38;5;241m1.6\u001b[39m, \u001b[38;5;241m1.8\u001b[39m, \u001b[38;5;241m0\u001b[39m, \u001b[38;5;241m1.4\u001b[39m, \u001b[38;5;241m0.5\u001b[39m, \u001b[38;5;241m4.5\u001b[39m, \u001b[38;5;241m7.7\u001b[39m, \u001b[38;5;241m5.4\u001b[39m, \u001b[38;5;241m5.2\u001b[39m, \u001b[38;5;241m5.4\u001b[39m, \u001b[38;5;241m5.5\u001b[39m, \u001b[38;5;241m6.1\u001b[39m, \u001b[38;5;241m-\u001b[39m\u001b[38;5;241m0.1\u001b[39m, \u001b[38;5;241m3.4\u001b[39m, \u001b[38;5;241m1.6\u001b[39m, \u001b[38;5;241m1.8\u001b[39m, \u001b[38;5;241m0\u001b[39m, \u001b[38;5;241m1.4\u001b[39m, \u001b[38;5;241m0.5\u001b[39m, \u001b[38;5;241m4.5\u001b[39m, \u001b[38;5;241m7.7\u001b[39m, \u001b[38;5;241m5.4\u001b[39m, \u001b[38;5;241m5.2\u001b[39m, \u001b[38;5;241m5.4\u001b[39m, \u001b[38;5;241m5.5\u001b[39m, \u001b[38;5;241m6.1\u001b[39m]\n\u001b[1;32m      4\u001b[0m \u001b[38;5;28;01mfor\u001b[39;00m i \u001b[38;5;129;01min\u001b[39;00m \u001b[38;5;28mrange\u001b[39m(\u001b[38;5;241m28\u001b[39m):\n\u001b[0;32m----> 5\u001b[0m     \u001b[38;5;28mprint\u001b[39m(\u001b[43mto_plot\u001b[49m\u001b[43m[\u001b[49m\u001b[43mi\u001b[49m\u001b[43m]\u001b[49m[\u001b[38;5;241m0\u001b[39m:\u001b[38;5;241m2\u001b[39m], to_plot[i][\u001b[38;5;241m2\u001b[39m] \u001b[38;5;241m-\u001b[39m experiment[i])\n",
      "\u001b[0;31mIndexError\u001b[0m: list index out of range"
     ]
    }
   ],
   "source": [
    "# Get the discrepancy from experiment\n",
    "\n",
    "experiment = [-0.1, 3.4, 1.6, 1.8, 0, 1.4, 0.5, 4.5, 7.7, 5.4, 5.2, 5.4, 5.5, 6.1, -0.1, 3.4, 1.6, 1.8, 0, 1.4, 0.5, 4.5, 7.7, 5.4, 5.2, 5.4, 5.5, 6.1]\n",
    "for i in range(28):\n",
    "    print(to_plot[i][0:2], to_plot[i][2] - experiment[i])\n",
    "    "
   ]
  },
  {
   "cell_type": "code",
   "execution_count": 8,
   "metadata": {},
   "outputs": [],
   "source": [
    "# Assemble experimental values\n",
    "\n",
    "d = {'WT': 19.0, 'A27': 13.6, 'A59': 13.8, 'Q83': 13.6, 'A87': 13.5, \n",
    "     'A35': 14.5, 'A39': 11.3, 'A76': 17.65, 'A80': 18.5, 'F29': 19.1, \n",
    "     'A29': 15.6, 'F38': 17.4, 'A42': 17.2, 'F44': 19.0, 'A102': 12.9,\n",
    "     \n",
    "    '-A27': -13.6, '-A59': -13.8, '-Q83': -13.6, '-A87': -13.5, \n",
    "     '-A35': -14.5, '-A39': -11.3, '-A76': -17.65, '-A80': -18.5, '-F29': -19.1, \n",
    "     '-A29': -15.6, '-F38': -17.4, '-A42': -17.2, '-F44': -19.0, '-A102': -12.9\n",
    "    }\n",
    "\n",
    "experiment = []\n",
    "for k in d.keys():\n",
    "    if k == 'WT':\n",
    "        for wt_residue in ['K27', 'R59', 'R83', 'R87', 'H102', \n",
    "                           'D35', 'D39', 'E76', 'E80',\n",
    "                           'Y29', 'W38', 'T42', 'W44']:\n",
    "            experiment.append([wt_residue, d[k]*-1, 0.1]) \n",
    "            experiment.append([\"-\" + wt_residue, d[k], 0.1])\n",
    "    else:\n",
    "        experiment.append([k, d[k]*-1, 0.1]) \n",
    "        \n",
    "# Note: we take the negative of everything because the free energies are subtracted differently in Schreiber et al"
   ]
  },
  {
   "cell_type": "markdown",
   "metadata": {},
   "source": [
    "## Calculated vs Experiment plot"
   ]
  },
  {
   "cell_type": "code",
   "execution_count": 9,
   "metadata": {
    "scrolled": true
   },
   "outputs": [],
   "source": [
    "import numpy as np\n",
    "\n",
    "%matplotlib inline\n",
    "import matplotlib.pylab as plt\n",
    "\n",
    "from cinnabar import plotting, stats, wrangle"
   ]
  },
  {
   "cell_type": "code",
   "execution_count": 10,
   "metadata": {},
   "outputs": [],
   "source": [
    "# Write csv with data\n",
    "pd.DataFrame(experiment + to_plot).to_csv(f\"/data/chodera/zhangi/perses_benchmark/repex/perses-bnbs-paper-fourth-attempt/cinnabar_input_10ns_forward_only.csv\", index=False, header=False)\n",
    "# Had to manually add headings, otherwise the lists wouldn't print out as comma separated\n",
    "# Had to remove extra commas in experimental block\n"
   ]
  },
  {
   "cell_type": "code",
   "execution_count": 11,
   "metadata": {},
   "outputs": [
    {
     "name": "stdout",
     "output_type": "stream",
     "text": [
      "Graph is not connected enough to compute absolute values\n"
     ]
    }
   ],
   "source": [
    "# Create map with the csv file\n",
    "fe = wrangle.FEMap('/data/chodera/zhangi/perses_benchmark/repex/perses-bnbs-paper-fourth-attempt/cinnabar_input_10ns_forward_only.csv')\n"
   ]
  },
  {
   "cell_type": "code",
   "execution_count": 12,
   "metadata": {
    "scrolled": false
   },
   "outputs": [
    {
     "data": {
      "image/png": "[encoded data removed]",
      "text/plain": [
       "<Figure size 720x720 with 1 Axes>"
      ]
     },
     "metadata": {
      "needs_background": "light"
     },
     "output_type": "display_data"
    }
   ],
   "source": [
    "# Generate and save plot\n",
    "plotting.plot_DDGs(fe.graph, \n",
    "                   target_name='barnase/barstar', \n",
    "                   title='Mutations in barnase or barstar', \n",
    "                   units=r'$\\mathrm{kcal\\,/mol}$', \n",
    "                   filename='/data/chodera/zhangi/perses_benchmark/repex/perses-bnbs-paper-fourth-attempt/cinnabar_plot_10ns_forward_only.pdf', \n",
    "                   figsize=10, \n",
    "                   dpi=500, \n",
    "                   data_label_type='protein-mutation', \n",
    "                   font_sizes={\"title\":15, \"labels\": 11, \"other\": 15},\n",
    "                   axis_padding=1,)\n",
    "#                    xy_lim=[-5, 16],)\n"
   ]
  },
  {
   "cell_type": "code",
   "execution_count": null,
   "metadata": {},
   "outputs": [],
   "source": []
  }
 ],
 "metadata": {
  "kernelspec": {
   "display_name": "Python 3 (ipykernel)",
   "language": "python",
   "name": "python3"
  },
  "language_info": {
   "codemirror_mode": {
    "name": "ipython",
    "version": 3
   },
   "file_extension": ".py",
   "mimetype": "text/x-python",
   "name": "python",
   "nbconvert_exporter": "python",
   "pygments_lexer": "ipython3",
   "version": "3.9.13"
  }
 },
 "nbformat": 4,
 "nbformat_minor": 4
}
