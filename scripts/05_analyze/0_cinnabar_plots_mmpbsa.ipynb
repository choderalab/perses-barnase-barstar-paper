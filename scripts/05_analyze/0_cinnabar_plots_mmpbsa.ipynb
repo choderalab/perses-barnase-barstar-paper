{
 "cells": [
  {
   "cell_type": "markdown",
   "metadata": {},
   "source": [
    "## Gather the data"
   ]
  },
  {
   "cell_type": "code",
   "execution_count": 24,
   "metadata": {},
   "outputs": [
    {
     "name": "stderr",
     "output_type": "stream",
     "text": [
      "Warning: importing 'simtk.openmm' is deprecated.  Import 'openmm' instead.\n"
     ]
    }
   ],
   "source": [
    "import numpy as np\n",
    "import pickle\n",
    "from simtk.openmm import unit\n",
    "from openmmtools.constants import kB\n",
    "import pandas as pd\n",
    "\n",
    "import matplotlib.pyplot as plt\n",
    "KT_KCALMOL = kB * 300 * unit.kelvin / unit.kilocalories_per_mole"
   ]
  },
  {
   "cell_type": "code",
   "execution_count": 2,
   "metadata": {},
   "outputs": [],
   "source": [
    "def compute_ddg(apo_dg, complex_dg):\n",
    "    return complex_dg * KT_KCALMOL - apo_dg * KT_KCALMOL\n",
    "\n",
    "def compute_error(apo_ddg, complex_ddg):\n",
    "    return (apo_ddg**2 + complex_ddg**2)**0.5 * KT_KCALMOL"
   ]
  },
  {
   "cell_type": "code",
   "execution_count": 17,
   "metadata": {},
   "outputs": [],
   "source": [
    "# source: table 1 of https://www.ncbi.nlm.nih.gov/pmc/articles/PMC1304567/\n",
    "\n",
    "# Format the data appropriately for cinnabar\n",
    "\n",
    "# titles = [\"Y29F\", \"Y29A\",  \"W38F\", \"T42A\", \"W44F\", \"E76A\", \"E80A\", \"D35A\", \"D39A\", \"K27A\", \"R59A\", \"R83Q\", \"R87A\", \"H102A\", \"F29Y\", \"A29Y\",  \"F38W\", \"A42T\", \"F44W\", \"A76E\", \"A80E\", \"A35D\", \"A39D\", \"A27K\", \"A59R\", \"Q83R\", \"A87R\", \"A102H\"]\n",
    "# wt = -18.35\n",
    "# ddgs = [-17.60, -16.1, -16.97, -16.62, -18.23, -16.06, -16.44, -13.75, -13.87, -14.15, -14.49, -13.75, -14.22, -13.66] + [-17.60, -16.1, -16.97, -16.62, -18.23, -16.06, -16.44, -13.75, -13.87, -14.15, -14.49, -13.75, -14.22, -13.66]\n",
    "\n",
    "titles = [\"Y29F\", \"Y29A\",  \"W38F\", \"T42A\", \"W44F\", \"E76A\", \"E80A\", \"D35A\", \"D39A\", \"K27A\", \"R59A\", \"R83Q\", \"R87A\", \"H102A\"]\n",
    "wt = -18.35\n",
    "ddgs = [-17.60, -16.1, -16.97, -16.62, -18.23, -16.06, -16.44, -13.75, -13.87, -14.15, -14.49, -13.75, -14.22, -13.66]\n",
    "\n",
    "to_plot = []\n",
    "\n",
    "for sub_dir, ddg in enumerate(ddgs):\n",
    "#     ddg = compute_ddg(d_results[sub_dir]['apo'][\"Deltaf\"][0, -1], d_results[sub_dir]['complex'][\"Deltaf\"][0, -1])\n",
    "#     dddg = compute_error(d_results[sub_dir]['apo'][\"dDeltaf\"][0, -1], d_results[sub_dir]['complex'][\"dDeltaf\"][0, -1])\n",
    "    if sub_dir in range(14):\n",
    "        to_plot.append([titles[sub_dir][:-1], titles[sub_dir][-1] + titles[sub_dir][1:-1], ddg - wt, 0, 0])\n",
    "    else:\n",
    "        to_plot.append([\"-\" + titles[sub_dir][:-1], \"-\" + titles[sub_dir][-1] + titles[sub_dir][1:-1], ddg - wt, 0, 0])\n",
    "\n",
    "        "
   ]
  },
  {
   "cell_type": "code",
   "execution_count": 18,
   "metadata": {},
   "outputs": [
    {
     "data": {
      "text/plain": [
       "[['Y29', 'F29', 0.75, 0, 0],\n",
       " ['Y29', 'A29', 2.25, 0, 0],\n",
       " ['W38', 'F38', 1.3800000000000026, 0, 0],\n",
       " ['T42', 'A42', 1.7300000000000004, 0, 0],\n",
       " ['W44', 'F44', 0.120000000000001, 0, 0],\n",
       " ['E76', 'A76', 2.2900000000000027, 0, 0],\n",
       " ['E80', 'A80', 1.9100000000000001, 0, 0],\n",
       " ['D35', 'A35', 4.600000000000001, 0, 0],\n",
       " ['D39', 'A39', 4.480000000000002, 0, 0],\n",
       " ['K27', 'A27', 4.200000000000001, 0, 0],\n",
       " ['R59', 'A59', 3.860000000000001, 0, 0],\n",
       " ['R83', 'Q83', 4.600000000000001, 0, 0],\n",
       " ['R87', 'A87', 4.130000000000001, 0, 0],\n",
       " ['H102', 'A102', 4.690000000000001, 0, 0]]"
      ]
     },
     "execution_count": 18,
     "metadata": {},
     "output_type": "execute_result"
    }
   ],
   "source": [
    "to_plot"
   ]
  },
  {
   "cell_type": "code",
   "execution_count": 19,
   "metadata": {},
   "outputs": [
    {
     "ename": "IndexError",
     "evalue": "list index out of range",
     "output_type": "error",
     "traceback": [
      "\u001b[0;31m---------------------------------------------------------------------------\u001b[0m",
      "\u001b[0;31mIndexError\u001b[0m                                Traceback (most recent call last)",
      "Input \u001b[0;32mIn [19]\u001b[0m, in \u001b[0;36m<cell line: 3>\u001b[0;34m()\u001b[0m\n\u001b[1;32m      1\u001b[0m \u001b[38;5;66;03m# Get the discrepancy between forward and negative reverse DDGs\u001b[39;00m\n\u001b[1;32m      3\u001b[0m \u001b[38;5;28;01mfor\u001b[39;00m i \u001b[38;5;129;01min\u001b[39;00m \u001b[38;5;28mrange\u001b[39m(\u001b[38;5;241m14\u001b[39m):\n\u001b[0;32m----> 4\u001b[0m     \u001b[38;5;28mprint\u001b[39m(to_plot[i][\u001b[38;5;241m0\u001b[39m:\u001b[38;5;241m2\u001b[39m], to_plot[i][\u001b[38;5;241m2\u001b[39m] \u001b[38;5;241m-\u001b[39m \u001b[43mto_plot\u001b[49m\u001b[43m[\u001b[49m\u001b[43mi\u001b[49m\u001b[38;5;241;43m+\u001b[39;49m\u001b[38;5;241;43m14\u001b[39;49m\u001b[43m]\u001b[49m[\u001b[38;5;241m2\u001b[39m])\n",
      "\u001b[0;31mIndexError\u001b[0m: list index out of range"
     ]
    }
   ],
   "source": [
    "# Get the discrepancy between forward and negative reverse DDGs\n",
    "\n",
    "for i in range(14):\n",
    "    print(to_plot[i][0:2], to_plot[i][2] - to_plot[i+14][2])"
   ]
  },
  {
   "cell_type": "code",
   "execution_count": 20,
   "metadata": {},
   "outputs": [
    {
     "name": "stdout",
     "output_type": "stream",
     "text": [
      "['Y29', 'F29'] 0.85\n",
      "['Y29', 'A29'] -1.15\n",
      "['W38', 'F38'] -0.21999999999999753\n",
      "['T42', 'A42'] -0.06999999999999962\n",
      "['W44', 'F44'] 0.120000000000001\n",
      "['E76', 'A76'] 0.8900000000000028\n",
      "['E80', 'A80'] 1.4100000000000001\n",
      "['D35', 'A35'] 0.10000000000000142\n",
      "['D39', 'A39'] -3.219999999999998\n",
      "['K27', 'A27'] -1.1999999999999993\n",
      "['R59', 'A59'] -1.339999999999999\n",
      "['R83', 'Q83'] -0.7999999999999989\n",
      "['R87', 'A87'] -1.3699999999999992\n",
      "['H102', 'A102'] -1.4099999999999984\n"
     ]
    },
    {
     "ename": "IndexError",
     "evalue": "list index out of range",
     "output_type": "error",
     "traceback": [
      "\u001b[0;31m---------------------------------------------------------------------------\u001b[0m",
      "\u001b[0;31mIndexError\u001b[0m                                Traceback (most recent call last)",
      "Input \u001b[0;32mIn [20]\u001b[0m, in \u001b[0;36m<cell line: 4>\u001b[0;34m()\u001b[0m\n\u001b[1;32m      3\u001b[0m experiment \u001b[38;5;241m=\u001b[39m [\u001b[38;5;241m-\u001b[39m\u001b[38;5;241m0.1\u001b[39m, \u001b[38;5;241m3.4\u001b[39m, \u001b[38;5;241m1.6\u001b[39m, \u001b[38;5;241m1.8\u001b[39m, \u001b[38;5;241m0\u001b[39m, \u001b[38;5;241m1.4\u001b[39m, \u001b[38;5;241m0.5\u001b[39m, \u001b[38;5;241m4.5\u001b[39m, \u001b[38;5;241m7.7\u001b[39m, \u001b[38;5;241m5.4\u001b[39m, \u001b[38;5;241m5.2\u001b[39m, \u001b[38;5;241m5.4\u001b[39m, \u001b[38;5;241m5.5\u001b[39m, \u001b[38;5;241m6.1\u001b[39m, \u001b[38;5;241m-\u001b[39m\u001b[38;5;241m0.1\u001b[39m, \u001b[38;5;241m3.4\u001b[39m, \u001b[38;5;241m1.6\u001b[39m, \u001b[38;5;241m1.8\u001b[39m, \u001b[38;5;241m0\u001b[39m, \u001b[38;5;241m1.4\u001b[39m, \u001b[38;5;241m0.5\u001b[39m, \u001b[38;5;241m4.5\u001b[39m, \u001b[38;5;241m7.7\u001b[39m, \u001b[38;5;241m5.4\u001b[39m, \u001b[38;5;241m5.2\u001b[39m, \u001b[38;5;241m5.4\u001b[39m, \u001b[38;5;241m5.5\u001b[39m, \u001b[38;5;241m6.1\u001b[39m]\n\u001b[1;32m      4\u001b[0m \u001b[38;5;28;01mfor\u001b[39;00m i \u001b[38;5;129;01min\u001b[39;00m \u001b[38;5;28mrange\u001b[39m(\u001b[38;5;241m28\u001b[39m):\n\u001b[0;32m----> 5\u001b[0m     \u001b[38;5;28mprint\u001b[39m(\u001b[43mto_plot\u001b[49m\u001b[43m[\u001b[49m\u001b[43mi\u001b[49m\u001b[43m]\u001b[49m[\u001b[38;5;241m0\u001b[39m:\u001b[38;5;241m2\u001b[39m], to_plot[i][\u001b[38;5;241m2\u001b[39m] \u001b[38;5;241m-\u001b[39m experiment[i])\n",
      "\u001b[0;31mIndexError\u001b[0m: list index out of range"
     ]
    }
   ],
   "source": [
    "# Get the discrepancy from experiment\n",
    "\n",
    "experiment = [-0.1, 3.4, 1.6, 1.8, 0, 1.4, 0.5, 4.5, 7.7, 5.4, 5.2, 5.4, 5.5, 6.1, -0.1, 3.4, 1.6, 1.8, 0, 1.4, 0.5, 4.5, 7.7, 5.4, 5.2, 5.4, 5.5, 6.1]\n",
    "for i in range(28):\n",
    "    print(to_plot[i][0:2], to_plot[i][2] - experiment[i])\n",
    "    "
   ]
  },
  {
   "cell_type": "code",
   "execution_count": 21,
   "metadata": {},
   "outputs": [],
   "source": [
    "# Assemble experimental values\n",
    "\n",
    "d = {'WT': 19.0, 'A27': 13.6, 'A59': 13.8, 'Q83': 13.6, 'A87': 13.5, \n",
    "     'A35': 14.5, 'A39': 11.3, 'A76': 17.65, 'A80': 18.5, 'F29': 19.1, \n",
    "     'A29': 15.6, 'F38': 17.4, 'A42': 17.2, 'F44': 19.0, 'A102': 12.9,\n",
    "     \n",
    "    '-A27': -13.6, '-A59': -13.8, '-Q83': -13.6, '-A87': -13.5, \n",
    "     '-A35': -14.5, '-A39': -11.3, '-A76': -17.65, '-A80': -18.5, '-F29': -19.1, \n",
    "     '-A29': -15.6, '-F38': -17.4, '-A42': -17.2, '-F44': -19.0, '-A102': -12.9\n",
    "    }\n",
    "\n",
    "experiment = []\n",
    "for k in d.keys():\n",
    "    if k == 'WT':\n",
    "        for wt_residue in ['K27', 'R59', 'R83', 'R87', 'H102', \n",
    "                           'D35', 'D39', 'E76', 'E80',\n",
    "                           'Y29', 'W38', 'T42', 'W44']:\n",
    "            experiment.append([wt_residue, d[k]*-1, 0.1]) \n",
    "            experiment.append([\"-\" + wt_residue, d[k], 0.1])\n",
    "    else:\n",
    "        experiment.append([k, d[k]*-1, 0.1]) \n",
    "        \n",
    "# Note: we take the negative of everything because the free energies are subtracted differently in Schreiber et al"
   ]
  },
  {
   "cell_type": "markdown",
   "metadata": {},
   "source": [
    "## Calculated vs Experiment plot"
   ]
  },
  {
   "cell_type": "code",
   "execution_count": 22,
   "metadata": {
    "scrolled": true
   },
   "outputs": [],
   "source": [
    "import numpy as np\n",
    "\n",
    "%matplotlib inline\n",
    "import matplotlib.pylab as plt\n",
    "\n",
    "from cinnabar import plotting, stats, wrangle"
   ]
  },
  {
   "cell_type": "code",
   "execution_count": 25,
   "metadata": {},
   "outputs": [],
   "source": [
    "# Write csv with data\n",
    "pd.DataFrame(experiment + to_plot).to_csv(f\"/data/chodera/zhangi/perses_benchmark/repex/perses-bnbs-paper-fourth-attempt/cinnabar_input_mmpbsa.csv\", index=False, header=False)\n",
    "# Had to manually add headings, otherwise the lists wouldn't print out as comma separated\n",
    "# Had to remove extra commas in experimental block\n"
   ]
  },
  {
   "cell_type": "code",
   "execution_count": 26,
   "metadata": {},
   "outputs": [
    {
     "name": "stdout",
     "output_type": "stream",
     "text": [
      "Graph is not connected enough to compute absolute values\n"
     ]
    }
   ],
   "source": [
    "# Create map with the csv file\n",
    "fe = wrangle.FEMap('/data/chodera/zhangi/perses_benchmark/repex/perses-bnbs-paper-fourth-attempt/cinnabar_input_mmpbsa.csv')\n"
   ]
  },
  {
   "cell_type": "code",
   "execution_count": 27,
   "metadata": {
    "scrolled": false
   },
   "outputs": [
    {
     "data": {
      "image/png": "[encoded data removed]",
      "text/plain": [
       "<Figure size 720x720 with 1 Axes>"
      ]
     },
     "metadata": {
      "needs_background": "light"
     },
     "output_type": "display_data"
    }
   ],
   "source": [
    "# Generate and save plot\n",
    "plotting.plot_DDGs(fe.graph, \n",
    "                   target_name='barnase/barstar', \n",
    "                   title='Mutations in barnase or barstar', \n",
    "                   units=r'$\\mathrm{kcal\\,/mol}$', \n",
    "                   filename='/data/chodera/zhangi/perses_benchmark/repex/perses-bnbs-paper-fourth-attempt/cinnabar_plot_mmpbsa.pdf', \n",
    "                   figsize=10, \n",
    "                   dpi=500, \n",
    "                   data_label_type='protein-mutation', \n",
    "                   font_sizes={\"title\":15, \"labels\": 11, \"other\": 15},\n",
    "                   axis_padding=1,)\n",
    "#                    xy_lim=[-5, 16],)\n"
   ]
  },
  {
   "cell_type": "code",
   "execution_count": null,
   "metadata": {},
   "outputs": [],
   "source": []
  }
 ],
 "metadata": {
  "kernelspec": {
   "display_name": "Python 3 (ipykernel)",
   "language": "python",
   "name": "python3"
  },
  "language_info": {
   "codemirror_mode": {
    "name": "ipython",
    "version": 3
   },
   "file_extension": ".py",
   "mimetype": "text/x-python",
   "name": "python",
   "nbconvert_exporter": "python",
   "pygments_lexer": "ipython3",
   "version": "3.9.13"
  }
 },
 "nbformat": 4,
 "nbformat_minor": 4
}
