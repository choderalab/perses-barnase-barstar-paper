{
 "cells": [
  {
   "cell_type": "code",
   "execution_count": 15,
   "id": "89c73e76",
   "metadata": {},
   "outputs": [],
   "source": [
    "from openmmtools.multistate import MultiStateReporter, MultiStateSamplerAnalyzer\n",
    "\n",
    "from tqdm import tqdm_notebook\n",
    "\n",
    "import matplotlib.pyplot as plt\n",
    "\n",
    "import pickle\n",
    "\n",
    "import numpy as np"
   ]
  },
  {
   "cell_type": "markdown",
   "id": "c3cba82c",
   "metadata": {},
   "source": [
    "# Terminally-blocked amino acids"
   ]
  },
  {
   "cell_type": "markdown",
   "id": "05418ab2",
   "metadata": {},
   "source": [
    "## Retrieve maximum of diagonals (ACE-X-NME)"
   ]
  },
  {
   "cell_type": "code",
   "execution_count": 41,
   "id": "c6be698f",
   "metadata": {
    "scrolled": true
   },
   "outputs": [
    {
     "name": "stderr",
     "output_type": "stream",
     "text": [
      "/scratch/lsftmp/11715100.tmpdir/ipykernel_50858/2194190649.py:2: TqdmDeprecationWarning: This function will be removed in tqdm==5.0.0\n",
      "Please use `tqdm.notebook.tqdm` instead of `tqdm.tqdm_notebook`\n",
      "  for sub_dir in tqdm_notebook(range(20)):\n"
     ]
    },
    {
     "data": {
      "application/vnd.jupyter.widget-view+json": {
       "model_id": "be64deb6adbd4ea2ab695b97abb078b2",
       "version_major": 2,
       "version_minor": 0
      },
      "text/plain": [
       "  0%|          | 0/20 [00:00<?, ?it/s]"
      ]
     },
     "metadata": {},
     "output_type": "display_data"
    },
    {
     "name": "stderr",
     "output_type": "stream",
     "text": [
      "Warning: The openmmtools.multistate API is experimental and may change in future releases\n",
      "Warning: The openmmtools.multistate API is experimental and may change in future releases\n",
      "Warning: The openmmtools.multistate API is experimental and may change in future releases\n",
      "Warning: The openmmtools.multistate API is experimental and may change in future releases\n",
      "Warning: The openmmtools.multistate API is experimental and may change in future releases\n",
      "Warning: The openmmtools.multistate API is experimental and may change in future releases\n",
      "Warning: The openmmtools.multistate API is experimental and may change in future releases\n",
      "Warning: The openmmtools.multistate API is experimental and may change in future releases\n",
      "Warning: The openmmtools.multistate API is experimental and may change in future releases\n",
      "Warning: The openmmtools.multistate API is experimental and may change in future releases\n",
      "Warning: The openmmtools.multistate API is experimental and may change in future releases\n",
      "Warning: The openmmtools.multistate API is experimental and may change in future releases\n",
      "Warning: The openmmtools.multistate API is experimental and may change in future releases\n",
      "Warning: The openmmtools.multistate API is experimental and may change in future releases\n",
      "Warning: The openmmtools.multistate API is experimental and may change in future releases\n",
      "Warning: The openmmtools.multistate API is experimental and may change in future releases\n",
      "Warning: The openmmtools.multistate API is experimental and may change in future releases\n",
      "Warning: The openmmtools.multistate API is experimental and may change in future releases\n",
      "Warning: The openmmtools.multistate API is experimental and may change in future releases\n",
      "Warning: The openmmtools.multistate API is experimental and may change in future releases\n",
      "Warning: The openmmtools.multistate API is experimental and may change in future releases\n",
      "Warning: The openmmtools.multistate API is experimental and may change in future releases\n",
      "Warning: The openmmtools.multistate API is experimental and may change in future releases\n",
      "Warning: The openmmtools.multistate API is experimental and may change in future releases\n",
      "Warning: The openmmtools.multistate API is experimental and may change in future releases\n",
      "Warning: The openmmtools.multistate API is experimental and may change in future releases\n",
      "Warning: The openmmtools.multistate API is experimental and may change in future releases\n",
      "Warning: The openmmtools.multistate API is experimental and may change in future releases\n",
      "Warning: The openmmtools.multistate API is experimental and may change in future releases\n",
      "Warning: The openmmtools.multistate API is experimental and may change in future releases\n",
      "Warning: The openmmtools.multistate API is experimental and may change in future releases\n",
      "Warning: The openmmtools.multistate API is experimental and may change in future releases\n",
      "Warning: The openmmtools.multistate API is experimental and may change in future releases\n",
      "Warning: The openmmtools.multistate API is experimental and may change in future releases\n",
      "Warning: The openmmtools.multistate API is experimental and may change in future releases\n",
      "Warning: The openmmtools.multistate API is experimental and may change in future releases\n",
      "Warning: The openmmtools.multistate API is experimental and may change in future releases\n",
      "Warning: The openmmtools.multistate API is experimental and may change in future releases\n",
      "Warning: The openmmtools.multistate API is experimental and may change in future releases\n",
      "Warning: The openmmtools.multistate API is experimental and may change in future releases\n"
     ]
    }
   ],
   "source": [
    "max_diagonals = []\n",
    "for sub_dir in tqdm_notebook(range(20)):\n",
    "    filename = f\"/data/chodera/zhangi/perses_benchmark/repex/perses-bnbs-paper-fourth-attempt/46/{sub_dir}/replicate_0/{sub_dir}_apo.nc\"\n",
    "    reporter = MultiStateReporter(filename, open_mode='r')\n",
    "    analyzer = MultiStateSamplerAnalyzer(reporter, max_n_iterations=5000)\n",
    "    transition_matrix, eigenvalues, g_t = analyzer.generate_mixing_statistics()\n",
    "    n_states = transition_matrix.shape[0]\n",
    "    diagonals = [transition_matrix[state_index][state_index] for state_index in range(n_states)]\n",
    "    max_diagonals.append(max(diagonals))"
   ]
  },
  {
   "cell_type": "code",
   "execution_count": 42,
   "id": "81f2660d",
   "metadata": {},
   "outputs": [],
   "source": [
    "with open(\"/data/chodera/zhangi/perses_benchmark/repex/perses-bnbs-paper-fourth-attempt/46/max_diagonals.pickle\", \"wb\") as f:\n",
    "    pickle.dump(max_diagonals, f)"
   ]
  },
  {
   "cell_type": "markdown",
   "id": "4f16d8ea",
   "metadata": {},
   "source": [
    "## Retrieve maximum of diagonals (ALA-X-ALA)"
   ]
  },
  {
   "cell_type": "code",
   "execution_count": 43,
   "id": "04699382",
   "metadata": {
    "scrolled": true
   },
   "outputs": [
    {
     "name": "stderr",
     "output_type": "stream",
     "text": [
      "/scratch/lsftmp/11715100.tmpdir/ipykernel_50858/3634508974.py:2: TqdmDeprecationWarning: This function will be removed in tqdm==5.0.0\n",
      "Please use `tqdm.notebook.tqdm` instead of `tqdm.tqdm_notebook`\n",
      "  for sub_dir in tqdm_notebook(range(20, 40)):\n"
     ]
    },
    {
     "data": {
      "application/vnd.jupyter.widget-view+json": {
       "model_id": "6fd6eb933e7f4b0bbdc3d64ca2986080",
       "version_major": 2,
       "version_minor": 0
      },
      "text/plain": [
       "  0%|          | 0/20 [00:00<?, ?it/s]"
      ]
     },
     "metadata": {},
     "output_type": "display_data"
    },
    {
     "name": "stderr",
     "output_type": "stream",
     "text": [
      "Warning: The openmmtools.multistate API is experimental and may change in future releases\n",
      "Warning: The openmmtools.multistate API is experimental and may change in future releases\n",
      "Warning: The openmmtools.multistate API is experimental and may change in future releases\n",
      "Warning: The openmmtools.multistate API is experimental and may change in future releases\n",
      "Warning: The openmmtools.multistate API is experimental and may change in future releases\n",
      "Warning: The openmmtools.multistate API is experimental and may change in future releases\n",
      "Warning: The openmmtools.multistate API is experimental and may change in future releases\n",
      "Warning: The openmmtools.multistate API is experimental and may change in future releases\n",
      "Warning: The openmmtools.multistate API is experimental and may change in future releases\n",
      "Warning: The openmmtools.multistate API is experimental and may change in future releases\n",
      "Warning: The openmmtools.multistate API is experimental and may change in future releases\n",
      "Warning: The openmmtools.multistate API is experimental and may change in future releases\n",
      "Warning: The openmmtools.multistate API is experimental and may change in future releases\n",
      "Warning: The openmmtools.multistate API is experimental and may change in future releases\n",
      "Warning: The openmmtools.multistate API is experimental and may change in future releases\n",
      "Warning: The openmmtools.multistate API is experimental and may change in future releases\n",
      "Warning: The openmmtools.multistate API is experimental and may change in future releases\n",
      "Warning: The openmmtools.multistate API is experimental and may change in future releases\n",
      "Warning: The openmmtools.multistate API is experimental and may change in future releases\n",
      "Warning: The openmmtools.multistate API is experimental and may change in future releases\n",
      "Warning: The openmmtools.multistate API is experimental and may change in future releases\n",
      "Warning: The openmmtools.multistate API is experimental and may change in future releases\n",
      "Warning: The openmmtools.multistate API is experimental and may change in future releases\n",
      "Warning: The openmmtools.multistate API is experimental and may change in future releases\n",
      "Warning: The openmmtools.multistate API is experimental and may change in future releases\n",
      "Warning: The openmmtools.multistate API is experimental and may change in future releases\n",
      "Warning: The openmmtools.multistate API is experimental and may change in future releases\n",
      "Warning: The openmmtools.multistate API is experimental and may change in future releases\n",
      "Warning: The openmmtools.multistate API is experimental and may change in future releases\n",
      "Warning: The openmmtools.multistate API is experimental and may change in future releases\n",
      "Warning: The openmmtools.multistate API is experimental and may change in future releases\n",
      "Warning: The openmmtools.multistate API is experimental and may change in future releases\n",
      "Warning: The openmmtools.multistate API is experimental and may change in future releases\n",
      "Warning: The openmmtools.multistate API is experimental and may change in future releases\n",
      "Warning: The openmmtools.multistate API is experimental and may change in future releases\n",
      "Warning: The openmmtools.multistate API is experimental and may change in future releases\n",
      "Warning: The openmmtools.multistate API is experimental and may change in future releases\n",
      "Warning: The openmmtools.multistate API is experimental and may change in future releases\n",
      "Warning: The openmmtools.multistate API is experimental and may change in future releases\n",
      "Warning: The openmmtools.multistate API is experimental and may change in future releases\n"
     ]
    }
   ],
   "source": [
    "max_diagonals = []\n",
    "for sub_dir in tqdm_notebook(range(20, 40)):\n",
    "    filename = f\"/data/chodera/zhangi/perses_benchmark/repex/perses-bnbs-paper-fourth-attempt/46/{sub_dir}/replicate_0/{sub_dir}_apo.nc\"\n",
    "    reporter = MultiStateReporter(filename, open_mode='r')\n",
    "    analyzer = MultiStateSamplerAnalyzer(reporter, max_n_iterations=5000)\n",
    "    transition_matrix, eigenvalues, g_t = analyzer.generate_mixing_statistics()\n",
    "    n_states = transition_matrix.shape[0]\n",
    "    diagonals = [transition_matrix[state_index][state_index] for state_index in range(n_states)]\n",
    "    max_diagonals.append(max(diagonals))"
   ]
  },
  {
   "cell_type": "code",
   "execution_count": 44,
   "id": "a39001e2",
   "metadata": {},
   "outputs": [],
   "source": [
    "with open(\"/data/chodera/zhangi/perses_benchmark/repex/perses-bnbs-paper-fourth-attempt/46/max_diagonals_ala.pickle\", \"wb\") as f:\n",
    "    pickle.dump(max_diagonals, f)"
   ]
  },
  {
   "cell_type": "markdown",
   "id": "c179cda5",
   "metadata": {},
   "source": [
    "## Plot terminally-blocked amino acid experiments (46/0-39)"
   ]
  },
  {
   "cell_type": "code",
   "execution_count": 6,
   "id": "9616971b",
   "metadata": {},
   "outputs": [],
   "source": [
    "with open(\"/data/chodera/zhangi/perses_benchmark/repex/perses-bnbs-paper-fourth-attempt/46/max_diagonals.pickle\", \"rb\") as f:\n",
    "    max_diagonals = pickle.load(f)"
   ]
  },
  {
   "cell_type": "code",
   "execution_count": 7,
   "id": "db04c2e6",
   "metadata": {},
   "outputs": [],
   "source": [
    "with open(\"/data/chodera/zhangi/perses_benchmark/repex/perses-bnbs-paper-fourth-attempt/46/max_diagonals_ala.pickle\", \"rb\") as f:\n",
    "    max_diagonals_ala = pickle.load(f)"
   ]
  },
  {
   "cell_type": "code",
   "execution_count": 4,
   "id": "38356839",
   "metadata": {},
   "outputs": [
    {
     "name": "stdout",
     "output_type": "stream",
     "text": [
      "11\n",
      "11\n",
      "13\n",
      "13\n"
     ]
    }
   ],
   "source": [
    "print(max_diagonals_ala.index(max(max_diagonals_ala)))\n",
    "print(max_diagonals.index(max(max_diagonals)))\n",
    "print(max_diagonals_ala.index(min(max_diagonals_ala)))\n",
    "print(max_diagonals.index(min(max_diagonals)))"
   ]
  },
  {
   "cell_type": "code",
   "execution_count": 9,
   "id": "9bd07976",
   "metadata": {
    "scrolled": false
   },
   "outputs": [
    {
     "data": {
      "image/png": "[encoded data removed]",
      "text/plain": [
       "<Figure size 1152x360 with 1 Axes>"
      ]
     },
     "metadata": {
      "needs_background": "light"
     },
     "output_type": "display_data"
    },
    {
     "data": {
      "text/plain": [
       "<Figure size 432x288 with 0 Axes>"
      ]
     },
     "metadata": {},
     "output_type": "display_data"
    }
   ],
   "source": [
    "# Set figure size\n",
    "fig, axes = plt.subplots(nrows=1, ncols=1, sharex='col', figsize=(16,5), squeeze=True)\n",
    "\n",
    "# Set font size\n",
    "plt.rc('font', size=15)\n",
    "\n",
    "# Plot\n",
    "labels = [\"Y2F\", \"Y2A\", \"W2F\", \"T2A\", \"E2A\", \"D2A\", \"K2A\", \"R2A\", \"R2Q\", \"H2A\", \"F2Y\", \"A2Y\", \"F2W\", \"A2T\", \"A2E\", \"A2D\", \"A2K\", \"A2R\", \"Q2R\", \"A2H\"]\n",
    "plt.scatter(labels, max_diagonals, color=\"#80b1d3\", s=100, label=\"ACE-X-NME\")\n",
    "plt.scatter(labels, max_diagonals_ala, s=100, label=\"ALA-X-ALA\")\n",
    "\n",
    "plt.xlabel(\"Mutation\")\n",
    "plt.ylabel(\"   Maximum on-diagonal \\n transition probability\")\n",
    "plt.xticks(rotation=45, ha='right')\n",
    "plt.ylim([0.0, 1.0])\n",
    "\n",
    "# Set title\n",
    "plt.title(\"Summary of replica mixing for terminally-blocked amino acid mutations (5 ns/replica AREX)\")\n",
    "        \n",
    "# Ensure x-axis labels are not cut off\n",
    "plt.tight_layout()\n",
    "\n",
    "# Show legend\n",
    "plt.legend(loc=\"lower left\")\n",
    "\n",
    "# Save plot as pdf\n",
    "save_path = \"/data/chodera/zhangi/perses_benchmark/repex/perses-bnbs-paper-fourth-attempt/46/replica_mixing_summary_dipeptide.pdf\"\n",
    "plt.savefig(save_path, dpi=500)\n",
    "plt.show()\n",
    "plt.clf()\n"
   ]
  },
  {
   "cell_type": "markdown",
   "id": "5c0c6088",
   "metadata": {},
   "source": [
    "# Barnase:barstar (AREX)"
   ]
  },
  {
   "cell_type": "markdown",
   "id": "acb93383",
   "metadata": {},
   "source": [
    "## Retrieve maximum of diagonals (apo)"
   ]
  },
  {
   "cell_type": "code",
   "execution_count": 2,
   "id": "2ee4f2aa",
   "metadata": {
    "scrolled": true
   },
   "outputs": [
    {
     "name": "stderr",
     "output_type": "stream",
     "text": [
      "/scratch/lsftmp/13803149.tmpdir/ipykernel_51522/3057775619.py:5: TqdmDeprecationWarning: This function will be removed in tqdm==5.0.0\n",
      "Please use `tqdm.notebook.tqdm` instead of `tqdm.tqdm_notebook`\n",
      "  for sub_dir in tqdm_notebook(range(28)):\n"
     ]
    },
    {
     "data": {
      "application/vnd.jupyter.widget-view+json": {
       "model_id": "e16fd2ead5b546c8a841dc874a3333e4",
       "version_major": 2,
       "version_minor": 0
      },
      "text/plain": [
       "  0%|          | 0/28 [00:00<?, ?it/s]"
      ]
     },
     "metadata": {},
     "output_type": "display_data"
    },
    {
     "name": "stderr",
     "output_type": "stream",
     "text": [
      "Warning: The openmmtools.multistate API is experimental and may change in future releases\n",
      "Warning: The openmmtools.multistate API is experimental and may change in future releases\n",
      "Warning: The openmmtools.multistate API is experimental and may change in future releases\n",
      "Warning: The openmmtools.multistate API is experimental and may change in future releases\n",
      "Warning: The openmmtools.multistate API is experimental and may change in future releases\n",
      "Warning: The openmmtools.multistate API is experimental and may change in future releases\n",
      "Warning: The openmmtools.multistate API is experimental and may change in future releases\n",
      "Warning: The openmmtools.multistate API is experimental and may change in future releases\n",
      "Warning: The openmmtools.multistate API is experimental and may change in future releases\n",
      "Warning: The openmmtools.multistate API is experimental and may change in future releases\n",
      "Warning: The openmmtools.multistate API is experimental and may change in future releases\n",
      "Warning: The openmmtools.multistate API is experimental and may change in future releases\n",
      "Warning: The openmmtools.multistate API is experimental and may change in future releases\n",
      "Warning: The openmmtools.multistate API is experimental and may change in future releases\n",
      "Warning: The openmmtools.multistate API is experimental and may change in future releases\n",
      "Warning: The openmmtools.multistate API is experimental and may change in future releases\n",
      "Warning: The openmmtools.multistate API is experimental and may change in future releases\n",
      "Warning: The openmmtools.multistate API is experimental and may change in future releases\n",
      "Warning: The openmmtools.multistate API is experimental and may change in future releases\n",
      "Warning: The openmmtools.multistate API is experimental and may change in future releases\n",
      "Warning: The openmmtools.multistate API is experimental and may change in future releases\n",
      "Warning: The openmmtools.multistate API is experimental and may change in future releases\n",
      "Warning: The openmmtools.multistate API is experimental and may change in future releases\n",
      "Warning: The openmmtools.multistate API is experimental and may change in future releases\n",
      "Warning: The openmmtools.multistate API is experimental and may change in future releases\n",
      "Warning: The openmmtools.multistate API is experimental and may change in future releases\n",
      "Warning: The openmmtools.multistate API is experimental and may change in future releases\n",
      "Warning: The openmmtools.multistate API is experimental and may change in future releases\n",
      "Warning: The openmmtools.multistate API is experimental and may change in future releases\n",
      "Warning: The openmmtools.multistate API is experimental and may change in future releases\n",
      "Warning: The openmmtools.multistate API is experimental and may change in future releases\n",
      "Warning: The openmmtools.multistate API is experimental and may change in future releases\n",
      "Warning: The openmmtools.multistate API is experimental and may change in future releases\n",
      "Warning: The openmmtools.multistate API is experimental and may change in future releases\n",
      "Warning: The openmmtools.multistate API is experimental and may change in future releases\n",
      "Warning: The openmmtools.multistate API is experimental and may change in future releases\n",
      "Warning: The openmmtools.multistate API is experimental and may change in future releases\n",
      "Warning: The openmmtools.multistate API is experimental and may change in future releases\n",
      "Warning: The openmmtools.multistate API is experimental and may change in future releases\n",
      "Warning: The openmmtools.multistate API is experimental and may change in future releases\n",
      "Warning: The openmmtools.multistate API is experimental and may change in future releases\n",
      "Warning: The openmmtools.multistate API is experimental and may change in future releases\n",
      "Warning: The openmmtools.multistate API is experimental and may change in future releases\n",
      "Warning: The openmmtools.multistate API is experimental and may change in future releases\n",
      "Warning: The openmmtools.multistate API is experimental and may change in future releases\n",
      "Warning: The openmmtools.multistate API is experimental and may change in future releases\n",
      "Warning: The openmmtools.multistate API is experimental and may change in future releases\n",
      "Warning: The openmmtools.multistate API is experimental and may change in future releases\n",
      "Warning: The openmmtools.multistate API is experimental and may change in future releases\n",
      "Warning: The openmmtools.multistate API is experimental and may change in future releases\n",
      "Warning: The openmmtools.multistate API is experimental and may change in future releases\n",
      "Warning: The openmmtools.multistate API is experimental and may change in future releases\n",
      "Warning: The openmmtools.multistate API is experimental and may change in future releases\n",
      "Warning: The openmmtools.multistate API is experimental and may change in future releases\n",
      "Warning: The openmmtools.multistate API is experimental and may change in future releases\n",
      "Warning: The openmmtools.multistate API is experimental and may change in future releases\n"
     ]
    }
   ],
   "source": [
    "max_diagonals = []\n",
    "main_dir = 47\n",
    "other_dir = 45\n",
    "d_mapping = {4: 11, 12: 10, 17: 9}\n",
    "for sub_dir in tqdm_notebook(range(28)):\n",
    "    \n",
    "    if sub_dir == 4:\n",
    "        replicate = 0\n",
    "    else:\n",
    "        replicate = 1\n",
    "    \n",
    "    if sub_dir in [4, 12, 17]:\n",
    "        main_dir = 45\n",
    "        sub_dir = d_mapping[sub_dir]\n",
    "    else:\n",
    "        main_dir = 47\n",
    "    \n",
    "    filename = f\"/data/chodera/zhangi/perses_benchmark/repex/perses-bnbs-paper-fourth-attempt/{main_dir}/{sub_dir}/replicate_{replicate}/{sub_dir}_apo.nc\"\n",
    "    reporter = MultiStateReporter(filename, open_mode='r')\n",
    "    analyzer = MultiStateSamplerAnalyzer(reporter, max_n_iterations=10000)\n",
    "    transition_matrix, eigenvalues, g_t = analyzer.generate_mixing_statistics()\n",
    "    n_states = transition_matrix.shape[0]\n",
    "    diagonals = [transition_matrix[state_index][state_index] for state_index in range(n_states)]\n",
    "    max_diagonals.append(max(diagonals))"
   ]
  },
  {
   "cell_type": "code",
   "execution_count": 3,
   "id": "a336b62b",
   "metadata": {},
   "outputs": [],
   "source": [
    "with open(\"/data/chodera/zhangi/perses_benchmark/repex/perses-bnbs-paper-fourth-attempt/47/max_diagonals_apo.pickle\", \"wb\") as f:\n",
    "    pickle.dump(max_diagonals, f)"
   ]
  },
  {
   "cell_type": "markdown",
   "id": "5ad12bf8",
   "metadata": {},
   "source": [
    "## Retrieve maximum of diagonals (complex)"
   ]
  },
  {
   "cell_type": "code",
   "execution_count": 4,
   "id": "c8d1950f",
   "metadata": {
    "scrolled": true
   },
   "outputs": [
    {
     "name": "stderr",
     "output_type": "stream",
     "text": [
      "/scratch/lsftmp/13803149.tmpdir/ipykernel_51522/1690658234.py:5: TqdmDeprecationWarning: This function will be removed in tqdm==5.0.0\n",
      "Please use `tqdm.notebook.tqdm` instead of `tqdm.tqdm_notebook`\n",
      "  for sub_dir in tqdm_notebook(range(28)):\n"
     ]
    },
    {
     "data": {
      "application/vnd.jupyter.widget-view+json": {
       "model_id": "4a12767a0da54ecc9da14cff91750852",
       "version_major": 2,
       "version_minor": 0
      },
      "text/plain": [
       "  0%|          | 0/28 [00:00<?, ?it/s]"
      ]
     },
     "metadata": {},
     "output_type": "display_data"
    },
    {
     "name": "stderr",
     "output_type": "stream",
     "text": [
      "Warning: The openmmtools.multistate API is experimental and may change in future releases\n",
      "Warning: The openmmtools.multistate API is experimental and may change in future releases\n",
      "Warning: The openmmtools.multistate API is experimental and may change in future releases\n",
      "Warning: The openmmtools.multistate API is experimental and may change in future releases\n",
      "Warning: The openmmtools.multistate API is experimental and may change in future releases\n",
      "Warning: The openmmtools.multistate API is experimental and may change in future releases\n",
      "Warning: The openmmtools.multistate API is experimental and may change in future releases\n",
      "Warning: The openmmtools.multistate API is experimental and may change in future releases\n",
      "Warning: The openmmtools.multistate API is experimental and may change in future releases\n",
      "Warning: The openmmtools.multistate API is experimental and may change in future releases\n",
      "Warning: The openmmtools.multistate API is experimental and may change in future releases\n",
      "Warning: The openmmtools.multistate API is experimental and may change in future releases\n",
      "Warning: The openmmtools.multistate API is experimental and may change in future releases\n",
      "Warning: The openmmtools.multistate API is experimental and may change in future releases\n",
      "Warning: The openmmtools.multistate API is experimental and may change in future releases\n",
      "Warning: The openmmtools.multistate API is experimental and may change in future releases\n",
      "Warning: The openmmtools.multistate API is experimental and may change in future releases\n",
      "Warning: The openmmtools.multistate API is experimental and may change in future releases\n",
      "Warning: The openmmtools.multistate API is experimental and may change in future releases\n",
      "Warning: The openmmtools.multistate API is experimental and may change in future releases\n",
      "Warning: The openmmtools.multistate API is experimental and may change in future releases\n",
      "Warning: The openmmtools.multistate API is experimental and may change in future releases\n",
      "Warning: The openmmtools.multistate API is experimental and may change in future releases\n",
      "Warning: The openmmtools.multistate API is experimental and may change in future releases\n",
      "Warning: The openmmtools.multistate API is experimental and may change in future releases\n",
      "Warning: The openmmtools.multistate API is experimental and may change in future releases\n",
      "Warning: The openmmtools.multistate API is experimental and may change in future releases\n",
      "Warning: The openmmtools.multistate API is experimental and may change in future releases\n",
      "Warning: The openmmtools.multistate API is experimental and may change in future releases\n",
      "Warning: The openmmtools.multistate API is experimental and may change in future releases\n",
      "Warning: The openmmtools.multistate API is experimental and may change in future releases\n",
      "Warning: The openmmtools.multistate API is experimental and may change in future releases\n",
      "Warning: The openmmtools.multistate API is experimental and may change in future releases\n",
      "Warning: The openmmtools.multistate API is experimental and may change in future releases\n",
      "Warning: The openmmtools.multistate API is experimental and may change in future releases\n",
      "Warning: The openmmtools.multistate API is experimental and may change in future releases\n",
      "Warning: The openmmtools.multistate API is experimental and may change in future releases\n",
      "Warning: The openmmtools.multistate API is experimental and may change in future releases\n",
      "Warning: The openmmtools.multistate API is experimental and may change in future releases\n",
      "Warning: The openmmtools.multistate API is experimental and may change in future releases\n",
      "Warning: The openmmtools.multistate API is experimental and may change in future releases\n",
      "Warning: The openmmtools.multistate API is experimental and may change in future releases\n",
      "Warning: The openmmtools.multistate API is experimental and may change in future releases\n",
      "Warning: The openmmtools.multistate API is experimental and may change in future releases\n",
      "Warning: The openmmtools.multistate API is experimental and may change in future releases\n",
      "Warning: The openmmtools.multistate API is experimental and may change in future releases\n",
      "Warning: The openmmtools.multistate API is experimental and may change in future releases\n",
      "Warning: The openmmtools.multistate API is experimental and may change in future releases\n",
      "Warning: The openmmtools.multistate API is experimental and may change in future releases\n",
      "Warning: The openmmtools.multistate API is experimental and may change in future releases\n",
      "Warning: The openmmtools.multistate API is experimental and may change in future releases\n",
      "Warning: The openmmtools.multistate API is experimental and may change in future releases\n",
      "Warning: The openmmtools.multistate API is experimental and may change in future releases\n",
      "Warning: The openmmtools.multistate API is experimental and may change in future releases\n",
      "Warning: The openmmtools.multistate API is experimental and may change in future releases\n",
      "Warning: The openmmtools.multistate API is experimental and may change in future releases\n"
     ]
    }
   ],
   "source": [
    "max_diagonals = []\n",
    "main_dir = 47\n",
    "other_dir = 45\n",
    "d_mapping = {4: 11, 12: 10, 17: 9}\n",
    "for sub_dir in tqdm_notebook(range(28)):\n",
    "    \n",
    "    if sub_dir == 4:\n",
    "        replicate = 0\n",
    "    else:\n",
    "        replicate = 1\n",
    "    \n",
    "    if sub_dir in [4, 12, 17]:\n",
    "        main_dir = 45\n",
    "        sub_dir = d_mapping[sub_dir]\n",
    "    else:\n",
    "        main_dir = 47\n",
    "        \n",
    "    filename = f\"/data/chodera/zhangi/perses_benchmark/repex/perses-bnbs-paper-fourth-attempt/{main_dir}/{sub_dir}/replicate_{replicate}/{sub_dir}_complex.nc\"\n",
    "    reporter = MultiStateReporter(filename, open_mode='r')\n",
    "    analyzer = MultiStateSamplerAnalyzer(reporter, max_n_iterations=10000)\n",
    "    transition_matrix, eigenvalues, g_t = analyzer.generate_mixing_statistics()\n",
    "    n_states = transition_matrix.shape[0]\n",
    "    diagonals = [transition_matrix[state_index][state_index] for state_index in range(n_states)]\n",
    "    max_diagonals.append(max(diagonals))"
   ]
  },
  {
   "cell_type": "code",
   "execution_count": 5,
   "id": "f288550b",
   "metadata": {},
   "outputs": [],
   "source": [
    "with open(\"/data/chodera/zhangi/perses_benchmark/repex/perses-bnbs-paper-fourth-attempt/47/max_diagonals_complex.pickle\", \"wb\") as f:\n",
    "    pickle.dump(max_diagonals, f)"
   ]
  },
  {
   "cell_type": "markdown",
   "id": "dd8fbbe1",
   "metadata": {},
   "source": [
    "## Plot bnbs experiments (47/0-27)"
   ]
  },
  {
   "cell_type": "code",
   "execution_count": 8,
   "id": "873824ec",
   "metadata": {},
   "outputs": [],
   "source": [
    "with open(\"/data/chodera/zhangi/perses_benchmark/repex/perses-bnbs-paper-fourth-attempt/47/max_diagonals_apo.pickle\", \"rb\") as f:\n",
    "    max_diagonals_apo = pickle.load(f)"
   ]
  },
  {
   "cell_type": "code",
   "execution_count": 9,
   "id": "469bdc0d",
   "metadata": {},
   "outputs": [],
   "source": [
    "with open(\"/data/chodera/zhangi/perses_benchmark/repex/perses-bnbs-paper-fourth-attempt/47/max_diagonals_complex.pickle\", \"rb\") as f:\n",
    "    max_diagonals_complex = pickle.load(f)"
   ]
  },
  {
   "cell_type": "code",
   "execution_count": 8,
   "id": "d46be110",
   "metadata": {},
   "outputs": [
    {
     "name": "stdout",
     "output_type": "stream",
     "text": [
      "11\n",
      "7\n",
      "27\n",
      "27\n"
     ]
    }
   ],
   "source": [
    "print(max_diagonals_apo.index(max(max_diagonals_apo)))\n",
    "print(max_diagonals_complex.index(max(max_diagonals_complex)))\n",
    "print(max_diagonals_apo.index(min(max_diagonals_apo)))\n",
    "print(max_diagonals_complex.index(min(max_diagonals_complex)))"
   ]
  },
  {
   "cell_type": "code",
   "execution_count": 10,
   "id": "52295b2d",
   "metadata": {
    "scrolled": false
   },
   "outputs": [
    {
     "data": {
      "image/png": "[encoded data removed]",
      "text/plain": [
       "<Figure size 1152x360 with 1 Axes>"
      ]
     },
     "metadata": {
      "needs_background": "light"
     },
     "output_type": "display_data"
    },
    {
     "data": {
      "text/plain": [
       "<Figure size 432x288 with 0 Axes>"
      ]
     },
     "metadata": {},
     "output_type": "display_data"
    }
   ],
   "source": [
    "# Set figure size\n",
    "fig, axes = plt.subplots(nrows=1, ncols=1, sharex='col', figsize=(16,5), squeeze=True)\n",
    "\n",
    "# Set font size\n",
    "plt.rc('font', size=15)\n",
    "\n",
    "# Plot\n",
    "labels = [\"Y29F\", \"Y29A\",  \"W38F\", \"T42A\", \"W44F\", \"E76A\", \"E80A\", \"D35A\", \"D39A\", \"K27A\", \"R59A\", \"R83Q\", \"R87A\", \"H102A\", \"F29Y\", \"A29Y\",  \"F38W\", \"A42T\", \"F44W\", \"A76E\", \"A80E\", \"A35D\", \"A39D\", \"A27K\", \"A59R\", \"Q83R\", \"A87R\", \"A102H\"]\n",
    "plt.scatter(labels, max_diagonals_apo, color=\"#80b1d3\", s=100, label=\"apo\")\n",
    "plt.scatter(labels, max_diagonals_complex, s=100, label=\"complex\")\n",
    "\n",
    "plt.xlabel(\"Mutation\")\n",
    "plt.ylabel(\"   Maximum on-diagonal \\n transition probability\")\n",
    "plt.xticks(rotation=45, ha='right')\n",
    "plt.ylim([-0.05, 1.05])\n",
    "\n",
    "# Set title\n",
    "plt.title(\"Summary of replica mixing for barnase:barstar mutations (10 ns/replica AREX)\")\n",
    "        \n",
    "# Ensure x-axis labels are not cut off\n",
    "plt.tight_layout()\n",
    "\n",
    "# Show legend\n",
    "plt.legend()\n",
    "\n",
    "# Save plot as pdf\n",
    "save_path = \"/data/chodera/zhangi/perses_benchmark/repex/perses-bnbs-paper-fourth-attempt/47/replica_mixing_summary_bnbs.pdf\"\n",
    "plt.savefig(save_path, dpi=500)\n",
    "plt.show()\n",
    "plt.clf()\n"
   ]
  },
  {
   "cell_type": "code",
   "execution_count": 13,
   "id": "c9f90780",
   "metadata": {},
   "outputs": [
    {
     "data": {
      "text/plain": [
       "0.5816493161869769"
      ]
     },
     "execution_count": 13,
     "metadata": {},
     "output_type": "execute_result"
    }
   ],
   "source": [
    "max_diagonals_apo[11]"
   ]
  },
  {
   "cell_type": "code",
   "execution_count": 14,
   "id": "4841bc07",
   "metadata": {},
   "outputs": [
    {
     "data": {
      "text/plain": [
       "0.5843604768640129"
      ]
     },
     "execution_count": 14,
     "metadata": {},
     "output_type": "execute_result"
    }
   ],
   "source": [
    "max_diagonals_complex[7]"
   ]
  },
  {
   "cell_type": "markdown",
   "id": "4327965c",
   "metadata": {},
   "source": [
    "# Barnase:barstar (AREST)"
   ]
  },
  {
   "cell_type": "markdown",
   "id": "51d6b2f6",
   "metadata": {},
   "source": [
    "## Retrieve maximum of diagonals (complex)"
   ]
  },
  {
   "cell_type": "code",
   "execution_count": 2,
   "id": "9ecb4bc7",
   "metadata": {
    "scrolled": true
   },
   "outputs": [
    {
     "name": "stderr",
     "output_type": "stream",
     "text": [
      "/scratch/lsftmp/14495101.tmpdir/ipykernel_55678/3356713608.py:3: TqdmDeprecationWarning: This function will be removed in tqdm==5.0.0\n",
      "Please use `tqdm.notebook.tqdm` instead of `tqdm.tqdm_notebook`\n",
      "  for sub_dir in tqdm_notebook(range(28)):\n"
     ]
    },
    {
     "data": {
      "application/vnd.jupyter.widget-view+json": {
       "model_id": "1aa692bf22c34f3c8c0477179f637b01",
       "version_major": 2,
       "version_minor": 0
      },
      "text/plain": [
       "  0%|          | 0/28 [00:00<?, ?it/s]"
      ]
     },
     "metadata": {},
     "output_type": "display_data"
    },
    {
     "name": "stderr",
     "output_type": "stream",
     "text": [
      "Warning: The openmmtools.multistate API is experimental and may change in future releases\n",
      "Warning: The openmmtools.multistate API is experimental and may change in future releases\n",
      "Warning: The openmmtools.multistate API is experimental and may change in future releases\n",
      "Warning: The openmmtools.multistate API is experimental and may change in future releases\n",
      "Warning: The openmmtools.multistate API is experimental and may change in future releases\n",
      "Warning: The openmmtools.multistate API is experimental and may change in future releases\n",
      "Warning: The openmmtools.multistate API is experimental and may change in future releases\n",
      "Warning: The openmmtools.multistate API is experimental and may change in future releases\n",
      "Warning: The openmmtools.multistate API is experimental and may change in future releases\n",
      "Warning: The openmmtools.multistate API is experimental and may change in future releases\n",
      "Warning: The openmmtools.multistate API is experimental and may change in future releases\n",
      "Warning: The openmmtools.multistate API is experimental and may change in future releases\n",
      "Warning: The openmmtools.multistate API is experimental and may change in future releases\n",
      "Warning: The openmmtools.multistate API is experimental and may change in future releases\n",
      "Warning: The openmmtools.multistate API is experimental and may change in future releases\n",
      "Warning: The openmmtools.multistate API is experimental and may change in future releases\n",
      "Warning: The openmmtools.multistate API is experimental and may change in future releases\n",
      "Warning: The openmmtools.multistate API is experimental and may change in future releases\n",
      "Warning: The openmmtools.multistate API is experimental and may change in future releases\n",
      "Warning: The openmmtools.multistate API is experimental and may change in future releases\n",
      "Warning: The openmmtools.multistate API is experimental and may change in future releases\n",
      "Warning: The openmmtools.multistate API is experimental and may change in future releases\n",
      "Warning: The openmmtools.multistate API is experimental and may change in future releases\n",
      "Warning: The openmmtools.multistate API is experimental and may change in future releases\n",
      "Warning: The openmmtools.multistate API is experimental and may change in future releases\n",
      "Warning: The openmmtools.multistate API is experimental and may change in future releases\n",
      "Warning: The openmmtools.multistate API is experimental and may change in future releases\n",
      "Warning: The openmmtools.multistate API is experimental and may change in future releases\n",
      "Warning: The openmmtools.multistate API is experimental and may change in future releases\n",
      "Warning: The openmmtools.multistate API is experimental and may change in future releases\n",
      "Warning: The openmmtools.multistate API is experimental and may change in future releases\n",
      "Warning: The openmmtools.multistate API is experimental and may change in future releases\n",
      "Warning: The openmmtools.multistate API is experimental and may change in future releases\n",
      "Warning: The openmmtools.multistate API is experimental and may change in future releases\n",
      "Warning: The openmmtools.multistate API is experimental and may change in future releases\n",
      "Warning: The openmmtools.multistate API is experimental and may change in future releases\n",
      "Warning: The openmmtools.multistate API is experimental and may change in future releases\n",
      "Warning: The openmmtools.multistate API is experimental and may change in future releases\n",
      "Warning: The openmmtools.multistate API is experimental and may change in future releases\n",
      "Warning: The openmmtools.multistate API is experimental and may change in future releases\n",
      "Warning: The openmmtools.multistate API is experimental and may change in future releases\n",
      "Warning: The openmmtools.multistate API is experimental and may change in future releases\n",
      "Warning: The openmmtools.multistate API is experimental and may change in future releases\n",
      "Warning: The openmmtools.multistate API is experimental and may change in future releases\n",
      "Warning: The openmmtools.multistate API is experimental and may change in future releases\n",
      "Warning: The openmmtools.multistate API is experimental and may change in future releases\n",
      "Warning: The openmmtools.multistate API is experimental and may change in future releases\n",
      "Warning: The openmmtools.multistate API is experimental and may change in future releases\n",
      "Warning: The openmmtools.multistate API is experimental and may change in future releases\n",
      "Warning: The openmmtools.multistate API is experimental and may change in future releases\n",
      "Warning: The openmmtools.multistate API is experimental and may change in future releases\n",
      "Warning: The openmmtools.multistate API is experimental and may change in future releases\n",
      "Warning: The openmmtools.multistate API is experimental and may change in future releases\n",
      "Warning: The openmmtools.multistate API is experimental and may change in future releases\n",
      "Warning: The openmmtools.multistate API is experimental and may change in future releases\n",
      "Warning: The openmmtools.multistate API is experimental and may change in future releases\n"
     ]
    }
   ],
   "source": [
    "max_diagonals = []\n",
    "main_dir = 52\n",
    "for sub_dir in tqdm_notebook(range(28)):\n",
    "    \n",
    "    if sub_dir in [19, 21]:\n",
    "        replicate = 1\n",
    "    else:\n",
    "        replicate = 0\n",
    "    \n",
    "    filename = f\"/data/chodera/zhangi/perses_benchmark/repex/perses-bnbs-paper-fourth-attempt/{main_dir}/{sub_dir}/replicate_{replicate}/{sub_dir}_complex.nc\"\n",
    "    reporter = MultiStateReporter(filename, open_mode='r')\n",
    "    analyzer = MultiStateSamplerAnalyzer(reporter, max_n_iterations=50000)\n",
    "    transition_matrix, eigenvalues, g_t = analyzer.generate_mixing_statistics()\n",
    "    n_states = transition_matrix.shape[0]\n",
    "    diagonals = [transition_matrix[state_index][state_index] for state_index in range(n_states)]\n",
    "    max_diagonals.append(max(diagonals))"
   ]
  },
  {
   "cell_type": "code",
   "execution_count": 3,
   "id": "694e30bb",
   "metadata": {},
   "outputs": [],
   "source": [
    "with open(\"/data/chodera/zhangi/perses_benchmark/repex/perses-bnbs-paper-fourth-attempt/52/max_diagonals_complex.pickle\", \"wb\") as f:\n",
    "    pickle.dump(max_diagonals, f)"
   ]
  },
  {
   "cell_type": "markdown",
   "id": "474ba9bd",
   "metadata": {},
   "source": [
    "## Plot bnbs experiments (52/0-27)"
   ]
  },
  {
   "cell_type": "code",
   "execution_count": 11,
   "id": "8cd51961",
   "metadata": {},
   "outputs": [],
   "source": [
    "with open(\"/data/chodera/zhangi/perses_benchmark/repex/perses-bnbs-paper-fourth-attempt/52/max_diagonals_complex.pickle\", \"rb\") as f:\n",
    "    max_diagonals_complex = pickle.load(f)"
   ]
  },
  {
   "cell_type": "code",
   "execution_count": 3,
   "id": "eec5dfe6",
   "metadata": {},
   "outputs": [
    {
     "name": "stdout",
     "output_type": "stream",
     "text": [
      "2\n",
      "27\n"
     ]
    }
   ],
   "source": [
    "print(max_diagonals_complex.index(max(max_diagonals_complex)))\n",
    "print(max_diagonals_complex.index(min(max_diagonals_complex)))"
   ]
  },
  {
   "cell_type": "code",
   "execution_count": 12,
   "id": "9b7676d3",
   "metadata": {
    "scrolled": false
   },
   "outputs": [
    {
     "data": {
      "image/png": "[encoded data removed]",
      "text/plain": [
       "<Figure size 1152x360 with 1 Axes>"
      ]
     },
     "metadata": {
      "needs_background": "light"
     },
     "output_type": "display_data"
    },
    {
     "data": {
      "text/plain": [
       "<Figure size 432x288 with 0 Axes>"
      ]
     },
     "metadata": {},
     "output_type": "display_data"
    }
   ],
   "source": [
    "# Set figure size\n",
    "fig, axes = plt.subplots(nrows=1, ncols=1, sharex='col', figsize=(16,5), squeeze=True)\n",
    "\n",
    "# Set font size\n",
    "plt.rc('font', size=15)\n",
    "\n",
    "# Plot\n",
    "labels = [\"Y29F\", \"Y29A\",  \"W38F\", \"T42A\", \"W44F\", \"E76A\", \"E80A\", \"D35A\", \"D39A\", \"K27A\", \"R59A\", \"R83Q\", \"R87A\", \"H102A\", \"F29Y\", \"A29Y\",  \"F38W\", \"A42T\", \"F44W\", \"A76E\", \"A80E\", \"A35D\", \"A39D\", \"A27K\", \"A59R\", \"Q83R\", \"A87R\", \"A102H\"]\n",
    "plt.scatter(labels, max_diagonals_complex, s=100, label=\"complex\")\n",
    "\n",
    "plt.xlabel(\"Mutation\")\n",
    "plt.ylabel(\"   Maximum on-diagonal \\n transition probability\")\n",
    "plt.xticks(rotation=45, ha='right')\n",
    "plt.ylim([-0.05, 1.05])\n",
    "\n",
    "# Set title\n",
    "plt.title(\"Summary of replica mixing for barnase:barstar mutations (50 ns/replica AREST)\")\n",
    "        \n",
    "# Ensure x-axis labels are not cut off\n",
    "plt.tight_layout()\n",
    "\n",
    "# Show legend\n",
    "plt.legend()\n",
    "\n",
    "# Save plot as pdf\n",
    "save_path = \"/data/chodera/zhangi/perses_benchmark/repex/perses-bnbs-paper-fourth-attempt/52/replica_mixing_summary_bnbs_rest.pdf\"\n",
    "plt.savefig(save_path, dpi=500)\n",
    "plt.show()\n",
    "plt.clf()\n"
   ]
  },
  {
   "cell_type": "code",
   "execution_count": 6,
   "id": "33e2432a",
   "metadata": {},
   "outputs": [
    {
     "data": {
      "text/plain": [
       "0.8120934179158754"
      ]
     },
     "execution_count": 6,
     "metadata": {},
     "output_type": "execute_result"
    }
   ],
   "source": [
    "max_diagonals_complex[2]"
   ]
  },
  {
   "cell_type": "code",
   "execution_count": 3,
   "id": "6aa7851d",
   "metadata": {},
   "outputs": [
    {
     "data": {
      "text/plain": [
       "0.7028331065198565"
      ]
     },
     "execution_count": 3,
     "metadata": {},
     "output_type": "execute_result"
    }
   ],
   "source": [
    "max_diagonals_complex[12]"
   ]
  },
  {
   "cell_type": "code",
   "execution_count": 4,
   "id": "57ab3e41",
   "metadata": {},
   "outputs": [
    {
     "data": {
      "text/plain": [
       "0.6798860560022627"
      ]
     },
     "execution_count": 4,
     "metadata": {},
     "output_type": "execute_result"
    }
   ],
   "source": [
    "max_diagonals_complex[17]"
   ]
  },
  {
   "cell_type": "code",
   "execution_count": 5,
   "id": "69a9ec20",
   "metadata": {},
   "outputs": [
    {
     "data": {
      "text/plain": [
       "0.5479009252899107"
      ]
     },
     "execution_count": 5,
     "metadata": {},
     "output_type": "execute_result"
    }
   ],
   "source": [
    "max_diagonals_complex[27]"
   ]
  },
  {
   "cell_type": "code",
   "execution_count": null,
   "id": "a17a25fc",
   "metadata": {},
   "outputs": [],
   "source": []
  }
 ],
 "metadata": {
  "kernelspec": {
   "display_name": "Python 3 (ipykernel)",
   "language": "python",
   "name": "python3"
  },
  "language_info": {
   "codemirror_mode": {
    "name": "ipython",
    "version": 3
   },
   "file_extension": ".py",
   "mimetype": "text/x-python",
   "name": "python",
   "nbconvert_exporter": "python",
   "pygments_lexer": "ipython3",
   "version": "3.9.13"
  }
 },
 "nbformat": 4,
 "nbformat_minor": 5
}
