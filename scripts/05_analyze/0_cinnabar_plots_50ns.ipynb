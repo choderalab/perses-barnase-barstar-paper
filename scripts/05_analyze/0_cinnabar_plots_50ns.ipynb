{
 "cells": [
  {
   "cell_type": "markdown",
   "metadata": {},
   "source": [
    "## Gather the data"
   ]
  },
  {
   "cell_type": "code",
   "execution_count": 1,
   "metadata": {},
   "outputs": [
    {
     "name": "stderr",
     "output_type": "stream",
     "text": [
      "Warning: importing 'simtk.openmm' is deprecated.  Import 'openmm' instead.\n"
     ]
    }
   ],
   "source": [
    "import numpy as np\n",
    "import pickle\n",
    "from simtk.openmm import unit\n",
    "from openmmtools.constants import kB\n",
    "import pandas as pd\n",
    "\n",
    "import matplotlib.pyplot as plt\n",
    "KT_KCALMOL = kB * 300 * unit.kelvin / unit.kilocalories_per_mole"
   ]
  },
  {
   "cell_type": "code",
   "execution_count": 2,
   "metadata": {},
   "outputs": [],
   "source": [
    "def compute_ddg(apo_dg, complex_dg):\n",
    "    return complex_dg * KT_KCALMOL - apo_dg * KT_KCALMOL\n",
    "\n",
    "def compute_error(apo_ddg, complex_ddg):\n",
    "    return (apo_ddg**2 + complex_ddg**2)**0.5 * KT_KCALMOL"
   ]
  },
  {
   "cell_type": "code",
   "execution_count": 27,
   "metadata": {},
   "outputs": [],
   "source": [
    "# Retrieve free energies\n",
    "\n",
    "replicate = 1\n",
    "main_dir = 47\n",
    "sub_dirs = list(range(0, 4)) + list(range(5, 12)) + list(range(13, 17)) + list(range(18, 28))\n",
    "\n",
    "d_results = {}\n",
    "for sub_dir in sub_dirs:\n",
    "    d_results[sub_dir] = {}\n",
    "    for phase in ['apo', 'complex']:\n",
    "        if phase == \"complex\":\n",
    "            length = 50\n",
    "        else:\n",
    "            length = 10\n",
    "        with open(f\"/data/chodera/zhangi/perses_benchmark/repex/perses-bnbs-paper-fourth-attempt/{main_dir}/{sub_dir}/replicate_{replicate}/{phase}_free_energy_bootstrapped_{length}ns.pickle\", \"rb\") as f:\n",
    "            results = pickle.load(f)\n",
    "            d_results[sub_dir][phase] = results\n",
    "\n",
    "main_dir = 45\n",
    "d_mapping = {4: 11, 12: 10, 17: 9}\n",
    "for sub_dir in d_mapping.keys():\n",
    "    d_results[sub_dir] = {}\n",
    "    if sub_dir == 4:\n",
    "        replicate = 0\n",
    "    else:\n",
    "        replicate = 1\n",
    "    for phase in ['apo', 'complex']:\n",
    "        if phase == \"complex\":\n",
    "            length = 50\n",
    "        else:\n",
    "            length = 10\n",
    "        with open(f\"/data/chodera/zhangi/perses_benchmark/repex/perses-bnbs-paper-fourth-attempt/{main_dir}/{d_mapping[sub_dir]}/replicate_{replicate}/{phase}_free_energy_bootstrapped_{length}ns.pickle\", \"rb\") as f:\n",
    "            results = pickle.load(f)\n",
    "            d_results[sub_dir][phase] = results\n",
    "        "
   ]
  },
  {
   "cell_type": "code",
   "execution_count": 4,
   "metadata": {},
   "outputs": [
    {
     "data": {
      "text/plain": [
       "105.85435857536393"
      ]
     },
     "execution_count": 4,
     "metadata": {},
     "output_type": "execute_result"
    }
   ],
   "source": [
    "d_results[12][\"complex\"][\"Deltaf\"][0, -1]*KT_KCALMOL"
   ]
  },
  {
   "cell_type": "code",
   "execution_count": 5,
   "metadata": {},
   "outputs": [],
   "source": [
    "# Format the data appropriately for cinnabar\n",
    "\n",
    "titles = [\"Y29F\", \"Y29A\",  \"W38F\", \"T42A\", \"W44F\", \"E76A\", \"E80A\", \"D35A\", \"D39A\", \"K27A\", \"R59A\", \"R83Q\", \"R87A\", \"H102A\", \"F29Y\", \"A29Y\",  \"F38W\", \"A42T\", \"F44W\", \"A76E\", \"A80E\", \"A35D\", \"A39D\", \"A27K\", \"A59R\", \"Q83R\", \"A87R\", \"A102H\"]\n",
    "\n",
    "to_plot = []\n",
    "\n",
    "for sub_dir in range(28):\n",
    "    ddg = compute_ddg(d_results[sub_dir]['apo'][\"Deltaf\"][0, -1], d_results[sub_dir]['complex'][\"Deltaf\"][0, -1])\n",
    "    dddg = compute_error(d_results[sub_dir]['apo'][\"dDeltaf\"][0, -1], d_results[sub_dir]['complex'][\"dDeltaf\"][0, -1])\n",
    "    if sub_dir in range(14):\n",
    "        to_plot.append([titles[sub_dir][:-1], titles[sub_dir][-1] + titles[sub_dir][1:-1], ddg, dddg*2, 0])\n",
    "    else:\n",
    "        to_plot.append([\"-\" + titles[sub_dir][:-1], \"-\" + titles[sub_dir][-1] + titles[sub_dir][1:-1], ddg * -1, dddg*2, 0])\n"
   ]
  },
  {
   "cell_type": "code",
   "execution_count": 6,
   "metadata": {},
   "outputs": [
    {
     "data": {
      "text/plain": [
       "[['Y29', 'F29', 0.9743520786995354, 0.49077780560582285, 0],\n",
       " ['Y29', 'A29', 2.7425839347887973, 0.6204077782108817, 0],\n",
       " ['W38', 'F38', 0.47208217450540024, 0.564932150415499, 0],\n",
       " ['T42', 'A42', 0.96282863313116, 0.24958797027726434, 0],\n",
       " ['W44', 'F44', 0.18861885510507853, 0.667596608774937, 0],\n",
       " ['E76', 'A76', 0.97335786224784, 1.207325679866961, 0],\n",
       " ['E80', 'A80', 0.29746718488154844, 1.238954539272706, 0],\n",
       " ['D35', 'A35', 1.7481597579936032, 0.9652816066284319, 0],\n",
       " ['D39', 'A39', 6.575593207948346, 1.0195483984648561, 0],\n",
       " ['K27', 'A27', 3.008983965750403, 1.2072699341308124, 0],\n",
       " ['R59', 'A59', 3.8502074236635764, 1.4033126404830156, 0],\n",
       " ['R83', 'Q83', 3.419699216867574, 0.9209122394209015, 0],\n",
       " ['R87', 'A87', 6.45991278613694, 1.1537682884795157, 0],\n",
       " ['H102', 'A102', 6.841684159332527, 0.32846871439227143, 0],\n",
       " ['-F29', '-Y29', 1.168964693761506, 0.7100259094717895, 0],\n",
       " ['-A29', '-Y29', 1.2920696854825984, 0.6716952930738016, 0],\n",
       " ['-F38', '-W38', 0.7754525205738025, 0.5616191091149718, 0],\n",
       " ['-A42', '-T42', 0.36023145008440594, 0.26773070769687723, 0],\n",
       " ['-F44', '-W44', 0.16864853254123263, 0.7074520559577718, 0],\n",
       " ['-A76', '-E76', 1.309630056747551, 1.4301720549267336, 0],\n",
       " ['-A80', '-E80', 0.46912539773984463, 1.3106135443413636, 0],\n",
       " ['-A35', '-D35', 1.7773768880964553, 1.1793721063772467, 0],\n",
       " ['-A39', '-D39', 6.543617130523302, 1.1598017976849255, 0],\n",
       " ['-A27', '-K27', 3.289501580101387, 1.08663194329451, 0],\n",
       " ['-A59', '-R59', 4.276964833479326, 1.2542317722540086, 0],\n",
       " ['-Q83', '-R83', 0.6037089993234019, 1.2227703731628883, 0],\n",
       " ['-A87', '-R87', 6.456715551152968, 1.0299820747313089, 0],\n",
       " ['-A102', '-H102', 6.512073377191172, 0.3282499347185105, 0]]"
      ]
     },
     "execution_count": 6,
     "metadata": {},
     "output_type": "execute_result"
    }
   ],
   "source": [
    "to_plot"
   ]
  },
  {
   "cell_type": "code",
   "execution_count": 7,
   "metadata": {},
   "outputs": [
    {
     "name": "stdout",
     "output_type": "stream",
     "text": [
      "['Y29', 'F29'] -0.19461261506197047\n",
      "['Y29', 'A29'] 1.4505142493061989\n",
      "['W38', 'F38'] -0.3033703460684023\n",
      "['T42', 'A42'] 0.602597183046754\n",
      "['W44', 'F44'] 0.0199703225638459\n",
      "['E76', 'A76'] -0.3362721944997109\n",
      "['E80', 'A80'] -0.1716582128582962\n",
      "['D35', 'A35'] -0.029217130102852096\n",
      "['D39', 'A39'] 0.03197607742504438\n",
      "['K27', 'A27'] -0.280517614350984\n",
      "['R59', 'A59'] -0.4267574098157496\n",
      "['R83', 'Q83'] 2.8159902175441722\n",
      "['R87', 'A87'] 0.0031972349839719527\n",
      "['H102', 'A102'] 0.329610782141355\n"
     ]
    }
   ],
   "source": [
    "# Get the discrepancy between forward and negative reverse DDGs\n",
    "\n",
    "for i in range(14):\n",
    "    print(to_plot[i][0:2], to_plot[i][2] - to_plot[i+14][2])"
   ]
  },
  {
   "cell_type": "code",
   "execution_count": 8,
   "metadata": {
    "scrolled": true
   },
   "outputs": [
    {
     "name": "stdout",
     "output_type": "stream",
     "text": [
      "['Y29', 'F29'] -0.19 0.97 [0.48, 1] 1.17 [0.46, 2] True\n",
      "['Y29', 'A29'] 1.45 2.74 [2.12, 3] 1.29 [0.62, 2] True\n",
      "['W38', 'F38'] -0.3 0.47 [-0.09, 1] 0.78 [0.21, 1] True\n",
      "['T42', 'A42'] 0.6 0.96 [0.71, 1] 0.36 [0.09, 1] True\n",
      "['W44', 'F44'] 0.02 0.19 [-0.48, 1] 0.17 [-0.54, 1] True\n",
      "['E76', 'A76'] -0.34 0.97 [-0.23, 2] 1.31 [-0.12, 3] True\n",
      "['E80', 'A80'] -0.17 0.3 [-0.94, 2] 0.47 [-0.84, 2] True\n",
      "['D35', 'A35'] -0.03 1.75 [0.78, 3] 1.78 [0.6, 3] True\n",
      "['D39', 'A39'] 0.03 6.58 [5.56, 8] 6.54 [5.38, 8] True\n",
      "['K27', 'A27'] -0.28 3.01 [1.8, 4] 3.29 [2.2, 4] True\n",
      "['R59', 'A59'] -0.43 3.85 [2.45, 5] 4.28 [3.02, 6] True\n",
      "['R83', 'Q83'] 2.82 3.42 [2.5, 4] 0.6 [-0.62, 2] False\n",
      "['R87', 'A87'] 0.0 6.46 [5.31, 8] 6.46 [5.43, 7] True\n",
      "['H102', 'A102'] 0.33 6.84 [6.51, 7] 6.51 [6.18, 7] True\n"
     ]
    }
   ],
   "source": [
    "# Get the discrepancy between forward and negative reverse DDGs (including 95% CI error bars)\n",
    "\n",
    "labels_internal_consistency = []\n",
    "for i in range(14):\n",
    "    discrepancy = round(to_plot[i][2] - to_plot[i+14][2], 2)\n",
    "    forward_ddg = round(to_plot[i][2], 2)\n",
    "    reverse_ddg = round(to_plot[i+14][2], 2)\n",
    "    forward_ci = [round(to_plot[i][2] - to_plot[i][3], 2), round(to_plot[i][2] + to_plot[i][3])]\n",
    "    reverse_ci = [round(to_plot[i+14][2] - to_plot[i+14][3], 2), round(to_plot[i+14][2] + to_plot[i+14][3])]\n",
    "    forward_ci_extended = [forward_ci[0] - 1, forward_ci[1] + 1]\n",
    "    reverse_ci_extended = [reverse_ci[0] - 1, reverse_ci[1] + 1]\n",
    "    is_within_error = (forward_ci_extended[0] <= reverse_ddg and reverse_ddg <= forward_ci_extended[1]) or (reverse_ci_extended[0] <= forward_ddg and forward_ddg <= reverse_ci_extended[1])\n",
    "    print(to_plot[i][0:2], discrepancy, forward_ddg, forward_ci, reverse_ddg, reverse_ci, is_within_error)\n",
    "    if not is_within_error:\n",
    "        labels_internal_consistency.append(titles[i])\n",
    "    else:\n",
    "        labels_internal_consistency.append(\"\")\n",
    "    "
   ]
  },
  {
   "cell_type": "code",
   "execution_count": 9,
   "metadata": {
    "scrolled": true
   },
   "outputs": [
    {
     "name": "stdout",
     "output_type": "stream",
     "text": [
      "['Y29', 'F29'] 1.0743520786995355\n",
      "['Y29', 'A29'] -0.6574160652112027\n",
      "['W38', 'F38'] -1.1279178254945998\n",
      "['T42', 'A42'] -0.8371713668688401\n",
      "['W44', 'F44'] 0.18861885510507853\n",
      "['E76', 'A76'] -0.42664213775215987\n",
      "['E80', 'A80'] -0.20253281511845156\n",
      "['D35', 'A35'] -2.7518402420063968\n",
      "['D39', 'A39'] -1.124406792051654\n",
      "['K27', 'A27'] -2.3910160342495974\n",
      "['R59', 'A59'] -1.3497925763364238\n",
      "['R83', 'Q83'] -1.9803007831324262\n",
      "['R87', 'A87'] 0.9599127861369396\n",
      "['H102', 'A102'] 0.741684159332527\n",
      "['-F29', '-Y29'] 1.268964693761506\n",
      "['-A29', '-Y29'] -2.1079303145174015\n",
      "['-F38', '-W38'] -0.8245474794261975\n",
      "['-A42', '-T42'] -1.439768549915594\n",
      "['-F44', '-W44'] 0.16864853254123263\n",
      "['-A76', '-E76'] -0.09036994325244896\n",
      "['-A80', '-E80'] -0.03087460226015537\n",
      "['-A35', '-D35'] -2.7226231119035447\n",
      "['-A39', '-D39'] -1.1563828694766984\n",
      "['-A27', '-K27'] -2.1104984198986134\n",
      "['-A59', '-R59'] -0.9230351665206742\n",
      "['-Q83', '-R83'] -4.796291000676598\n",
      "['-A87', '-R87'] 0.9567155511529677\n",
      "['-A102', '-H102'] 0.412073377191172\n"
     ]
    }
   ],
   "source": [
    "# Get the discrepancy from experiment\n",
    "\n",
    "experiment = [-0.1, 3.4, 1.6, 1.8, 0, 1.4, 0.5, 4.5, 7.7, 5.4, 5.2, 5.4, 5.5, 6.1, -0.1, 3.4, 1.6, 1.8, 0, 1.4, 0.5, 4.5, 7.7, 5.4, 5.2, 5.4, 5.5, 6.1]\n",
    "for i in range(28):\n",
    "    print(to_plot[i][0:2], to_plot[i][2] - experiment[i])\n",
    "    "
   ]
  },
  {
   "cell_type": "code",
   "execution_count": 10,
   "metadata": {},
   "outputs": [
    {
     "name": "stdout",
     "output_type": "stream",
     "text": [
      "['Y29', 'F29'] 1.07 -0.1 [-0.52, 2.4699999999999998] True\n",
      "['Y29', 'A29'] -0.66 3.4 [1.12, 4.359999999999999] True\n",
      "['W38', 'F38'] -1.13 1.6 [-1.09, 2.04] True\n",
      "['T42', 'A42'] -0.84 1.8 [-0.29000000000000004, 2.21] True\n",
      "['W44', 'F44'] 0.19 0 [-1.48, 1.8599999999999999] True\n",
      "['E76', 'A76'] -0.43 1.4 [-1.23, 3.18] True\n",
      "['E80', 'A80'] -0.2 0.5 [-1.94, 2.54] True\n",
      "['D35', 'A35'] -2.75 4.5 [-0.21999999999999997, 3.71] False\n",
      "['D39', 'A39'] -1.12 7.7 [4.56, 8.6] True\n",
      "['K27', 'A27'] -2.39 5.4 [0.8, 5.22] True\n",
      "['R59', 'A59'] -1.35 5.2 [1.4500000000000002, 6.25] True\n",
      "['R83', 'Q83'] -1.98 5.4 [1.5, 5.34] True\n",
      "['R87', 'A87'] 0.96 5.5 [4.31, 8.61] True\n",
      "['H102', 'A102'] 0.74 6.1 [5.51, 8.17] True\n",
      "['-F29', '-Y29'] 1.27 -0.1 [-0.54, 2.88] True\n",
      "['-A29', '-Y29'] -2.11 3.4 [-0.38, 2.96] False\n",
      "['-F38', '-W38'] -0.82 1.6 [-0.79, 2.34] True\n",
      "['-A42', '-T42'] -1.44 1.8 [-0.91, 1.63] True\n",
      "['-F44', '-W44'] 0.17 0 [-1.54, 1.88] True\n",
      "['-A76', '-E76'] -0.09 1.4 [-1.12, 3.74] True\n",
      "['-A80', '-E80'] -0.03 0.5 [-1.8399999999999999, 2.7800000000000002] True\n",
      "['-A35', '-D35'] -2.72 4.5 [-0.4, 3.96] False\n",
      "['-A39', '-D39'] -1.16 7.7 [4.38, 8.7] True\n",
      "['-A27', '-K27'] -2.11 5.4 [1.2000000000000002, 5.38] True\n",
      "['-A59', '-R59'] -0.92 5.2 [2.02, 6.53] True\n",
      "['-Q83', '-R83'] -4.8 5.4 [-1.62, 2.83] False\n",
      "['-A87', '-R87'] 0.96 5.5 [4.43, 8.49] True\n",
      "['-A102', '-H102'] 0.41 6.1 [5.18, 7.84] True\n"
     ]
    }
   ],
   "source": [
    "# Get the discrepancy from experiment (including 95% CI error bars for predicted and experiment)\n",
    "\n",
    "labels_accuracy = []\n",
    "experiment = [-0.1, 3.4, 1.6, 1.8, 0, 1.4, 0.5, 4.5, 7.7, 5.4, 5.2, 5.4, 5.5, 6.1, -0.1, 3.4, 1.6, 1.8, 0, 1.4, 0.5, 4.5, 7.7, 5.4, 5.2, 5.4, 5.5, 6.1]\n",
    "for i in range(28):\n",
    "    discrepancy = round(to_plot[i][2] - experiment[i], 2)\n",
    "    predicted_ci = [round(to_plot[i][2] - to_plot[i][3], 2), round(to_plot[i][2] + to_plot[i][3], 2)]\n",
    "    predicted_ci_extended = [predicted_ci[0] - 1, predicted_ci[1] + 1]\n",
    "    is_within_error = experiment[i] + 0.2 > predicted_ci_extended[0] and experiment[i] - 0.2 < predicted_ci_extended[1]\n",
    "    print(to_plot[i][0:2], discrepancy, experiment[i], predicted_ci_extended, is_within_error)\n",
    "    if not is_within_error:\n",
    "        if i >= 14:\n",
    "            labels_accuracy.append(f\"-({titles[i]})\")\n",
    "        else:\n",
    "            labels_accuracy.append(titles[i])\n",
    "    else:\n",
    "        labels_accuracy.append(\"\")\n",
    "    "
   ]
  },
  {
   "cell_type": "code",
   "execution_count": 11,
   "metadata": {},
   "outputs": [],
   "source": [
    "# Assemble experimental values\n",
    "\n",
    "d = {'WT': 19.0, 'A27': 13.6, 'A59': 13.8, 'Q83': 13.6, 'A87': 13.5, \n",
    "     'A35': 14.5, 'A39': 11.3, 'A76': 17.65, 'A80': 18.5, 'F29': 19.1, \n",
    "     'A29': 15.6, 'F38': 17.4, 'A42': 17.2, 'F44': 19.0, 'A102': 12.9,\n",
    "     \n",
    "    '-A27': -13.6, '-A59': -13.8, '-Q83': -13.6, '-A87': -13.5, \n",
    "     '-A35': -14.5, '-A39': -11.3, '-A76': -17.65, '-A80': -18.5, '-F29': -19.1, \n",
    "     '-A29': -15.6, '-F38': -17.4, '-A42': -17.2, '-F44': -19.0, '-A102': -12.9\n",
    "    }\n",
    "\n",
    "experiment = []\n",
    "for k in d.keys():\n",
    "    if k == 'WT':\n",
    "        for wt_residue in ['K27', 'R59', 'R83', 'R87', 'H102', \n",
    "                           'D35', 'D39', 'E76', 'E80',\n",
    "                           'Y29', 'W38', 'T42', 'W44']:\n",
    "            experiment.append([wt_residue, d[k]*-1, 0.1*2]) \n",
    "            experiment.append([\"-\" + wt_residue, d[k], 0.1*2])\n",
    "    else:\n",
    "        experiment.append([k, d[k]*-1, 0.1*2]) \n",
    "        \n",
    "# Note: we take the negative of everything because the free energies are subtracted differently in Schreiber et al"
   ]
  },
  {
   "cell_type": "markdown",
   "metadata": {},
   "source": [
    "## Calculated vs experiment"
   ]
  },
  {
   "cell_type": "code",
   "execution_count": 11,
   "metadata": {
    "scrolled": true
   },
   "outputs": [],
   "source": [
    "import numpy as np\n",
    "\n",
    "%matplotlib inline\n",
    "import matplotlib.pylab as plt\n",
    "\n",
    "from cinnabar import plotting, stats, wrangle"
   ]
  },
  {
   "cell_type": "code",
   "execution_count": 13,
   "metadata": {},
   "outputs": [],
   "source": [
    "# Write csv with data\n",
    "pd.DataFrame(experiment + to_plot).to_csv(f\"/data/chodera/zhangi/perses_benchmark/repex/perses-bnbs-paper-fourth-attempt/cinnabar_input_longer_all_50ns.csv\", index=False, header=False)\n",
    "# Had to manually add headings, otherwise the lists wouldn't print out as comma separated\n",
    "# Had to remove extra commas in experimental block\n"
   ]
  },
  {
   "cell_type": "code",
   "execution_count": 12,
   "metadata": {},
   "outputs": [
    {
     "name": "stdout",
     "output_type": "stream",
     "text": [
      "Graph is not connected enough to compute absolute values\n"
     ]
    }
   ],
   "source": [
    "# Create map with the csv file\n",
    "fe = wrangle.FEMap('/data/chodera/zhangi/perses_benchmark/repex/perses-bnbs-paper-fourth-attempt/cinnabar_input_longer_all_50ns.csv')\n"
   ]
  },
  {
   "cell_type": "code",
   "execution_count": 13,
   "metadata": {
    "scrolled": false
   },
   "outputs": [
    {
     "data": {
      "image/png": "[encoded data removed]",
      "text/plain": [
       "<Figure size 720x720 with 1 Axes>"
      ]
     },
     "metadata": {
      "needs_background": "light"
     },
     "output_type": "display_data"
    }
   ],
   "source": [
    "# Format data appropriately\n",
    "x = [edge[2][\"exp_DDG\"] for edge in fe.graph.edges(data=True)]\n",
    "y = [edge[2][\"calc_DDG\"] for edge in fe.graph.edges(data=True)]\n",
    "xerr = np.asarray([edge[2][\"exp_dDDG\"] for edge in fe.graph.edges(data=True)])\n",
    "yerr = np.asarray([edge[2][\"calc_dDDG\"] for edge in fe.graph.edges(data=True)])\n",
    "x_data = np.asarray(x)\n",
    "y_data = np.asarray(y)\n",
    "\n",
    "# Generate the plot\n",
    "filename = '/data/chodera/zhangi/perses_benchmark/repex/perses-bnbs-paper-fourth-attempt/cinnabar_plot_longer_all_50ns.pdf'\n",
    "plot = plotting._master_plot(\n",
    "    x_data,\n",
    "    y_data,\n",
    "    xerr=xerr,\n",
    "    yerr=yerr,\n",
    "    filename=filename,\n",
    "    title=\"Mutations in barnase or barstar\",\n",
    "    target_name=\"barnase:barstar\",\n",
    "    units=r'$\\mathrm{kcal\\,/mol}$', \n",
    "    figsize=10, \n",
    "    dpi=500,\n",
    "    xy_lim=[-5.5, 13.5],\n",
    "    data_labels=labels_accuracy,\n",
    "#     data_labels=titles,\n",
    "    font_sizes={\"title\":15, \"labels\": 11, \"other\": 15},\n",
    "    scatter_kwargs={'s': 40}\n",
    ")"
   ]
  },
  {
   "cell_type": "markdown",
   "metadata": {},
   "source": [
    "## -Reverse vs Forward plot"
   ]
  },
  {
   "cell_type": "code",
   "execution_count": 17,
   "metadata": {
    "scrolled": true
   },
   "outputs": [
    {
     "data": {
      "image/png": "[encoded data removed]",
      "text/plain": [
       "<Figure size 720x720 with 1 Axes>"
      ]
     },
     "metadata": {
      "needs_background": "light"
     },
     "output_type": "display_data"
    }
   ],
   "source": [
    "# Format the data appropriately\n",
    "x = [entry[2] for i, entry in enumerate(to_plot) if i < 14] # forward\n",
    "y = [entry[2] for i, entry in enumerate(to_plot) if i >= 14] # reverse\n",
    "xerr =  [entry[3] for i, entry in enumerate(to_plot) if i < 14] # forward\n",
    "yerr = [entry[3] for i, entry in enumerate(to_plot) if i >= 14] # reverse\n",
    "x_data = np.asarray(x)\n",
    "y_data = np.asarray(y)\n",
    "\n",
    "# Generate the plot\n",
    "filename = '/data/chodera/zhangi/perses_benchmark/repex/perses-bnbs-paper-fourth-attempt/cinnabar_plot_longer_internal_consistency_all_50ns.pdf'\n",
    "plot = plotting._master_plot(\n",
    "    x_data,\n",
    "    y_data,\n",
    "    xerr=xerr,\n",
    "    yerr=yerr,\n",
    "    filename=filename,\n",
    "    title=\"Mutations in barnase or barstar\",\n",
    "    target_name=\"barnase:barstar\",\n",
    "    xlabel=\"Forward\",\n",
    "    ylabel=\"- Reverse\",\n",
    "    units=r'$\\mathrm{kcal\\,/mol}$', \n",
    "    figsize=10, \n",
    "    dpi=500,\n",
    "    xy_lim=[-5.5, 13.5],\n",
    "    data_labels=labels_internal_consistency,\n",
    "    font_sizes={\"title\":15, \"labels\": 11, \"other\": 15},\n",
    "    scatter_kwargs={'s': 40})\n"
   ]
  },
  {
   "cell_type": "markdown",
   "metadata": {},
   "source": [
    "## Table"
   ]
  },
  {
   "cell_type": "markdown",
   "metadata": {},
   "source": [
    "### 50 ns/replica complex, 10 ns/replica apo"
   ]
  },
  {
   "cell_type": "code",
   "execution_count": 28,
   "metadata": {},
   "outputs": [],
   "source": [
    "# Format the data appropriately for table\n",
    "\n",
    "titles = [\"Y29F\", \"Y29A\",  \"W38F\", \"T42A\", \"W44F\", \"E76A\", \"E80A\", \"D35A\", \"D39A\", \"K27A\", \"R59A\", \"R83Q\", \"R87A\", \"H102A\", \"F29Y\", \"A29Y\",  \"F38W\", \"A42T\", \"F44W\", \"A76E\", \"A80E\", \"A35D\", \"A39D\", \"A27K\", \"A59R\", \"Q83R\", \"A87R\", \"A102H\"]\n",
    "\n",
    "to_plot = []\n",
    "\n",
    "for sub_dir in range(28):\n",
    "    ddg = compute_ddg(d_results[sub_dir]['apo'][\"Deltaf\"][0, -1], d_results[sub_dir]['complex'][\"Deltaf\"][0, -1])\n",
    "    dddg = compute_error(d_results[sub_dir]['apo'][\"dDeltaf\"][0, -1], d_results[sub_dir]['complex'][\"dDeltaf\"][0, -1])\n",
    "    if sub_dir in range(14):\n",
    "        to_plot.append([titles[sub_dir], round(ddg, 2), round(dddg, 2), 50, 10])\n",
    "    else:\n",
    "        to_plot.append([titles[sub_dir], round(ddg, 2), round(dddg, 2), 50, 10])\n"
   ]
  },
  {
   "cell_type": "markdown",
   "metadata": {},
   "source": [
    "### 100 ns/replica complex, 10 ns/replica apo"
   ]
  },
  {
   "cell_type": "code",
   "execution_count": 29,
   "metadata": {},
   "outputs": [],
   "source": [
    "# Retrieve free energies for 100 ns\n",
    "\n",
    "replicate = 1\n",
    "main_dir = 47\n",
    "sub_dirs = [25]\n",
    "\n",
    "d_results = {}\n",
    "for sub_dir in sub_dirs:\n",
    "    d_results[sub_dir] = {}\n",
    "    for phase in ['apo', 'complex']:\n",
    "        if phase == \"complex\":\n",
    "            length = 100\n",
    "        else:\n",
    "            length = 10\n",
    "        with open(f\"/data/chodera/zhangi/perses_benchmark/repex/perses-bnbs-paper-fourth-attempt/{main_dir}/{sub_dir}/replicate_{replicate}/{phase}_free_energy_bootstrapped_{length}ns.pickle\", \"rb\") as f:\n",
    "            results = pickle.load(f)\n",
    "            d_results[sub_dir][phase] = results\n"
   ]
  },
  {
   "cell_type": "code",
   "execution_count": 30,
   "metadata": {},
   "outputs": [],
   "source": [
    "# Format the data appropriately for table\n",
    "\n",
    "titles = [\"Y29F\", \"Y29A\",  \"W38F\", \"T42A\", \"W44F\", \"E76A\", \"E80A\", \"D35A\", \"D39A\", \"K27A\", \"R59A\", \"R83Q\", \"R87A\", \"H102A\", \"F29Y\", \"A29Y\",  \"F38W\", \"A42T\", \"F44W\", \"A76E\", \"A80E\", \"A35D\", \"A39D\", \"A27K\", \"A59R\", \"Q83R\", \"A87R\", \"A102H\"]\n",
    "\n",
    "for sub_dir in [25]:\n",
    "    ddg = compute_ddg(d_results[sub_dir]['apo'][\"Deltaf\"][0, -1], d_results[sub_dir]['complex'][\"Deltaf\"][0, -1])\n",
    "    dddg = compute_error(d_results[sub_dir]['apo'][\"dDeltaf\"][0, -1], d_results[sub_dir]['complex'][\"dDeltaf\"][0, -1])\n",
    "    if sub_dir in range(14):\n",
    "        to_plot.append([titles[sub_dir], round(ddg, 2), round(dddg, 2), 100, 10])\n",
    "    else:\n",
    "        to_plot.append([titles[sub_dir], round(ddg, 2), round(dddg, 2), 100, 10])\n"
   ]
  },
  {
   "cell_type": "code",
   "execution_count": 31,
   "metadata": {},
   "outputs": [
    {
     "data": {
      "text/plain": [
       "[['Y29F', 0.97, 0.25, 50, 10],\n",
       " ['Y29A', 2.74, 0.31, 50, 10],\n",
       " ['W38F', 0.47, 0.28, 50, 10],\n",
       " ['T42A', 0.96, 0.12, 50, 10],\n",
       " ['W44F', 0.19, 0.33, 50, 10],\n",
       " ['E76A', 0.97, 0.6, 50, 10],\n",
       " ['E80A', 0.3, 0.62, 50, 10],\n",
       " ['D35A', 1.75, 0.48, 50, 10],\n",
       " ['D39A', 6.58, 0.51, 50, 10],\n",
       " ['K27A', 3.01, 0.6, 50, 10],\n",
       " ['R59A', 3.85, 0.7, 50, 10],\n",
       " ['R83Q', 3.42, 0.46, 50, 10],\n",
       " ['R87A', 6.46, 0.58, 50, 10],\n",
       " ['H102A', 6.84, 0.16, 50, 10],\n",
       " ['F29Y', -1.17, 0.36, 50, 10],\n",
       " ['A29Y', -1.29, 0.34, 50, 10],\n",
       " ['F38W', -0.78, 0.28, 50, 10],\n",
       " ['A42T', -0.36, 0.13, 50, 10],\n",
       " ['F44W', -0.17, 0.35, 50, 10],\n",
       " ['A76E', -1.31, 0.72, 50, 10],\n",
       " ['A80E', -0.47, 0.66, 50, 10],\n",
       " ['A35D', -1.78, 0.59, 50, 10],\n",
       " ['A39D', -6.54, 0.58, 50, 10],\n",
       " ['A27K', -3.29, 0.54, 50, 10],\n",
       " ['A59R', -4.28, 0.63, 50, 10],\n",
       " ['Q83R', -0.6, 0.61, 50, 10],\n",
       " ['A87R', -6.46, 0.51, 50, 10],\n",
       " ['A102H', -6.51, 0.16, 50, 10],\n",
       " ['Q83R', -2.76, 0.59, 100, 10]]"
      ]
     },
     "execution_count": 31,
     "metadata": {},
     "output_type": "execute_result"
    }
   ],
   "source": [
    "to_plot"
   ]
  },
  {
   "cell_type": "code",
   "execution_count": 33,
   "metadata": {},
   "outputs": [],
   "source": [
    "df = pd.DataFrame(to_plot, columns=[\"Mutation\", r\"$\\Delta\\Delta$G (kcal/mol)\", \"Error (kcal/mol)\", \"Complex phase simulation time (ns/replica)\", \"Apo phase simulation time (ns/replica)\"])"
   ]
  },
  {
   "cell_type": "code",
   "execution_count": 34,
   "metadata": {
    "scrolled": true
   },
   "outputs": [
    {
     "data": {
      "text/html": [
       "<div>\n",
       "<style scoped>\n",
       "    .dataframe tbody tr th:only-of-type {\n",
       "        vertical-align: middle;\n",
       "    }\n",
       "\n",
       "    .dataframe tbody tr th {\n",
       "        vertical-align: top;\n",
       "    }\n",
       "\n",
       "    .dataframe thead th {\n",
       "        text-align: right;\n",
       "    }\n",
       "</style>\n",
       "<table border=\"1\" class=\"dataframe\">\n",
       "  <thead>\n",
       "    <tr style=\"text-align: right;\">\n",
       "      <th></th>\n",
       "      <th>Mutation</th>\n",
       "      <th>$\\Delta\\Delta$G (kcal/mol)</th>\n",
       "      <th>Error (kcal/mol)</th>\n",
       "      <th>Complex phase simulation time (ns/replica)</th>\n",
       "      <th>Apo phase simulation time (ns/replica)</th>\n",
       "    </tr>\n",
       "  </thead>\n",
       "  <tbody>\n",
       "    <tr>\n",
       "      <th>0</th>\n",
       "      <td>Y29F</td>\n",
       "      <td>0.97</td>\n",
       "      <td>0.25</td>\n",
       "      <td>50</td>\n",
       "      <td>10</td>\n",
       "    </tr>\n",
       "    <tr>\n",
       "      <th>1</th>\n",
       "      <td>Y29A</td>\n",
       "      <td>2.74</td>\n",
       "      <td>0.31</td>\n",
       "      <td>50</td>\n",
       "      <td>10</td>\n",
       "    </tr>\n",
       "    <tr>\n",
       "      <th>2</th>\n",
       "      <td>W38F</td>\n",
       "      <td>0.47</td>\n",
       "      <td>0.28</td>\n",
       "      <td>50</td>\n",
       "      <td>10</td>\n",
       "    </tr>\n",
       "    <tr>\n",
       "      <th>3</th>\n",
       "      <td>T42A</td>\n",
       "      <td>0.96</td>\n",
       "      <td>0.12</td>\n",
       "      <td>50</td>\n",
       "      <td>10</td>\n",
       "    </tr>\n",
       "    <tr>\n",
       "      <th>4</th>\n",
       "      <td>W44F</td>\n",
       "      <td>0.19</td>\n",
       "      <td>0.33</td>\n",
       "      <td>50</td>\n",
       "      <td>10</td>\n",
       "    </tr>\n",
       "    <tr>\n",
       "      <th>5</th>\n",
       "      <td>E76A</td>\n",
       "      <td>0.97</td>\n",
       "      <td>0.60</td>\n",
       "      <td>50</td>\n",
       "      <td>10</td>\n",
       "    </tr>\n",
       "    <tr>\n",
       "      <th>6</th>\n",
       "      <td>E80A</td>\n",
       "      <td>0.30</td>\n",
       "      <td>0.62</td>\n",
       "      <td>50</td>\n",
       "      <td>10</td>\n",
       "    </tr>\n",
       "    <tr>\n",
       "      <th>7</th>\n",
       "      <td>D35A</td>\n",
       "      <td>1.75</td>\n",
       "      <td>0.48</td>\n",
       "      <td>50</td>\n",
       "      <td>10</td>\n",
       "    </tr>\n",
       "    <tr>\n",
       "      <th>8</th>\n",
       "      <td>D39A</td>\n",
       "      <td>6.58</td>\n",
       "      <td>0.51</td>\n",
       "      <td>50</td>\n",
       "      <td>10</td>\n",
       "    </tr>\n",
       "    <tr>\n",
       "      <th>9</th>\n",
       "      <td>K27A</td>\n",
       "      <td>3.01</td>\n",
       "      <td>0.60</td>\n",
       "      <td>50</td>\n",
       "      <td>10</td>\n",
       "    </tr>\n",
       "    <tr>\n",
       "      <th>10</th>\n",
       "      <td>R59A</td>\n",
       "      <td>3.85</td>\n",
       "      <td>0.70</td>\n",
       "      <td>50</td>\n",
       "      <td>10</td>\n",
       "    </tr>\n",
       "    <tr>\n",
       "      <th>11</th>\n",
       "      <td>R83Q</td>\n",
       "      <td>3.42</td>\n",
       "      <td>0.46</td>\n",
       "      <td>50</td>\n",
       "      <td>10</td>\n",
       "    </tr>\n",
       "    <tr>\n",
       "      <th>12</th>\n",
       "      <td>R87A</td>\n",
       "      <td>6.46</td>\n",
       "      <td>0.58</td>\n",
       "      <td>50</td>\n",
       "      <td>10</td>\n",
       "    </tr>\n",
       "    <tr>\n",
       "      <th>13</th>\n",
       "      <td>H102A</td>\n",
       "      <td>6.84</td>\n",
       "      <td>0.16</td>\n",
       "      <td>50</td>\n",
       "      <td>10</td>\n",
       "    </tr>\n",
       "    <tr>\n",
       "      <th>14</th>\n",
       "      <td>F29Y</td>\n",
       "      <td>-1.17</td>\n",
       "      <td>0.36</td>\n",
       "      <td>50</td>\n",
       "      <td>10</td>\n",
       "    </tr>\n",
       "    <tr>\n",
       "      <th>15</th>\n",
       "      <td>A29Y</td>\n",
       "      <td>-1.29</td>\n",
       "      <td>0.34</td>\n",
       "      <td>50</td>\n",
       "      <td>10</td>\n",
       "    </tr>\n",
       "    <tr>\n",
       "      <th>16</th>\n",
       "      <td>F38W</td>\n",
       "      <td>-0.78</td>\n",
       "      <td>0.28</td>\n",
       "      <td>50</td>\n",
       "      <td>10</td>\n",
       "    </tr>\n",
       "    <tr>\n",
       "      <th>17</th>\n",
       "      <td>A42T</td>\n",
       "      <td>-0.36</td>\n",
       "      <td>0.13</td>\n",
       "      <td>50</td>\n",
       "      <td>10</td>\n",
       "    </tr>\n",
       "    <tr>\n",
       "      <th>18</th>\n",
       "      <td>F44W</td>\n",
       "      <td>-0.17</td>\n",
       "      <td>0.35</td>\n",
       "      <td>50</td>\n",
       "      <td>10</td>\n",
       "    </tr>\n",
       "    <tr>\n",
       "      <th>19</th>\n",
       "      <td>A76E</td>\n",
       "      <td>-1.31</td>\n",
       "      <td>0.72</td>\n",
       "      <td>50</td>\n",
       "      <td>10</td>\n",
       "    </tr>\n",
       "    <tr>\n",
       "      <th>20</th>\n",
       "      <td>A80E</td>\n",
       "      <td>-0.47</td>\n",
       "      <td>0.66</td>\n",
       "      <td>50</td>\n",
       "      <td>10</td>\n",
       "    </tr>\n",
       "    <tr>\n",
       "      <th>21</th>\n",
       "      <td>A35D</td>\n",
       "      <td>-1.78</td>\n",
       "      <td>0.59</td>\n",
       "      <td>50</td>\n",
       "      <td>10</td>\n",
       "    </tr>\n",
       "    <tr>\n",
       "      <th>22</th>\n",
       "      <td>A39D</td>\n",
       "      <td>-6.54</td>\n",
       "      <td>0.58</td>\n",
       "      <td>50</td>\n",
       "      <td>10</td>\n",
       "    </tr>\n",
       "    <tr>\n",
       "      <th>23</th>\n",
       "      <td>A27K</td>\n",
       "      <td>-3.29</td>\n",
       "      <td>0.54</td>\n",
       "      <td>50</td>\n",
       "      <td>10</td>\n",
       "    </tr>\n",
       "    <tr>\n",
       "      <th>24</th>\n",
       "      <td>A59R</td>\n",
       "      <td>-4.28</td>\n",
       "      <td>0.63</td>\n",
       "      <td>50</td>\n",
       "      <td>10</td>\n",
       "    </tr>\n",
       "    <tr>\n",
       "      <th>25</th>\n",
       "      <td>Q83R</td>\n",
       "      <td>-0.60</td>\n",
       "      <td>0.61</td>\n",
       "      <td>50</td>\n",
       "      <td>10</td>\n",
       "    </tr>\n",
       "    <tr>\n",
       "      <th>26</th>\n",
       "      <td>A87R</td>\n",
       "      <td>-6.46</td>\n",
       "      <td>0.51</td>\n",
       "      <td>50</td>\n",
       "      <td>10</td>\n",
       "    </tr>\n",
       "    <tr>\n",
       "      <th>27</th>\n",
       "      <td>A102H</td>\n",
       "      <td>-6.51</td>\n",
       "      <td>0.16</td>\n",
       "      <td>50</td>\n",
       "      <td>10</td>\n",
       "    </tr>\n",
       "    <tr>\n",
       "      <th>28</th>\n",
       "      <td>Q83R</td>\n",
       "      <td>-2.76</td>\n",
       "      <td>0.59</td>\n",
       "      <td>100</td>\n",
       "      <td>10</td>\n",
       "    </tr>\n",
       "  </tbody>\n",
       "</table>\n",
       "</div>"
      ],
      "text/plain": [
       "   Mutation  $\\Delta\\Delta$G (kcal/mol)  Error (kcal/mol)  \\\n",
       "0      Y29F                        0.97              0.25   \n",
       "1      Y29A                        2.74              0.31   \n",
       "2      W38F                        0.47              0.28   \n",
       "3      T42A                        0.96              0.12   \n",
       "4      W44F                        0.19              0.33   \n",
       "5      E76A                        0.97              0.60   \n",
       "6      E80A                        0.30              0.62   \n",
       "7      D35A                        1.75              0.48   \n",
       "8      D39A                        6.58              0.51   \n",
       "9      K27A                        3.01              0.60   \n",
       "10     R59A                        3.85              0.70   \n",
       "11     R83Q                        3.42              0.46   \n",
       "12     R87A                        6.46              0.58   \n",
       "13    H102A                        6.84              0.16   \n",
       "14     F29Y                       -1.17              0.36   \n",
       "15     A29Y                       -1.29              0.34   \n",
       "16     F38W                       -0.78              0.28   \n",
       "17     A42T                       -0.36              0.13   \n",
       "18     F44W                       -0.17              0.35   \n",
       "19     A76E                       -1.31              0.72   \n",
       "20     A80E                       -0.47              0.66   \n",
       "21     A35D                       -1.78              0.59   \n",
       "22     A39D                       -6.54              0.58   \n",
       "23     A27K                       -3.29              0.54   \n",
       "24     A59R                       -4.28              0.63   \n",
       "25     Q83R                       -0.60              0.61   \n",
       "26     A87R                       -6.46              0.51   \n",
       "27    A102H                       -6.51              0.16   \n",
       "28     Q83R                       -2.76              0.59   \n",
       "\n",
       "    Complex phase simulation time (ns/replica)  \\\n",
       "0                                           50   \n",
       "1                                           50   \n",
       "2                                           50   \n",
       "3                                           50   \n",
       "4                                           50   \n",
       "5                                           50   \n",
       "6                                           50   \n",
       "7                                           50   \n",
       "8                                           50   \n",
       "9                                           50   \n",
       "10                                          50   \n",
       "11                                          50   \n",
       "12                                          50   \n",
       "13                                          50   \n",
       "14                                          50   \n",
       "15                                          50   \n",
       "16                                          50   \n",
       "17                                          50   \n",
       "18                                          50   \n",
       "19                                          50   \n",
       "20                                          50   \n",
       "21                                          50   \n",
       "22                                          50   \n",
       "23                                          50   \n",
       "24                                          50   \n",
       "25                                          50   \n",
       "26                                          50   \n",
       "27                                          50   \n",
       "28                                         100   \n",
       "\n",
       "    Apo phase simulation time (ns/replica)  \n",
       "0                                       10  \n",
       "1                                       10  \n",
       "2                                       10  \n",
       "3                                       10  \n",
       "4                                       10  \n",
       "5                                       10  \n",
       "6                                       10  \n",
       "7                                       10  \n",
       "8                                       10  \n",
       "9                                       10  \n",
       "10                                      10  \n",
       "11                                      10  \n",
       "12                                      10  \n",
       "13                                      10  \n",
       "14                                      10  \n",
       "15                                      10  \n",
       "16                                      10  \n",
       "17                                      10  \n",
       "18                                      10  \n",
       "19                                      10  \n",
       "20                                      10  \n",
       "21                                      10  \n",
       "22                                      10  \n",
       "23                                      10  \n",
       "24                                      10  \n",
       "25                                      10  \n",
       "26                                      10  \n",
       "27                                      10  \n",
       "28                                      10  "
      ]
     },
     "execution_count": 34,
     "metadata": {},
     "output_type": "execute_result"
    }
   ],
   "source": [
    "df"
   ]
  },
  {
   "cell_type": "code",
   "execution_count": 35,
   "metadata": {},
   "outputs": [],
   "source": [
    "df.to_excel(\"/data/chodera/zhangi/perses_benchmark/repex/perses-bnbs-paper-fourth-attempt/table_50ns_arex.xlsx\", index=False)"
   ]
  },
  {
   "cell_type": "code",
   "execution_count": 36,
   "metadata": {},
   "outputs": [],
   "source": [
    "df.to_csv(\"/data/chodera/zhangi/perses_benchmark/repex/perses-bnbs-paper-fourth-attempt/table_50ns_arex.csv\", index=False)"
   ]
  },
  {
   "cell_type": "code",
   "execution_count": null,
   "metadata": {},
   "outputs": [],
   "source": []
  }
 ],
 "metadata": {
  "kernelspec": {
   "display_name": "Python 3 (ipykernel)",
   "language": "python",
   "name": "python3"
  },
  "language_info": {
   "codemirror_mode": {
    "name": "ipython",
    "version": 3
   },
   "file_extension": ".py",
   "mimetype": "text/x-python",
   "name": "python",
   "nbconvert_exporter": "python",
   "pygments_lexer": "ipython3",
   "version": "3.9.13"
  }
 },
 "nbformat": 4,
 "nbformat_minor": 4
}
