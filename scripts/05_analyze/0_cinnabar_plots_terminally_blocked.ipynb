{
 "cells": [
  {
   "cell_type": "markdown",
   "metadata": {},
   "source": [
    "## Gather the data"
   ]
  },
  {
   "cell_type": "code",
   "execution_count": 1,
   "metadata": {},
   "outputs": [
    {
     "name": "stderr",
     "output_type": "stream",
     "text": [
      "Warning: importing 'simtk.openmm' is deprecated.  Import 'openmm' instead.\n"
     ]
    }
   ],
   "source": [
    "import numpy as np\n",
    "import pickle\n",
    "from simtk.openmm import unit\n",
    "from openmmtools.constants import kB\n",
    "import pandas as pd\n",
    "\n",
    "import matplotlib.pyplot as plt\n",
    "KT_KCALMOL = kB * 300 * unit.kelvin / unit.kilocalories_per_mole"
   ]
  },
  {
   "cell_type": "code",
   "execution_count": 2,
   "metadata": {},
   "outputs": [],
   "source": [
    "def compute_ddg(dg_A, dg_B):\n",
    "    return dg_A * KT_KCALMOL - dg_B * KT_KCALMOL\n",
    "\n",
    "def compute_error(ddg_A, ddg_B):\n",
    "    return (ddg_A**2 + ddg_B**2)**0.5 * KT_KCALMOL"
   ]
  },
  {
   "cell_type": "code",
   "execution_count": 3,
   "metadata": {},
   "outputs": [],
   "source": [
    "# Retrieve free energies\n",
    "\n",
    "main_dir = 46\n",
    "sub_dirs = range(0, 40)\n",
    "d_results = {}\n",
    "for sub_dir in sub_dirs:\n",
    "    d_results[sub_dir] = {}\n",
    "    for phase in ['apo']:\n",
    "        with open(f\"/data/chodera/zhangi/perses_benchmark/repex/perses-bnbs-paper-fourth-attempt/{main_dir}/{sub_dir}/replicate_0/{phase}_free_energy_bootstrapped_5ns.pickle\", \"rb\") as f:\n",
    "            results = pickle.load(f)\n",
    "            d_results[sub_dir][phase] = results\n"
   ]
  },
  {
   "cell_type": "code",
   "execution_count": 4,
   "metadata": {},
   "outputs": [
    {
     "data": {
      "text/plain": [
       "1.1464096450574939"
      ]
     },
     "execution_count": 4,
     "metadata": {},
     "output_type": "execute_result"
    }
   ],
   "source": [
    "d_results[7]['apo'][\"dDeltaf\"][0, -1]*KT_KCALMOL"
   ]
  },
  {
   "cell_type": "code",
   "execution_count": 5,
   "metadata": {},
   "outputs": [],
   "source": [
    "# Format the data appropriately for cinnabar\n",
    "\n",
    "titles = [\"Y2F\", \"Y2A\", \"W2F\", \"T2A\", \"E2A\", \"D2A\", \"K2A\", \"R2A\", \"R2Q\", \"H2A\", \"F2Y\", \"A2Y\", \"F2W\", \"A2T\", \"A2E\", \"A2D\", \"A2K\", \"A2R\", \"Q2R\", \"A2H\"]\n",
    "\n",
    "to_plot = []\n",
    "\n",
    "for sub_dir in range(20):\n",
    "    ddg = compute_ddg(d_results[sub_dir]['apo'][\"Deltaf\"][0, -1], d_results[sub_dir + 20]['apo'][\"Deltaf\"][0, -1])\n",
    "    dddg = compute_error(d_results[sub_dir]['apo'][\"dDeltaf\"][0, -1], d_results[sub_dir + 20]['apo'][\"dDeltaf\"][0, -1])\n",
    "    if sub_dir in range(10):\n",
    "        to_plot.append([titles[sub_dir][:-1], titles[sub_dir][-1] + titles[sub_dir][1:-1], ddg, dddg*2, 0])\n",
    "    else:\n",
    "        to_plot.append([\"-\" + titles[sub_dir][:-1], \"-\" + titles[sub_dir][-1] + titles[sub_dir][1:-1], ddg * -1, dddg*2, 0])\n",
    "\n",
    "        "
   ]
  },
  {
   "cell_type": "code",
   "execution_count": 6,
   "metadata": {},
   "outputs": [
    {
     "data": {
      "text/plain": [
       "[['Y2', 'F2', -0.10121102903710621, 0.8280706014159976, 0],\n",
       " ['Y2', 'A2', 0.3508123716529141, 1.3264194401844012, 0],\n",
       " ['W2', 'F2', 0.11712044561038137, 1.1947869402983362, 0],\n",
       " ['T2', 'A2', 0.6229643428291887, 0.49752020072034164, 0],\n",
       " ['E2', 'A2', 5.17223245778151, 2.2415780449781315, 0],\n",
       " ['D2', 'A2', 5.208504548425116, 2.0966404163298926, 0],\n",
       " ['K2', 'A2', -1.7267837486030544, 2.544141053275086, 0],\n",
       " ['R2', 'A2', -1.3869832094545131, 2.9696687277535205, 0],\n",
       " ['R2', 'Q2', -1.534010294583421, 3.0774295341438993, 0],\n",
       " ['H2', 'A2', 1.082459559075243, 1.1053662929715764, 0],\n",
       " ['-F2', '-Y2', -0.173986778217472, 0.8477237544390772, 0],\n",
       " ['-A2', '-Y2', 0.41964169883727465, 1.4089931906350435, 0],\n",
       " ['-F2', '-W2', 0.26159967382035976, 1.2678304643670775, 0],\n",
       " ['-A2', '-T2', 0.625825807625823, 0.4306194014697177, 0],\n",
       " ['-A2', '-E2', 5.0641074360495395, 2.6032726126870744, 0],\n",
       " ['-A2', '-D2', 4.7827578396668, 2.5204734669511093, 0],\n",
       " ['-A2', '-K2', -1.5804063676078641, 2.121995589872345, 0],\n",
       " ['-A2', '-R2', -1.7119910366349131, 2.4618483740839894, 0],\n",
       " ['-Q2', '-R2', -1.6993217965978715, 2.4159265413022233, 0],\n",
       " ['-A2', '-H2', 0.8222368548328873, 0.912105082493756, 0]]"
      ]
     },
     "execution_count": 6,
     "metadata": {},
     "output_type": "execute_result"
    }
   ],
   "source": [
    "to_plot"
   ]
  },
  {
   "cell_type": "code",
   "execution_count": 7,
   "metadata": {
    "scrolled": true
   },
   "outputs": [
    {
     "name": "stdout",
     "output_type": "stream",
     "text": [
      "['Y2', 'F2'] 0.07 -0.1 [-0.93, 1] -0.17 [-1.02, 1] True\n",
      "['Y2', 'A2'] -0.07 0.35 [-0.98, 2] 0.42 [-0.99, 2] True\n",
      "['W2', 'F2'] -0.14 0.12 [-1.08, 1] 0.26 [-1.01, 2] True\n",
      "['T2', 'A2'] -0.0 0.62 [0.13, 1] 0.63 [0.2, 1] True\n",
      "['E2', 'A2'] 0.11 5.17 [2.93, 7] 5.06 [2.46, 8] True\n",
      "['D2', 'A2'] 0.43 5.21 [3.11, 7] 4.78 [2.26, 7] True\n",
      "['K2', 'A2'] -0.15 -1.73 [-4.27, 1] -1.58 [-3.7, 1] True\n",
      "['R2', 'A2'] 0.33 -1.39 [-4.36, 2] -1.71 [-4.17, 1] True\n",
      "['R2', 'Q2'] 0.17 -1.53 [-4.61, 2] -1.7 [-4.12, 1] True\n",
      "['H2', 'A2'] 0.26 1.08 [-0.02, 2] 0.82 [-0.09, 2] True\n"
     ]
    }
   ],
   "source": [
    "# Get the discrepancy between forward and negative reverse DDGs (including 95% CI error bars)\n",
    "\n",
    "labels_internal_consistency = []\n",
    "for i in range(10):\n",
    "    discrepancy = round(to_plot[i][2] - to_plot[i+10][2], 2)\n",
    "    forward_ddg = round(to_plot[i][2], 2)\n",
    "    reverse_ddg = round(to_plot[i+10][2], 2)\n",
    "    forward_ci = [round(to_plot[i][2] - to_plot[i][3], 2), round(to_plot[i][2] + to_plot[i][3])]\n",
    "    reverse_ci = [round(to_plot[i+10][2] - to_plot[i+10][3], 2), round(to_plot[i+10][2] + to_plot[i+10][3])]\n",
    "    forward_ci_extended = [forward_ci[0] - 1, forward_ci[1] + 1]\n",
    "    reverse_ci_extended = [reverse_ci[0] - 1, reverse_ci[1] + 1]\n",
    "    is_within_error = (forward_ci_extended[0] <= reverse_ddg and reverse_ddg <= forward_ci_extended[1]) or (reverse_ci_extended[0] <= forward_ddg and forward_ddg <= reverse_ci_extended[1])\n",
    "    print(to_plot[i][0:2], discrepancy, forward_ddg, forward_ci, reverse_ddg, reverse_ci, is_within_error)\n",
    "    if not is_within_error:\n",
    "        labels_internal_consistency.append(titles[i])\n",
    "    else:\n",
    "        labels_internal_consistency.append(\"\")\n",
    "    "
   ]
  },
  {
   "cell_type": "code",
   "execution_count": 8,
   "metadata": {},
   "outputs": [
    {
     "name": "stdout",
     "output_type": "stream",
     "text": [
      "[-0.101, 0.351, 0.117, 0.623, 5.172, 5.209, -1.727, -1.387, -1.534, 1.082]\n",
      "[-0.174, 0.42, 0.262, 0.626, 5.064, 4.783, -1.58, -1.712, -1.699, 0.822]\n",
      "[0.828, 1.326, 1.195, 0.498, 2.242, 2.097, 2.544, 2.97, 3.077, 1.105]\n",
      "[0.848, 1.409, 1.268, 0.431, 2.603, 2.52, 2.122, 2.462, 2.416, 0.912]\n"
     ]
    }
   ],
   "source": [
    "# Format data for cinnabar test\n",
    "x = [round(entry[2], 3) for i, entry in enumerate(to_plot) if i < 10] # forward\n",
    "y = [round(entry[2], 3) for i, entry in enumerate(to_plot) if i >= 10] # reverse\n",
    "xerr =  [round(entry[3], 3) for i, entry in enumerate(to_plot) if i < 10] # forward\n",
    "yerr = [round(entry[3], 3) for i, entry in enumerate(to_plot) if i >= 10] # reverse\n",
    "x_data = np.asarray(x)\n",
    "y_data = np.asarray(y)\n",
    "print(x)\n",
    "print(y)\n",
    "print(xerr)\n",
    "print(yerr)"
   ]
  },
  {
   "cell_type": "code",
   "execution_count": 9,
   "metadata": {},
   "outputs": [],
   "source": [
    "# Get labels for charge mutations only\n",
    "labels_charges = []\n",
    "for i in range(10):\n",
    "    if i in [4, 5, 6, 7, 8]:\n",
    "        labels_charges.append(titles[i])\n",
    "    else:\n",
    "        labels_charges.append(\"\")"
   ]
  },
  {
   "cell_type": "markdown",
   "metadata": {},
   "source": [
    "## -Reverse vs Forward plot"
   ]
  },
  {
   "cell_type": "code",
   "execution_count": 10,
   "metadata": {
    "scrolled": true
   },
   "outputs": [],
   "source": [
    "import numpy as np\n",
    "\n",
    "%matplotlib inline\n",
    "import matplotlib.pylab as plt\n",
    "\n",
    "from cinnabar import plotting, stats, wrangle"
   ]
  },
  {
   "cell_type": "code",
   "execution_count": 11,
   "metadata": {
    "scrolled": false
   },
   "outputs": [
    {
     "data": {
      "image/png": "[encoded data removed]",
      "text/plain": [
       "<Figure size 720x720 with 1 Axes>"
      ]
     },
     "metadata": {
      "needs_background": "light"
     },
     "output_type": "display_data"
    }
   ],
   "source": [
    "# Format the data appropriately\n",
    "x = [entry[2] for i, entry in enumerate(to_plot) if i < 10] # forward\n",
    "y = [entry[2] for i, entry in enumerate(to_plot) if i >= 10] # reverse\n",
    "xerr =  [entry[3] for i, entry in enumerate(to_plot) if i < 10] # forward\n",
    "yerr = [entry[3] for i, entry in enumerate(to_plot) if i >= 10] # reverse\n",
    "x_data = np.asarray(x)\n",
    "y_data = np.asarray(y)\n",
    "\n",
    "# Generate the plot\n",
    "filename = '/data/chodera/zhangi/perses_benchmark/repex/perses-bnbs-paper-fourth-attempt/cinnabar_plot_5ns_dipeptide.pdf'\n",
    "plot = plotting._master_plot(\n",
    "    x_data,\n",
    "    y_data,\n",
    "    xerr=xerr,\n",
    "    yerr=yerr,\n",
    "    filename=filename,\n",
    "    title=\"\",\n",
    "    target_name=\"terminally-blocked \\namino acid mutations\",\n",
    "    xlabel=\"Forward\",\n",
    "    ylabel=\"- Reverse\",\n",
    "    units=r'$\\mathrm{kcal\\,/mol}$', \n",
    "    figsize=10, \n",
    "    dpi=500,\n",
    "    axis_padding=3.0,\n",
    "    data_labels=labels_charges,\n",
    "    font_sizes={\"title\":20, \"labels\": 20, \"other\": 20},\n",
    "    scatter_kwargs={'s': 60}\n",
    ")\n"
   ]
  },
  {
   "cell_type": "markdown",
   "metadata": {},
   "source": [
    "## Table"
   ]
  },
  {
   "cell_type": "code",
   "execution_count": 31,
   "metadata": {},
   "outputs": [],
   "source": [
    "# Format the data appropriately for table\n",
    "\n",
    "titles = [\"Y2F\", \"Y2A\", \"W2F\", \"T2A\", \"E2A\", \"D2A\", \"K2A\", \"R2A\", \"R2Q\", \"H2A\", \"F2Y\", \"A2Y\", \"F2W\", \"A2T\", \"A2E\", \"A2D\", \"A2K\", \"A2R\", \"Q2R\", \"A2H\"]\n",
    "\n",
    "to_plot = []\n",
    "\n",
    "for sub_dir in range(20):\n",
    "    ddg = compute_ddg(d_results[sub_dir]['apo'][\"Deltaf\"][0, -1], d_results[sub_dir + 20]['apo'][\"Deltaf\"][0, -1])\n",
    "    dddg = compute_error(d_results[sub_dir]['apo'][\"dDeltaf\"][0, -1], d_results[sub_dir + 20]['apo'][\"dDeltaf\"][0, -1])\n",
    "    if sub_dir in range(10):\n",
    "        to_plot.append([titles[sub_dir], round(ddg, 2), round(dddg, 2), 5, 5, \"forward\"])\n",
    "    else:\n",
    "        to_plot.append([titles[sub_dir], round(ddg, 2), round(dddg, 2), 5, 5, \"reverse\"])\n"
   ]
  },
  {
   "cell_type": "code",
   "execution_count": 35,
   "metadata": {},
   "outputs": [],
   "source": [
    "df = pd.DataFrame(to_plot, columns=[\"Mutation\", r\"Predicted $\\Delta\\Delta$G (kcal/mol)\", \"Error (kcal/mol)\", \"ACE-X-NME phase simulation time (ns/replica)\", \"ALA-X-ALA phase simulation time (ns/replica)\", \"Mutation direction\"])"
   ]
  },
  {
   "cell_type": "code",
   "execution_count": 36,
   "metadata": {},
   "outputs": [
    {
     "data": {
      "text/html": [
       "<div>\n",
       "<style scoped>\n",
       "    .dataframe tbody tr th:only-of-type {\n",
       "        vertical-align: middle;\n",
       "    }\n",
       "\n",
       "    .dataframe tbody tr th {\n",
       "        vertical-align: top;\n",
       "    }\n",
       "\n",
       "    .dataframe thead th {\n",
       "        text-align: right;\n",
       "    }\n",
       "</style>\n",
       "<table border=\"1\" class=\"dataframe\">\n",
       "  <thead>\n",
       "    <tr style=\"text-align: right;\">\n",
       "      <th></th>\n",
       "      <th>Mutation</th>\n",
       "      <th>Predicted $\\Delta\\Delta$G (kcal/mol)</th>\n",
       "      <th>Error (kcal/mol)</th>\n",
       "      <th>ACE-X-NME phase simulation time (ns/replica)</th>\n",
       "      <th>ALA-X-ALA phase simulation time (ns/replica)</th>\n",
       "      <th>Mutation direction</th>\n",
       "    </tr>\n",
       "  </thead>\n",
       "  <tbody>\n",
       "    <tr>\n",
       "      <th>0</th>\n",
       "      <td>Y2F</td>\n",
       "      <td>-0.10</td>\n",
       "      <td>0.41</td>\n",
       "      <td>5</td>\n",
       "      <td>5</td>\n",
       "      <td>forward</td>\n",
       "    </tr>\n",
       "    <tr>\n",
       "      <th>1</th>\n",
       "      <td>Y2A</td>\n",
       "      <td>0.35</td>\n",
       "      <td>0.66</td>\n",
       "      <td>5</td>\n",
       "      <td>5</td>\n",
       "      <td>forward</td>\n",
       "    </tr>\n",
       "    <tr>\n",
       "      <th>2</th>\n",
       "      <td>W2F</td>\n",
       "      <td>0.12</td>\n",
       "      <td>0.60</td>\n",
       "      <td>5</td>\n",
       "      <td>5</td>\n",
       "      <td>forward</td>\n",
       "    </tr>\n",
       "    <tr>\n",
       "      <th>3</th>\n",
       "      <td>T2A</td>\n",
       "      <td>0.62</td>\n",
       "      <td>0.25</td>\n",
       "      <td>5</td>\n",
       "      <td>5</td>\n",
       "      <td>forward</td>\n",
       "    </tr>\n",
       "    <tr>\n",
       "      <th>4</th>\n",
       "      <td>E2A</td>\n",
       "      <td>5.17</td>\n",
       "      <td>1.12</td>\n",
       "      <td>5</td>\n",
       "      <td>5</td>\n",
       "      <td>forward</td>\n",
       "    </tr>\n",
       "    <tr>\n",
       "      <th>5</th>\n",
       "      <td>D2A</td>\n",
       "      <td>5.21</td>\n",
       "      <td>1.05</td>\n",
       "      <td>5</td>\n",
       "      <td>5</td>\n",
       "      <td>forward</td>\n",
       "    </tr>\n",
       "    <tr>\n",
       "      <th>6</th>\n",
       "      <td>K2A</td>\n",
       "      <td>-1.73</td>\n",
       "      <td>1.27</td>\n",
       "      <td>5</td>\n",
       "      <td>5</td>\n",
       "      <td>forward</td>\n",
       "    </tr>\n",
       "    <tr>\n",
       "      <th>7</th>\n",
       "      <td>R2A</td>\n",
       "      <td>-1.39</td>\n",
       "      <td>1.48</td>\n",
       "      <td>5</td>\n",
       "      <td>5</td>\n",
       "      <td>forward</td>\n",
       "    </tr>\n",
       "    <tr>\n",
       "      <th>8</th>\n",
       "      <td>R2Q</td>\n",
       "      <td>-1.53</td>\n",
       "      <td>1.54</td>\n",
       "      <td>5</td>\n",
       "      <td>5</td>\n",
       "      <td>forward</td>\n",
       "    </tr>\n",
       "    <tr>\n",
       "      <th>9</th>\n",
       "      <td>H2A</td>\n",
       "      <td>1.08</td>\n",
       "      <td>0.55</td>\n",
       "      <td>5</td>\n",
       "      <td>5</td>\n",
       "      <td>forward</td>\n",
       "    </tr>\n",
       "    <tr>\n",
       "      <th>10</th>\n",
       "      <td>F2Y</td>\n",
       "      <td>0.17</td>\n",
       "      <td>0.42</td>\n",
       "      <td>5</td>\n",
       "      <td>5</td>\n",
       "      <td>reverse</td>\n",
       "    </tr>\n",
       "    <tr>\n",
       "      <th>11</th>\n",
       "      <td>A2Y</td>\n",
       "      <td>-0.42</td>\n",
       "      <td>0.70</td>\n",
       "      <td>5</td>\n",
       "      <td>5</td>\n",
       "      <td>reverse</td>\n",
       "    </tr>\n",
       "    <tr>\n",
       "      <th>12</th>\n",
       "      <td>F2W</td>\n",
       "      <td>-0.26</td>\n",
       "      <td>0.63</td>\n",
       "      <td>5</td>\n",
       "      <td>5</td>\n",
       "      <td>reverse</td>\n",
       "    </tr>\n",
       "    <tr>\n",
       "      <th>13</th>\n",
       "      <td>A2T</td>\n",
       "      <td>-0.63</td>\n",
       "      <td>0.22</td>\n",
       "      <td>5</td>\n",
       "      <td>5</td>\n",
       "      <td>reverse</td>\n",
       "    </tr>\n",
       "    <tr>\n",
       "      <th>14</th>\n",
       "      <td>A2E</td>\n",
       "      <td>-5.06</td>\n",
       "      <td>1.30</td>\n",
       "      <td>5</td>\n",
       "      <td>5</td>\n",
       "      <td>reverse</td>\n",
       "    </tr>\n",
       "    <tr>\n",
       "      <th>15</th>\n",
       "      <td>A2D</td>\n",
       "      <td>-4.78</td>\n",
       "      <td>1.26</td>\n",
       "      <td>5</td>\n",
       "      <td>5</td>\n",
       "      <td>reverse</td>\n",
       "    </tr>\n",
       "    <tr>\n",
       "      <th>16</th>\n",
       "      <td>A2K</td>\n",
       "      <td>1.58</td>\n",
       "      <td>1.06</td>\n",
       "      <td>5</td>\n",
       "      <td>5</td>\n",
       "      <td>reverse</td>\n",
       "    </tr>\n",
       "    <tr>\n",
       "      <th>17</th>\n",
       "      <td>A2R</td>\n",
       "      <td>1.71</td>\n",
       "      <td>1.23</td>\n",
       "      <td>5</td>\n",
       "      <td>5</td>\n",
       "      <td>reverse</td>\n",
       "    </tr>\n",
       "    <tr>\n",
       "      <th>18</th>\n",
       "      <td>Q2R</td>\n",
       "      <td>1.70</td>\n",
       "      <td>1.21</td>\n",
       "      <td>5</td>\n",
       "      <td>5</td>\n",
       "      <td>reverse</td>\n",
       "    </tr>\n",
       "    <tr>\n",
       "      <th>19</th>\n",
       "      <td>A2H</td>\n",
       "      <td>-0.82</td>\n",
       "      <td>0.46</td>\n",
       "      <td>5</td>\n",
       "      <td>5</td>\n",
       "      <td>reverse</td>\n",
       "    </tr>\n",
       "  </tbody>\n",
       "</table>\n",
       "</div>"
      ],
      "text/plain": [
       "   Mutation  Predicted $\\Delta\\Delta$G (kcal/mol)  Error (kcal/mol)  \\\n",
       "0       Y2F                                 -0.10              0.41   \n",
       "1       Y2A                                  0.35              0.66   \n",
       "2       W2F                                  0.12              0.60   \n",
       "3       T2A                                  0.62              0.25   \n",
       "4       E2A                                  5.17              1.12   \n",
       "5       D2A                                  5.21              1.05   \n",
       "6       K2A                                 -1.73              1.27   \n",
       "7       R2A                                 -1.39              1.48   \n",
       "8       R2Q                                 -1.53              1.54   \n",
       "9       H2A                                  1.08              0.55   \n",
       "10      F2Y                                  0.17              0.42   \n",
       "11      A2Y                                 -0.42              0.70   \n",
       "12      F2W                                 -0.26              0.63   \n",
       "13      A2T                                 -0.63              0.22   \n",
       "14      A2E                                 -5.06              1.30   \n",
       "15      A2D                                 -4.78              1.26   \n",
       "16      A2K                                  1.58              1.06   \n",
       "17      A2R                                  1.71              1.23   \n",
       "18      Q2R                                  1.70              1.21   \n",
       "19      A2H                                 -0.82              0.46   \n",
       "\n",
       "    ACE-X-NME phase simulation time (ns/replica)  \\\n",
       "0                                              5   \n",
       "1                                              5   \n",
       "2                                              5   \n",
       "3                                              5   \n",
       "4                                              5   \n",
       "5                                              5   \n",
       "6                                              5   \n",
       "7                                              5   \n",
       "8                                              5   \n",
       "9                                              5   \n",
       "10                                             5   \n",
       "11                                             5   \n",
       "12                                             5   \n",
       "13                                             5   \n",
       "14                                             5   \n",
       "15                                             5   \n",
       "16                                             5   \n",
       "17                                             5   \n",
       "18                                             5   \n",
       "19                                             5   \n",
       "\n",
       "    ALA-X-ALA phase simulation time (ns/replica) Mutation direction  \n",
       "0                                              5            forward  \n",
       "1                                              5            forward  \n",
       "2                                              5            forward  \n",
       "3                                              5            forward  \n",
       "4                                              5            forward  \n",
       "5                                              5            forward  \n",
       "6                                              5            forward  \n",
       "7                                              5            forward  \n",
       "8                                              5            forward  \n",
       "9                                              5            forward  \n",
       "10                                             5            reverse  \n",
       "11                                             5            reverse  \n",
       "12                                             5            reverse  \n",
       "13                                             5            reverse  \n",
       "14                                             5            reverse  \n",
       "15                                             5            reverse  \n",
       "16                                             5            reverse  \n",
       "17                                             5            reverse  \n",
       "18                                             5            reverse  \n",
       "19                                             5            reverse  "
      ]
     },
     "execution_count": 36,
     "metadata": {},
     "output_type": "execute_result"
    }
   ],
   "source": [
    "df"
   ]
  },
  {
   "cell_type": "code",
   "execution_count": 37,
   "metadata": {},
   "outputs": [],
   "source": [
    "df.to_csv(\"/data/chodera/zhangi/perses_benchmark/repex/perses-bnbs-paper-fourth-attempt/table_terminally_blocked.csv\", index=False)"
   ]
  },
  {
   "cell_type": "code",
   "execution_count": null,
   "metadata": {},
   "outputs": [],
   "source": []
  }
 ],
 "metadata": {
  "kernelspec": {
   "display_name": "Python 3 (ipykernel)",
   "language": "python",
   "name": "python3"
  },
  "language_info": {
   "codemirror_mode": {
    "name": "ipython",
    "version": 3
   },
   "file_extension": ".py",
   "mimetype": "text/x-python",
   "name": "python",
   "nbconvert_exporter": "python",
   "pygments_lexer": "ipython3",
   "version": "3.9.13"
  }
 },
 "nbformat": 4,
 "nbformat_minor": 4
}
