{
 "cells": [
  {
   "cell_type": "code",
   "execution_count": 1,
   "id": "4ee53f91",
   "metadata": {},
   "outputs": [],
   "source": [
    "import os\n",
    "import pickle\n",
    "import numpy as np\n",
    "\n",
    "from collections import OrderedDict\n",
    "import matplotlib.pyplot as plt\n",
    "\n",
    "from openmm import unit\n",
    "from openmmtools.constants import kB\n",
    "KT_KCALMOL = kB * 300 * unit.kelvin / unit.kilocalories_per_mole"
   ]
  },
  {
   "cell_type": "code",
   "execution_count": 2,
   "id": "19f36fba",
   "metadata": {
    "scrolled": false
   },
   "outputs": [],
   "source": [
    "class DataPlotter(object):\n",
    "    \n",
    "    def __init__(self, d_labels_to_info):\n",
    "        \"\"\"\n",
    "        Parameters\n",
    "        ----------\n",
    "        d_labels_to_info : OrderedDict()\n",
    "            contains free energy data for each experiment\n",
    "            key : name of experiment (format: '{single letter amino acid of WT}{residue id}{single letter amino acid of mutant} \n",
    "                                                {phase} ({simulation type} r{replicate number})')\n",
    "            value : dict with the following keys:\n",
    "                key : list of file path(s) to free energy data\n",
    "                key : list of starting indices to use in slicing the free energy data\n",
    "                key : list of ending indices to use in slicing the free energy data\n",
    "                key : total iterations to analyze \n",
    "            \n",
    "            example: \n",
    "            d_labels_to_info = OrderedDict({\n",
    "                \"A42T complex (AREX r1)\": {\"file_paths\": \n",
    "                                                   [os.path.join(base_path, sub_dir, \"replicate_1\", f\"{phase}_free_energy_timeseries_1_50ns.pickle\")],\n",
    "                                               \"slice_begs\": [0],\n",
    "                                               \"slice_ends\": [50],\n",
    "                                               \"total_iterations\": 50000,\n",
    "                                              }\n",
    "                })\n",
    "        \"\"\"\n",
    "        \n",
    "        # Set unsampled states\n",
    "        self.first_unsampled_state_index = 0\n",
    "        self.last_unsampled_state_index = -1\n",
    "        \n",
    "        # Load data\n",
    "        data = OrderedDict()\n",
    "        for i, (label, d_info) in enumerate(d_labels_to_info.items()):\n",
    "            \n",
    "            file_paths = d_info[\"file_paths\"]\n",
    "            slice_begs = d_info[\"slice_begs\"]\n",
    "            slice_ends = d_info[\"slice_ends\"]\n",
    "            total_iterations = d_info[\"total_iterations\"]\n",
    "            \n",
    "            # Load free energy data\n",
    "            for j, (file_path, slice_beg, slice_end) in enumerate(zip(file_paths, slice_begs, slice_ends)):\n",
    "                \n",
    "                if j == 0:\n",
    "                    with open(file_path, \"rb\") as f:\n",
    "                        results = pickle.load(f)\n",
    "                    data[label] = {\"results\": results[slice_beg:slice_end]}\n",
    "                \n",
    "                else:\n",
    "                    with open(file_path, \"rb\") as f:\n",
    "                        results = pickle.load(f)\n",
    "                    data[label][\"results\"] += results[slice_beg:slice_end]\n",
    "            \n",
    "            data[label][\"total_iterations\"] = total_iterations\n",
    "                \n",
    "        self.data = data\n",
    "        \n",
    "        # Set colors\n",
    "        prop_cycle = plt.rcParams[\"axes.prop_cycle\"]\n",
    "        self.colors = prop_cycle.by_key()[\"color\"]\n",
    "\n",
    "    def _generate_bias_plot(self, save_path=None, override_title=None):\n",
    "        \"\"\"\n",
    "        Generate bias (aka discrepancy) with respect to \"true\" dg plot\n",
    "        Where \"true\" dg was determined from taking the average of 3 replicates of 100 ns/replica simulations\n",
    "        \n",
    "        Parameters\n",
    "        ----------\n",
    "        save_path : str\n",
    "            filepath at which to save the figure\n",
    "        override_title : str, default None\n",
    "            title use instead of the experiment name in d_labels_info\n",
    "        \"\"\"\n",
    "        # Set figure size\n",
    "        fig, axes = plt.subplots(nrows=1, ncols=1, sharex='col', figsize=(8, 5))\n",
    "        \n",
    "        # Assemble biases and errors -- each dict will contain subdicts for each replicate\n",
    "        biases = {}\n",
    "        errors = {}\n",
    "        labels = []\n",
    "        for i, (label, data) in enumerate(self.data.items()):\n",
    "            \n",
    "            # Retrieve label\n",
    "            title = label.split(\"(\")[0][:-1]\n",
    "            experiment_label = label.split(\"(\")[-1][:-1]\n",
    "            replicate = experiment_label[-1]\n",
    "            rest_label = experiment_label[:-3]\n",
    "            if rest_label not in labels:\n",
    "                labels.append(rest_label)\n",
    "            \n",
    "             # Set true free energy values\n",
    "            if \"A42T\" in title:\n",
    "                true_dg = -33.63 # averaged across repex trajs 45/9/replicate_0-2\n",
    "            elif \"R87A\" in title:\n",
    "                true_dg = 105.51 # averaged across repex trajs 45/10/replicate_0-2\n",
    "\n",
    "            # Retrieve free energies and errors\n",
    "            dgs = np.array([results[\"Deltaf\"][self.first_unsampled_state_index, self.last_unsampled_state_index] * KT_KCALMOL for results in data[\"results\"]])\n",
    "            ddgs = np.array([results[\"dDeltaf\"][self.first_unsampled_state_index, self.last_unsampled_state_index] * KT_KCALMOL for results in data[\"results\"]])\n",
    "            \n",
    "            # Store bias and error\n",
    "            \n",
    "            if replicate not in biases:\n",
    "                biases[replicate] = [dgs[-1] - true_dg]\n",
    "                errors[replicate] = [ddgs[-1]]\n",
    "            else:\n",
    "                biases[replicate].append(dgs[-1] - true_dg)\n",
    "                errors[replicate].append(ddgs[-1])\n",
    "        \n",
    "        # Set colors\n",
    "        colors = [\"#FFDA00\", \"#fdb462\", \"#fb8072\"]\n",
    "        \n",
    "        # Set font size\n",
    "        plt.rc('font', size=15) \n",
    "        \n",
    "        # Set marker size\n",
    "        size = 100\n",
    "        \n",
    "        # Plot no rest experiment (average)\n",
    "        biases = np.array([biases[r] for r in biases])\n",
    "        errors = np.array([errors[r] for r in errors])\n",
    "        plt.scatter(labels[0], np.mean(biases[:, 0]), color=\"#80b1d3\", marker=\"o\", label=\"no rest\", s=size)\n",
    "        \n",
    "        # Plot no rest experiment (each replicate)\n",
    "        for replicate in range(len(biases)):\n",
    "            plt.scatter(labels[0], biases[replicate][0], color=\"#80b1d3\", marker=\"+\", label=\"no rest\", alpha=0.5, s=size)\n",
    "      \n",
    "        # Make plot\n",
    "        for i, label in enumerate(labels[1:]):\n",
    "            \n",
    "            # Plot the average\n",
    "            plt.scatter(label, np.mean(biases[:, i+1]), color=colors[i%3], marker=\"o\", label=label, s=size)\n",
    "            \n",
    "            # Plot each replicate\n",
    "            for replicate in range(len(biases)):\n",
    "                plt.scatter(label, biases[replicate][i+1], color=colors[i%3], marker=\"+\", label=label, alpha=0.5, s=size)\n",
    "        \n",
    "        # Label axes   \n",
    "        plt.xlabel(\"Rest parameter combination\")\n",
    "        DDG = r\"$\\Delta G_\\mathrm{complex}$\"\n",
    "        plt.ylabel(f\"{DDG} discrepancy\\n(kcal/mol)\")\n",
    "        plt.xticks(rotation=45, ha='right')\n",
    "        \n",
    "        # Set y axis\n",
    "        plt.ylim([-1, 6])\n",
    "        \n",
    "        # Set title\n",
    "        if override_title:\n",
    "            plt.title(override_title)\n",
    "        else:\n",
    "            plt.title(title)\n",
    "        \n",
    "        # Ensure x-axis labels are not cut off\n",
    "        plt.tight_layout()\n",
    "    \n",
    "        # Save plot as pdf\n",
    "        if save_path:\n",
    "            plt.savefig(save_path, dpi=500)\n",
    "            plt.show()\n",
    "            plt.clf()\n",
    "        else:\n",
    "            plt.show()\n",
    "\n"
   ]
  },
  {
   "cell_type": "markdown",
   "id": "85d3e12b",
   "metadata": {},
   "source": [
    "# Retrieve \"true\" free energies"
   ]
  },
  {
   "cell_type": "code",
   "execution_count": 16,
   "id": "af9b2894",
   "metadata": {},
   "outputs": [
    {
     "name": "stdout",
     "output_type": "stream",
     "text": [
      "mean:  -33.632078639834624\n",
      "stderr:  0.20294620849662107\n"
     ]
    }
   ],
   "source": [
    "main_dir = 45\n",
    "sub_dir = 9\n",
    "phase = 'complex'\n",
    "length = 100\n",
    "dgs = []\n",
    "for replicate in range(3):\n",
    "    with open(f\"/data/chodera/zhangi/perses_benchmark/repex/perses-bnbs-paper-fourth-attempt/{main_dir}/{sub_dir}/replicate_{replicate}/{phase}_free_energy_bootstrapped_{length}ns.pickle\", \"rb\") as f:\n",
    "        results = pickle.load(f)\n",
    "        dgs.append(results[\"Deltaf\"][0, -1]*KT_KCALMOL)\n",
    "print(\"mean: \", np.mean(dgs))\n",
    "print(\"stderr: \", np.std(dgs))"
   ]
  },
  {
   "cell_type": "code",
   "execution_count": 17,
   "id": "67269705",
   "metadata": {
    "scrolled": true
   },
   "outputs": [
    {
     "name": "stdout",
     "output_type": "stream",
     "text": [
      "mean:  105.50988496475792\n",
      "stderr:  0.7531834936527076\n"
     ]
    }
   ],
   "source": [
    "main_dir = 45\n",
    "sub_dir = 10\n",
    "phase = 'complex'\n",
    "length = 100\n",
    "dgs = []\n",
    "for replicate in range(3):\n",
    "    with open(f\"/data/chodera/zhangi/perses_benchmark/repex/perses-bnbs-paper-fourth-attempt/{main_dir}/{sub_dir}/replicate_{replicate}/{phase}_free_energy_bootstrapped_{length}ns.pickle\", \"rb\") as f:\n",
    "        results = pickle.load(f)\n",
    "        dgs.append(results[\"Deltaf\"][0, -1]*KT_KCALMOL)\n",
    "print(\"mean: \",np.mean(dgs))\n",
    "print(\"stderr: \", np.std(dgs))"
   ]
  },
  {
   "cell_type": "markdown",
   "id": "eca90766",
   "metadata": {},
   "source": [
    "# A42T complex 10 ns (3 replicates)"
   ]
  },
  {
   "cell_type": "code",
   "execution_count": 17,
   "id": "c97d6662",
   "metadata": {
    "scrolled": false
   },
   "outputs": [
    {
     "data": {
      "image/png": "[encoded data removed]",
      "text/plain": [
       "<Figure size 576x360 with 1 Axes>"
      ]
     },
     "metadata": {
      "needs_background": "light"
     },
     "output_type": "display_data"
    },
    {
     "data": {
      "text/plain": [
       "<Figure size 432x288 with 0 Axes>"
      ]
     },
     "metadata": {},
     "output_type": "display_data"
    }
   ],
   "source": [
    "main_dir_norest = 45\n",
    "main_dir_rest = 49\n",
    "phase = 'complex'\n",
    "base_path_norest = f\"/data/chodera/zhangi/perses_benchmark/repex/perses-bnbs-paper-fourth-attempt/{main_dir_norest}\"\n",
    "base_path_rest = f\"/data/chodera/zhangi/perses_benchmark/repex/perses-bnbs-paper-fourth-attempt/{main_dir_rest}/\"\n",
    "sub_dir = \"9\"\n",
    "\n",
    "d_labels_to_info = OrderedDict({\n",
    "                    f\"A42T complex (no rest r0)\": {\"file_paths\": \n",
    "                                                   [os.path.join(base_path_norest, \"9\", f\"replicate_0\", f\"{phase}_free_energy_timeseries_1_50ns.pickle\")],\n",
    "                                               \"slice_begs\": [0],\n",
    "                                               \"slice_ends\": [10],\n",
    "                                               \"total_iterations\": 10000,\n",
    "                                              },\n",
    "                    \"A42T complex (no rest r1)\": {\"file_paths\": \n",
    "                                                   [os.path.join(base_path_norest, \"9\", f\"replicate_1\", f\"{phase}_free_energy_timeseries_1_50ns.pickle\")],\n",
    "                                               \"slice_begs\": [0],\n",
    "                                               \"slice_ends\": [10],\n",
    "                                               \"total_iterations\": 10000,\n",
    "                                              },\n",
    "                    \"A42T complex (no rest r2)\": {\"file_paths\": \n",
    "                                                   [os.path.join(base_path_norest, \"9\", f\"replicate_2\", f\"{phase}_free_energy_timeseries_1_50ns.pickle\")],\n",
    "                                               \"slice_begs\": [0],\n",
    "                                               \"slice_ends\": [10],\n",
    "                                               \"total_iterations\": 10000,\n",
    "                                              }\n",
    "                    })\n",
    "\n",
    "labels = [\"0.3 nm | 400 K\", \"0.3 nm | 600 K\", \"0.3 nm | 1200 K\", \"0.5 nm | 400 K\", \"0.5 nm 600 K\", \"0.5 nm | 1200 K\", \"0.7 nm | 400 K\", \"0.7 nm | 600 K\", \"0.7 nm | 1200 K\"]\n",
    "for sub_dir in range(9):\n",
    "    d_labels_to_info[f\"A42T complex ({labels[sub_dir]} r0)\"] = {\"file_paths\": \n",
    "                                                   [os.path.join(base_path_rest, str(sub_dir), f\"replicate_0\", f\"{phase}_free_energy_timeseries_1_10ns.pickle\")],\n",
    "                                               \"slice_begs\": [0],\n",
    "                                               \"slice_ends\": [10],\n",
    "                                               \"total_iterations\": 10000,\n",
    "                                              }\n",
    "    d_labels_to_info[f\"A42T complex ({labels[sub_dir]} r1)\"] = {\"file_paths\": \n",
    "                                                   [os.path.join(base_path_rest, str(sub_dir), f\"replicate_1\", f\"{phase}_free_energy_timeseries_1_10ns.pickle\")],\n",
    "                                               \"slice_begs\": [0],\n",
    "                                               \"slice_ends\": [10],\n",
    "                                               \"total_iterations\": 10000,\n",
    "                                              }\n",
    "    d_labels_to_info[f\"A42T complex ({labels[sub_dir]} r2)\"] = {\"file_paths\": \n",
    "                                                   [os.path.join(base_path_rest, str(sub_dir), f\"replicate_2\", f\"{phase}_free_energy_timeseries_1_10ns.pickle\")],\n",
    "                                               \"slice_begs\": [0],\n",
    "                                               \"slice_ends\": [10],\n",
    "                                               \"total_iterations\": 10000,\n",
    "                                              }\n",
    "    \n",
    "save_path = os.path.join(base_path_rest, \"A42T_10ns_bias_plot.pdf\")\n",
    "data_plotter = DataPlotter(d_labels_to_info)\n",
    "data_plotter._generate_bias_plot(override_title=\"A42T - 10 ns\", save_path=save_path)"
   ]
  },
  {
   "cell_type": "markdown",
   "id": "4d51af63",
   "metadata": {},
   "source": [
    "# R87A complex 10 ns (3 replicates)"
   ]
  },
  {
   "cell_type": "code",
   "execution_count": 18,
   "id": "eeba00c8",
   "metadata": {
    "scrolled": false
   },
   "outputs": [
    {
     "data": {
      "image/png": "[encoded data removed]",
      "text/plain": [
       "<Figure size 576x360 with 1 Axes>"
      ]
     },
     "metadata": {
      "needs_background": "light"
     },
     "output_type": "display_data"
    },
    {
     "data": {
      "text/plain": [
       "<Figure size 432x288 with 0 Axes>"
      ]
     },
     "metadata": {},
     "output_type": "display_data"
    }
   ],
   "source": [
    "main_dir_norest = 45\n",
    "main_dir_rest = 49\n",
    "phase = 'complex'\n",
    "base_path_norest = f\"/data/chodera/zhangi/perses_benchmark/repex/perses-bnbs-paper-fourth-attempt/{main_dir_norest}\"\n",
    "base_path_rest = f\"/data/chodera/zhangi/perses_benchmark/repex/perses-bnbs-paper-fourth-attempt/{main_dir_rest}/\"\n",
    "sub_dir = \"10\"\n",
    "\n",
    "\n",
    "d_labels_to_info = OrderedDict({\n",
    "                    f\"R87A complex (no rest r0)\": {\"file_paths\": \n",
    "                                                   [os.path.join(base_path_norest, \"10\", f\"replicate_0\", f\"{phase}_free_energy_timeseries_1_50ns.pickle\")],\n",
    "                                               \"slice_begs\": [0],\n",
    "                                               \"slice_ends\": [10],\n",
    "                                               \"total_iterations\": 10000,\n",
    "                                              },\n",
    "                    \"R87A complex (no rest r1)\": {\"file_paths\": \n",
    "                                                   [os.path.join(base_path_norest, \"10\", f\"replicate_1\", f\"{phase}_free_energy_timeseries_1_50ns.pickle\")],\n",
    "                                               \"slice_begs\": [0],\n",
    "                                               \"slice_ends\": [10],\n",
    "                                               \"total_iterations\": 10000,\n",
    "                                              },\n",
    "                    \"R87A complex (no rest r2)\": {\"file_paths\": \n",
    "                                                   [os.path.join(base_path_norest, \"10\", f\"replicate_2\", f\"{phase}_free_energy_timeseries_1_50ns.pickle\")],\n",
    "                                               \"slice_begs\": [0],\n",
    "                                               \"slice_ends\": [10],\n",
    "                                               \"total_iterations\": 10000,\n",
    "                                              },\n",
    "                    })\n",
    "\n",
    "labels = [\"0.3 nm | 400 K\", \"0.3 nm | 600 K\", \"0.3 nm | 1200 K\", \"0.5 nm | 400 K\", \"0.5 nm 600 K\", \"0.5 nm | 1200 K\", \"0.7 nm | 400 K\", \"0.7 nm | 600 K\", \"0.7 nm | 1200 K\"]\n",
    "for sub_dir in range(9, 18):\n",
    "\n",
    "    d_labels_to_info[f\"R87A complex ({labels[sub_dir-9]} r0)\"] = {\"file_paths\": \n",
    "                                                   [os.path.join(base_path_rest, str(sub_dir), f\"replicate_0\", f\"{phase}_free_energy_timeseries_1_30ns.pickle\")],\n",
    "                                               \"slice_begs\": [0],\n",
    "                                               \"slice_ends\": [10],\n",
    "                                               \"total_iterations\": 10000,\n",
    "                                              }\n",
    "    d_labels_to_info[f\"R87A complex ({labels[sub_dir-9]} r1)\"] = {\"file_paths\": \n",
    "                                                   [os.path.join(base_path_rest, str(sub_dir), f\"replicate_1\", f\"{phase}_free_energy_timeseries_1_30ns.pickle\")],\n",
    "                                               \"slice_begs\": [0],\n",
    "                                               \"slice_ends\": [10],\n",
    "                                               \"total_iterations\": 10000,\n",
    "                                              }\n",
    "    d_labels_to_info[f\"R87A complex ({labels[sub_dir-9]} r2)\"] = {\"file_paths\": \n",
    "                                                   [os.path.join(base_path_rest, str(sub_dir), f\"replicate_2\", f\"{phase}_free_energy_timeseries_1_30ns.pickle\")],\n",
    "                                               \"slice_begs\": [0],\n",
    "                                               \"slice_ends\": [10],\n",
    "                                               \"total_iterations\": 10000,\n",
    "                                              }\n",
    "    \n",
    "save_path = os.path.join(base_path_rest, \"R87A_10ns_bias_plot.pdf\")\n",
    "data_plotter = DataPlotter(d_labels_to_info)\n",
    "data_plotter._generate_bias_plot(override_title=\"R87A - 10 ns\", save_path=save_path)"
   ]
  },
  {
   "cell_type": "markdown",
   "id": "798fbf2f",
   "metadata": {},
   "source": [
    "# A42T complex 2 ns (3 replicates)"
   ]
  },
  {
   "cell_type": "code",
   "execution_count": 19,
   "id": "554ecd66",
   "metadata": {},
   "outputs": [
    {
     "data": {
      "image/png": "[encoded data removed]",
      "text/plain": [
       "<Figure size 576x360 with 1 Axes>"
      ]
     },
     "metadata": {
      "needs_background": "light"
     },
     "output_type": "display_data"
    },
    {
     "data": {
      "text/plain": [
       "<Figure size 432x288 with 0 Axes>"
      ]
     },
     "metadata": {},
     "output_type": "display_data"
    }
   ],
   "source": [
    "main_dir_norest = 45\n",
    "main_dir_rest = 49\n",
    "phase = 'complex'\n",
    "base_path_norest = f\"/data/chodera/zhangi/perses_benchmark/repex/perses-bnbs-paper-fourth-attempt/{main_dir_norest}\"\n",
    "base_path_rest = f\"/data/chodera/zhangi/perses_benchmark/repex/perses-bnbs-paper-fourth-attempt/{main_dir_rest}/\"\n",
    "sub_dir = \"9\"\n",
    "\n",
    "d_labels_to_info = OrderedDict({\n",
    "                    f\"A42T complex (no rest r0)\": {\"file_paths\": \n",
    "                                                   [os.path.join(base_path_norest, \"9\", f\"replicate_0\", f\"{phase}_free_energy_timeseries_1_50ns.pickle\")],\n",
    "                                               \"slice_begs\": [0],\n",
    "                                               \"slice_ends\": [2],\n",
    "                                               \"total_iterations\": 2000,\n",
    "                                              },\n",
    "                    \"A42T complex (no rest r1)\": {\"file_paths\": \n",
    "                                                   [os.path.join(base_path_norest, \"9\", f\"replicate_1\", f\"{phase}_free_energy_timeseries_1_50ns.pickle\")],\n",
    "                                               \"slice_begs\": [0],\n",
    "                                               \"slice_ends\": [2],\n",
    "                                               \"total_iterations\": 2000,\n",
    "                                              },\n",
    "                    \"A42T complex (no rest r2)\": {\"file_paths\": \n",
    "                                                   [os.path.join(base_path_norest, \"9\", f\"replicate_2\", f\"{phase}_free_energy_timeseries_1_50ns.pickle\")],\n",
    "                                               \"slice_begs\": [0],\n",
    "                                               \"slice_ends\": [2],\n",
    "                                               \"total_iterations\": 2000,\n",
    "                                              }\n",
    "                    })\n",
    "\n",
    "labels = [\"0.3 nm | 400 K\", \"0.3 nm | 600 K\", \"0.3 nm | 1200 K\", \"0.5 nm | 400 K\", \"0.5 nm 600 K\", \"0.5 nm | 1200 K\", \"0.7 nm | 400 K\", \"0.7 nm | 600 K\", \"0.7 nm | 1200 K\"]\n",
    "for sub_dir in range(9):\n",
    "\n",
    "    d_labels_to_info[f\"A42T complex ({labels[sub_dir]} r0)\"] = {\"file_paths\": \n",
    "                                                   [os.path.join(base_path_rest, str(sub_dir), f\"replicate_0\", f\"{phase}_free_energy_timeseries_1_10ns.pickle\")],\n",
    "                                               \"slice_begs\": [0],\n",
    "                                               \"slice_ends\": [2],\n",
    "                                               \"total_iterations\": 2000,\n",
    "                                              }\n",
    "    d_labels_to_info[f\"A42T complex ({labels[sub_dir]} r1)\"] = {\"file_paths\": \n",
    "                                                   [os.path.join(base_path_rest, str(sub_dir), f\"replicate_1\", f\"{phase}_free_energy_timeseries_1_10ns.pickle\")],\n",
    "                                               \"slice_begs\": [0],\n",
    "                                               \"slice_ends\": [2],\n",
    "                                               \"total_iterations\": 2000,\n",
    "                                              }\n",
    "    d_labels_to_info[f\"A42T complex ({labels[sub_dir]} r2)\"] = {\"file_paths\": \n",
    "                                                   [os.path.join(base_path_rest, str(sub_dir), f\"replicate_2\", f\"{phase}_free_energy_timeseries_1_10ns.pickle\")],\n",
    "                                               \"slice_begs\": [0],\n",
    "                                               \"slice_ends\": [2],\n",
    "                                               \"total_iterations\": 2000,\n",
    "                                              }\n",
    "\n",
    "save_path = os.path.join(base_path_rest, \"A42T_2ns_bias_plot.pdf\")    \n",
    "data_plotter = DataPlotter(d_labels_to_info)\n",
    "data_plotter._generate_bias_plot(override_title=\"A42T - 2 ns\", save_path=save_path)"
   ]
  },
  {
   "cell_type": "code",
   "execution_count": null,
   "id": "4a74cfa5",
   "metadata": {},
   "outputs": [],
   "source": []
  },
  {
   "cell_type": "code",
   "execution_count": null,
   "id": "12a8fc3d",
   "metadata": {},
   "outputs": [],
   "source": []
  }
 ],
 "metadata": {
  "kernelspec": {
   "display_name": "Python 3 (ipykernel)",
   "language": "python",
   "name": "python3"
  },
  "language_info": {
   "codemirror_mode": {
    "name": "ipython",
    "version": 3
   },
   "file_extension": ".py",
   "mimetype": "text/x-python",
   "name": "python",
   "nbconvert_exporter": "python",
   "pygments_lexer": "ipython3",
   "version": "3.10.8"
  }
 },
 "nbformat": 4,
 "nbformat_minor": 5
}
